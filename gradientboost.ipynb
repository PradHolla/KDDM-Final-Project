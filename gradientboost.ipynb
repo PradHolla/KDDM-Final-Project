{
 "cells": [
  {
   "cell_type": "code",
   "execution_count": 1,
   "metadata": {},
   "outputs": [],
   "source": [
    "import pandas as pd\n",
    "import numpy as np\n",
    "import plotly.express as px\n",
    "from plotly.subplots import make_subplots\n",
    "from plotly.colors import qualitative\n",
    "import plotly.graph_objects as go\n",
    "from sklearn.model_selection import train_test_split\n",
    "from sklearn.ensemble import GradientBoostingClassifier\n",
    "from sklearn.preprocessing import StandardScaler\n",
    "from sklearn.metrics import accuracy_score, confusion_matrix, classification_report"
   ]
  },
  {
   "cell_type": "code",
   "execution_count": 2,
   "metadata": {},
   "outputs": [
    {
     "data": {
      "text/html": [
       "<div>\n",
       "<style scoped>\n",
       "    .dataframe tbody tr th:only-of-type {\n",
       "        vertical-align: middle;\n",
       "    }\n",
       "\n",
       "    .dataframe tbody tr th {\n",
       "        vertical-align: top;\n",
       "    }\n",
       "\n",
       "    .dataframe thead th {\n",
       "        text-align: right;\n",
       "    }\n",
       "</style>\n",
       "<table border=\"1\" class=\"dataframe\">\n",
       "  <thead>\n",
       "    <tr style=\"text-align: right;\">\n",
       "      <th></th>\n",
       "      <th>satisfaction</th>\n",
       "      <th>gender</th>\n",
       "      <th>customer_type</th>\n",
       "      <th>age</th>\n",
       "      <th>type_of_travel</th>\n",
       "      <th>class</th>\n",
       "      <th>flight_distance</th>\n",
       "      <th>seat_comfort</th>\n",
       "      <th>departure_arrival_time_convenient</th>\n",
       "      <th>food_and_drink</th>\n",
       "      <th>...</th>\n",
       "      <th>online_support</th>\n",
       "      <th>ease_of_online_booking</th>\n",
       "      <th>on-board_service</th>\n",
       "      <th>leg_room_service</th>\n",
       "      <th>baggage_handling</th>\n",
       "      <th>checkin_service</th>\n",
       "      <th>cleanliness</th>\n",
       "      <th>online_boarding</th>\n",
       "      <th>departure_delay_in_minutes</th>\n",
       "      <th>arrival_delay_in_minutes</th>\n",
       "    </tr>\n",
       "  </thead>\n",
       "  <tbody>\n",
       "    <tr>\n",
       "      <th>0</th>\n",
       "      <td>satisfied</td>\n",
       "      <td>Female</td>\n",
       "      <td>Loyal Customer</td>\n",
       "      <td>65</td>\n",
       "      <td>Personal Travel</td>\n",
       "      <td>Eco</td>\n",
       "      <td>265</td>\n",
       "      <td>0</td>\n",
       "      <td>0</td>\n",
       "      <td>0</td>\n",
       "      <td>...</td>\n",
       "      <td>2</td>\n",
       "      <td>3</td>\n",
       "      <td>3</td>\n",
       "      <td>0</td>\n",
       "      <td>3</td>\n",
       "      <td>5</td>\n",
       "      <td>3</td>\n",
       "      <td>2</td>\n",
       "      <td>0</td>\n",
       "      <td>0.0</td>\n",
       "    </tr>\n",
       "    <tr>\n",
       "      <th>1</th>\n",
       "      <td>satisfied</td>\n",
       "      <td>Male</td>\n",
       "      <td>Loyal Customer</td>\n",
       "      <td>47</td>\n",
       "      <td>Personal Travel</td>\n",
       "      <td>Business</td>\n",
       "      <td>2464</td>\n",
       "      <td>0</td>\n",
       "      <td>0</td>\n",
       "      <td>0</td>\n",
       "      <td>...</td>\n",
       "      <td>2</td>\n",
       "      <td>3</td>\n",
       "      <td>4</td>\n",
       "      <td>4</td>\n",
       "      <td>4</td>\n",
       "      <td>2</td>\n",
       "      <td>3</td>\n",
       "      <td>2</td>\n",
       "      <td>310</td>\n",
       "      <td>305.0</td>\n",
       "    </tr>\n",
       "    <tr>\n",
       "      <th>2</th>\n",
       "      <td>satisfied</td>\n",
       "      <td>Female</td>\n",
       "      <td>Loyal Customer</td>\n",
       "      <td>15</td>\n",
       "      <td>Personal Travel</td>\n",
       "      <td>Eco</td>\n",
       "      <td>2138</td>\n",
       "      <td>0</td>\n",
       "      <td>0</td>\n",
       "      <td>0</td>\n",
       "      <td>...</td>\n",
       "      <td>2</td>\n",
       "      <td>2</td>\n",
       "      <td>3</td>\n",
       "      <td>3</td>\n",
       "      <td>4</td>\n",
       "      <td>4</td>\n",
       "      <td>4</td>\n",
       "      <td>2</td>\n",
       "      <td>0</td>\n",
       "      <td>0.0</td>\n",
       "    </tr>\n",
       "    <tr>\n",
       "      <th>3</th>\n",
       "      <td>satisfied</td>\n",
       "      <td>Female</td>\n",
       "      <td>Loyal Customer</td>\n",
       "      <td>60</td>\n",
       "      <td>Personal Travel</td>\n",
       "      <td>Eco</td>\n",
       "      <td>623</td>\n",
       "      <td>0</td>\n",
       "      <td>0</td>\n",
       "      <td>0</td>\n",
       "      <td>...</td>\n",
       "      <td>3</td>\n",
       "      <td>1</td>\n",
       "      <td>1</td>\n",
       "      <td>0</td>\n",
       "      <td>1</td>\n",
       "      <td>4</td>\n",
       "      <td>1</td>\n",
       "      <td>3</td>\n",
       "      <td>0</td>\n",
       "      <td>0.0</td>\n",
       "    </tr>\n",
       "    <tr>\n",
       "      <th>4</th>\n",
       "      <td>satisfied</td>\n",
       "      <td>Female</td>\n",
       "      <td>Loyal Customer</td>\n",
       "      <td>70</td>\n",
       "      <td>Personal Travel</td>\n",
       "      <td>Eco</td>\n",
       "      <td>354</td>\n",
       "      <td>0</td>\n",
       "      <td>0</td>\n",
       "      <td>0</td>\n",
       "      <td>...</td>\n",
       "      <td>4</td>\n",
       "      <td>2</td>\n",
       "      <td>2</td>\n",
       "      <td>0</td>\n",
       "      <td>2</td>\n",
       "      <td>4</td>\n",
       "      <td>2</td>\n",
       "      <td>5</td>\n",
       "      <td>0</td>\n",
       "      <td>0.0</td>\n",
       "    </tr>\n",
       "  </tbody>\n",
       "</table>\n",
       "<p>5 rows × 23 columns</p>\n",
       "</div>"
      ],
      "text/plain": [
       "  satisfaction  gender   customer_type  age   type_of_travel     class  \\\n",
       "0    satisfied  Female  Loyal Customer   65  Personal Travel       Eco   \n",
       "1    satisfied    Male  Loyal Customer   47  Personal Travel  Business   \n",
       "2    satisfied  Female  Loyal Customer   15  Personal Travel       Eco   \n",
       "3    satisfied  Female  Loyal Customer   60  Personal Travel       Eco   \n",
       "4    satisfied  Female  Loyal Customer   70  Personal Travel       Eco   \n",
       "\n",
       "   flight_distance  seat_comfort  departure_arrival_time_convenient  \\\n",
       "0              265             0                                  0   \n",
       "1             2464             0                                  0   \n",
       "2             2138             0                                  0   \n",
       "3              623             0                                  0   \n",
       "4              354             0                                  0   \n",
       "\n",
       "   food_and_drink  ...  online_support  ease_of_online_booking  \\\n",
       "0               0  ...               2                       3   \n",
       "1               0  ...               2                       3   \n",
       "2               0  ...               2                       2   \n",
       "3               0  ...               3                       1   \n",
       "4               0  ...               4                       2   \n",
       "\n",
       "   on-board_service  leg_room_service  baggage_handling  checkin_service  \\\n",
       "0                 3                 0                 3                5   \n",
       "1                 4                 4                 4                2   \n",
       "2                 3                 3                 4                4   \n",
       "3                 1                 0                 1                4   \n",
       "4                 2                 0                 2                4   \n",
       "\n",
       "   cleanliness  online_boarding  departure_delay_in_minutes  \\\n",
       "0            3                2                           0   \n",
       "1            3                2                         310   \n",
       "2            4                2                           0   \n",
       "3            1                3                           0   \n",
       "4            2                5                           0   \n",
       "\n",
       "   arrival_delay_in_minutes  \n",
       "0                       0.0  \n",
       "1                     305.0  \n",
       "2                       0.0  \n",
       "3                       0.0  \n",
       "4                       0.0  \n",
       "\n",
       "[5 rows x 23 columns]"
      ]
     },
     "execution_count": 2,
     "metadata": {},
     "output_type": "execute_result"
    }
   ],
   "source": [
    "# Read the dataset\n",
    "df = pd.read_csv(\"dataset/satisfaction.csv\")\n",
    "# Dropping the id column as it is not necessary\n",
    "df = df.drop(columns=['id'])\n",
    "\n",
    "# Renaming the columns for better readability\n",
    "df = df.rename(columns={'satisfaction_v2': 'satisfaction'})\n",
    "df = df.rename(columns={'Departure/Arrival time convenient': 'departure_arrival_time_convenient'})\n",
    "\n",
    "# Lowercase all column names and replace spaces with underscores\n",
    "df.columns = df.columns.str.lower().str.replace(' ', '_')\n",
    "df = df.dropna(axis=0)\n",
    "\n",
    "df.head()"
   ]
  },
  {
   "cell_type": "code",
   "execution_count": 3,
   "metadata": {},
   "outputs": [],
   "source": [
    "df['satisfaction'] = df['satisfaction'].map({'neutral or dissatisfied':0 , 'satisfied':1})\n",
    "df['customer_type'] = df['customer_type'].map({'Loyal Customer':1, 'disloyal Customer':0})\n",
    "df['type_of_travel'] = df['type_of_travel'].map({'Personal Travel':0, 'Business travel':1})\n",
    "df['class'] = df['class'].map({'Eco':0, 'Eco Plus':1, 'Business':2})\n",
    "df = df.drop(columns=['gender'])"
   ]
  },
  {
   "cell_type": "code",
   "execution_count": 4,
   "metadata": {},
   "outputs": [],
   "source": [
    "# Data Splitting\n",
    "X = df.drop(columns=['satisfaction'])\n",
    "y = df['satisfaction']\n",
    "\n",
    "X_train, X_test, y_train, y_test = train_test_split(X, y, test_size=0.1, random_state=0)"
   ]
  },
  {
   "cell_type": "code",
   "execution_count": 5,
   "metadata": {},
   "outputs": [],
   "source": [
    "# Scaling the data\n",
    "scaler = StandardScaler()\n",
    "X_train = scaler.fit_transform(X_train)\n",
    "X_test = scaler.transform(X_test)"
   ]
  },
  {
   "cell_type": "code",
   "execution_count": 6,
   "metadata": {},
   "outputs": [],
   "source": [
    "model = GradientBoostingClassifier(n_estimators=500) # Creating the model\n",
    "\n",
    "model.fit(X_train, y_train) # Training the model\n",
    "\n",
    "y_pred = model.predict(X_test) # Making predictions"
   ]
  },
  {
   "cell_type": "code",
   "execution_count": 7,
   "metadata": {},
   "outputs": [
    {
     "name": "stdout",
     "output_type": "stream",
     "text": [
      "Accuracy: 0.9438566684686076\n",
      "Confusion Matrix: \n",
      "[[5557  325]\n",
      " [ 402 6665]]\n",
      "              precision    recall  f1-score   support\n",
      "\n",
      "           0       0.93      0.94      0.94      5882\n",
      "           1       0.95      0.94      0.95      7067\n",
      "\n",
      "    accuracy                           0.94     12949\n",
      "   macro avg       0.94      0.94      0.94     12949\n",
      "weighted avg       0.94      0.94      0.94     12949\n",
      "\n"
     ]
    }
   ],
   "source": [
    "accuracy = accuracy_score(y_test, y_pred)\n",
    "print(f\"Accuracy: {accuracy}\")\n",
    "\n",
    "cm = confusion_matrix(y_test, y_pred)\n",
    "print(f\"Confusion Matrix: \\n{cm}\")\n",
    "\n",
    "print(classification_report(y_test, y_pred))"
   ]
  },
  {
   "cell_type": "code",
   "execution_count": 8,
   "metadata": {},
   "outputs": [
    {
     "data": {
      "application/vnd.plotly.v1+json": {
       "config": {
        "plotlyServerURL": "https://plot.ly"
       },
       "data": [
        {
         "alignmentgroup": "True",
         "hovertemplate": "Feature=%{x}<br>Importance=%{y}<extra></extra>",
         "legendgroup": "",
         "marker": {
          "color": "#636efa",
          "pattern": {
           "shape": ""
          }
         },
         "name": "",
         "offsetgroup": "",
         "orientation": "v",
         "showlegend": false,
         "textposition": "auto",
         "type": "bar",
         "x": [
          "inflight_entertainment",
          "seat_comfort",
          "ease_of_online_booking",
          "customer_type",
          "leg_room_service",
          "class",
          "on-board_service",
          "departure_arrival_time_convenient",
          "online_support",
          "type_of_travel",
          "checkin_service",
          "online_boarding",
          "gate_location",
          "baggage_handling",
          "cleanliness",
          "flight_distance",
          "age",
          "arrival_delay_in_minutes",
          "inflight_wifi_service",
          "food_and_drink",
          "departure_delay_in_minutes"
         ],
         "xaxis": "x",
         "y": [
          0.4808010713213714,
          0.2346254651833227,
          0.06333257686060256,
          0.03031667370770398,
          0.023572173942348406,
          0.022110247383791887,
          0.02193820315816738,
          0.02110275185217003,
          0.019230466356572096,
          0.018971856323863858,
          0.01727692820116292,
          0.010347588417147073,
          0.007693517429576753,
          0.006706540225821857,
          0.006412910724539887,
          0.004966927429671217,
          0.0038948324816232937,
          0.003766440264920374,
          0.0018432287071643552,
          0.0008724783732576223,
          0.0002171216552002652
         ],
         "yaxis": "y"
        }
       ],
       "layout": {
        "barmode": "relative",
        "legend": {
         "tracegroupgap": 0
        },
        "template": {
         "data": {
          "bar": [
           {
            "error_x": {
             "color": "#2a3f5f"
            },
            "error_y": {
             "color": "#2a3f5f"
            },
            "marker": {
             "line": {
              "color": "#E5ECF6",
              "width": 0.5
             },
             "pattern": {
              "fillmode": "overlay",
              "size": 10,
              "solidity": 0.2
             }
            },
            "type": "bar"
           }
          ],
          "barpolar": [
           {
            "marker": {
             "line": {
              "color": "#E5ECF6",
              "width": 0.5
             },
             "pattern": {
              "fillmode": "overlay",
              "size": 10,
              "solidity": 0.2
             }
            },
            "type": "barpolar"
           }
          ],
          "carpet": [
           {
            "aaxis": {
             "endlinecolor": "#2a3f5f",
             "gridcolor": "white",
             "linecolor": "white",
             "minorgridcolor": "white",
             "startlinecolor": "#2a3f5f"
            },
            "baxis": {
             "endlinecolor": "#2a3f5f",
             "gridcolor": "white",
             "linecolor": "white",
             "minorgridcolor": "white",
             "startlinecolor": "#2a3f5f"
            },
            "type": "carpet"
           }
          ],
          "choropleth": [
           {
            "colorbar": {
             "outlinewidth": 0,
             "ticks": ""
            },
            "type": "choropleth"
           }
          ],
          "contour": [
           {
            "colorbar": {
             "outlinewidth": 0,
             "ticks": ""
            },
            "colorscale": [
             [
              0,
              "#0d0887"
             ],
             [
              0.1111111111111111,
              "#46039f"
             ],
             [
              0.2222222222222222,
              "#7201a8"
             ],
             [
              0.3333333333333333,
              "#9c179e"
             ],
             [
              0.4444444444444444,
              "#bd3786"
             ],
             [
              0.5555555555555556,
              "#d8576b"
             ],
             [
              0.6666666666666666,
              "#ed7953"
             ],
             [
              0.7777777777777778,
              "#fb9f3a"
             ],
             [
              0.8888888888888888,
              "#fdca26"
             ],
             [
              1,
              "#f0f921"
             ]
            ],
            "type": "contour"
           }
          ],
          "contourcarpet": [
           {
            "colorbar": {
             "outlinewidth": 0,
             "ticks": ""
            },
            "type": "contourcarpet"
           }
          ],
          "heatmap": [
           {
            "colorbar": {
             "outlinewidth": 0,
             "ticks": ""
            },
            "colorscale": [
             [
              0,
              "#0d0887"
             ],
             [
              0.1111111111111111,
              "#46039f"
             ],
             [
              0.2222222222222222,
              "#7201a8"
             ],
             [
              0.3333333333333333,
              "#9c179e"
             ],
             [
              0.4444444444444444,
              "#bd3786"
             ],
             [
              0.5555555555555556,
              "#d8576b"
             ],
             [
              0.6666666666666666,
              "#ed7953"
             ],
             [
              0.7777777777777778,
              "#fb9f3a"
             ],
             [
              0.8888888888888888,
              "#fdca26"
             ],
             [
              1,
              "#f0f921"
             ]
            ],
            "type": "heatmap"
           }
          ],
          "heatmapgl": [
           {
            "colorbar": {
             "outlinewidth": 0,
             "ticks": ""
            },
            "colorscale": [
             [
              0,
              "#0d0887"
             ],
             [
              0.1111111111111111,
              "#46039f"
             ],
             [
              0.2222222222222222,
              "#7201a8"
             ],
             [
              0.3333333333333333,
              "#9c179e"
             ],
             [
              0.4444444444444444,
              "#bd3786"
             ],
             [
              0.5555555555555556,
              "#d8576b"
             ],
             [
              0.6666666666666666,
              "#ed7953"
             ],
             [
              0.7777777777777778,
              "#fb9f3a"
             ],
             [
              0.8888888888888888,
              "#fdca26"
             ],
             [
              1,
              "#f0f921"
             ]
            ],
            "type": "heatmapgl"
           }
          ],
          "histogram": [
           {
            "marker": {
             "pattern": {
              "fillmode": "overlay",
              "size": 10,
              "solidity": 0.2
             }
            },
            "type": "histogram"
           }
          ],
          "histogram2d": [
           {
            "colorbar": {
             "outlinewidth": 0,
             "ticks": ""
            },
            "colorscale": [
             [
              0,
              "#0d0887"
             ],
             [
              0.1111111111111111,
              "#46039f"
             ],
             [
              0.2222222222222222,
              "#7201a8"
             ],
             [
              0.3333333333333333,
              "#9c179e"
             ],
             [
              0.4444444444444444,
              "#bd3786"
             ],
             [
              0.5555555555555556,
              "#d8576b"
             ],
             [
              0.6666666666666666,
              "#ed7953"
             ],
             [
              0.7777777777777778,
              "#fb9f3a"
             ],
             [
              0.8888888888888888,
              "#fdca26"
             ],
             [
              1,
              "#f0f921"
             ]
            ],
            "type": "histogram2d"
           }
          ],
          "histogram2dcontour": [
           {
            "colorbar": {
             "outlinewidth": 0,
             "ticks": ""
            },
            "colorscale": [
             [
              0,
              "#0d0887"
             ],
             [
              0.1111111111111111,
              "#46039f"
             ],
             [
              0.2222222222222222,
              "#7201a8"
             ],
             [
              0.3333333333333333,
              "#9c179e"
             ],
             [
              0.4444444444444444,
              "#bd3786"
             ],
             [
              0.5555555555555556,
              "#d8576b"
             ],
             [
              0.6666666666666666,
              "#ed7953"
             ],
             [
              0.7777777777777778,
              "#fb9f3a"
             ],
             [
              0.8888888888888888,
              "#fdca26"
             ],
             [
              1,
              "#f0f921"
             ]
            ],
            "type": "histogram2dcontour"
           }
          ],
          "mesh3d": [
           {
            "colorbar": {
             "outlinewidth": 0,
             "ticks": ""
            },
            "type": "mesh3d"
           }
          ],
          "parcoords": [
           {
            "line": {
             "colorbar": {
              "outlinewidth": 0,
              "ticks": ""
             }
            },
            "type": "parcoords"
           }
          ],
          "pie": [
           {
            "automargin": true,
            "type": "pie"
           }
          ],
          "scatter": [
           {
            "fillpattern": {
             "fillmode": "overlay",
             "size": 10,
             "solidity": 0.2
            },
            "type": "scatter"
           }
          ],
          "scatter3d": [
           {
            "line": {
             "colorbar": {
              "outlinewidth": 0,
              "ticks": ""
             }
            },
            "marker": {
             "colorbar": {
              "outlinewidth": 0,
              "ticks": ""
             }
            },
            "type": "scatter3d"
           }
          ],
          "scattercarpet": [
           {
            "marker": {
             "colorbar": {
              "outlinewidth": 0,
              "ticks": ""
             }
            },
            "type": "scattercarpet"
           }
          ],
          "scattergeo": [
           {
            "marker": {
             "colorbar": {
              "outlinewidth": 0,
              "ticks": ""
             }
            },
            "type": "scattergeo"
           }
          ],
          "scattergl": [
           {
            "marker": {
             "colorbar": {
              "outlinewidth": 0,
              "ticks": ""
             }
            },
            "type": "scattergl"
           }
          ],
          "scattermapbox": [
           {
            "marker": {
             "colorbar": {
              "outlinewidth": 0,
              "ticks": ""
             }
            },
            "type": "scattermapbox"
           }
          ],
          "scatterpolar": [
           {
            "marker": {
             "colorbar": {
              "outlinewidth": 0,
              "ticks": ""
             }
            },
            "type": "scatterpolar"
           }
          ],
          "scatterpolargl": [
           {
            "marker": {
             "colorbar": {
              "outlinewidth": 0,
              "ticks": ""
             }
            },
            "type": "scatterpolargl"
           }
          ],
          "scatterternary": [
           {
            "marker": {
             "colorbar": {
              "outlinewidth": 0,
              "ticks": ""
             }
            },
            "type": "scatterternary"
           }
          ],
          "surface": [
           {
            "colorbar": {
             "outlinewidth": 0,
             "ticks": ""
            },
            "colorscale": [
             [
              0,
              "#0d0887"
             ],
             [
              0.1111111111111111,
              "#46039f"
             ],
             [
              0.2222222222222222,
              "#7201a8"
             ],
             [
              0.3333333333333333,
              "#9c179e"
             ],
             [
              0.4444444444444444,
              "#bd3786"
             ],
             [
              0.5555555555555556,
              "#d8576b"
             ],
             [
              0.6666666666666666,
              "#ed7953"
             ],
             [
              0.7777777777777778,
              "#fb9f3a"
             ],
             [
              0.8888888888888888,
              "#fdca26"
             ],
             [
              1,
              "#f0f921"
             ]
            ],
            "type": "surface"
           }
          ],
          "table": [
           {
            "cells": {
             "fill": {
              "color": "#EBF0F8"
             },
             "line": {
              "color": "white"
             }
            },
            "header": {
             "fill": {
              "color": "#C8D4E3"
             },
             "line": {
              "color": "white"
             }
            },
            "type": "table"
           }
          ]
         },
         "layout": {
          "annotationdefaults": {
           "arrowcolor": "#2a3f5f",
           "arrowhead": 0,
           "arrowwidth": 1
          },
          "autotypenumbers": "strict",
          "coloraxis": {
           "colorbar": {
            "outlinewidth": 0,
            "ticks": ""
           }
          },
          "colorscale": {
           "diverging": [
            [
             0,
             "#8e0152"
            ],
            [
             0.1,
             "#c51b7d"
            ],
            [
             0.2,
             "#de77ae"
            ],
            [
             0.3,
             "#f1b6da"
            ],
            [
             0.4,
             "#fde0ef"
            ],
            [
             0.5,
             "#f7f7f7"
            ],
            [
             0.6,
             "#e6f5d0"
            ],
            [
             0.7,
             "#b8e186"
            ],
            [
             0.8,
             "#7fbc41"
            ],
            [
             0.9,
             "#4d9221"
            ],
            [
             1,
             "#276419"
            ]
           ],
           "sequential": [
            [
             0,
             "#0d0887"
            ],
            [
             0.1111111111111111,
             "#46039f"
            ],
            [
             0.2222222222222222,
             "#7201a8"
            ],
            [
             0.3333333333333333,
             "#9c179e"
            ],
            [
             0.4444444444444444,
             "#bd3786"
            ],
            [
             0.5555555555555556,
             "#d8576b"
            ],
            [
             0.6666666666666666,
             "#ed7953"
            ],
            [
             0.7777777777777778,
             "#fb9f3a"
            ],
            [
             0.8888888888888888,
             "#fdca26"
            ],
            [
             1,
             "#f0f921"
            ]
           ],
           "sequentialminus": [
            [
             0,
             "#0d0887"
            ],
            [
             0.1111111111111111,
             "#46039f"
            ],
            [
             0.2222222222222222,
             "#7201a8"
            ],
            [
             0.3333333333333333,
             "#9c179e"
            ],
            [
             0.4444444444444444,
             "#bd3786"
            ],
            [
             0.5555555555555556,
             "#d8576b"
            ],
            [
             0.6666666666666666,
             "#ed7953"
            ],
            [
             0.7777777777777778,
             "#fb9f3a"
            ],
            [
             0.8888888888888888,
             "#fdca26"
            ],
            [
             1,
             "#f0f921"
            ]
           ]
          },
          "colorway": [
           "#636efa",
           "#EF553B",
           "#00cc96",
           "#ab63fa",
           "#FFA15A",
           "#19d3f3",
           "#FF6692",
           "#B6E880",
           "#FF97FF",
           "#FECB52"
          ],
          "font": {
           "color": "#2a3f5f"
          },
          "geo": {
           "bgcolor": "white",
           "lakecolor": "white",
           "landcolor": "#E5ECF6",
           "showlakes": true,
           "showland": true,
           "subunitcolor": "white"
          },
          "hoverlabel": {
           "align": "left"
          },
          "hovermode": "closest",
          "mapbox": {
           "style": "light"
          },
          "paper_bgcolor": "white",
          "plot_bgcolor": "#E5ECF6",
          "polar": {
           "angularaxis": {
            "gridcolor": "white",
            "linecolor": "white",
            "ticks": ""
           },
           "bgcolor": "#E5ECF6",
           "radialaxis": {
            "gridcolor": "white",
            "linecolor": "white",
            "ticks": ""
           }
          },
          "scene": {
           "xaxis": {
            "backgroundcolor": "#E5ECF6",
            "gridcolor": "white",
            "gridwidth": 2,
            "linecolor": "white",
            "showbackground": true,
            "ticks": "",
            "zerolinecolor": "white"
           },
           "yaxis": {
            "backgroundcolor": "#E5ECF6",
            "gridcolor": "white",
            "gridwidth": 2,
            "linecolor": "white",
            "showbackground": true,
            "ticks": "",
            "zerolinecolor": "white"
           },
           "zaxis": {
            "backgroundcolor": "#E5ECF6",
            "gridcolor": "white",
            "gridwidth": 2,
            "linecolor": "white",
            "showbackground": true,
            "ticks": "",
            "zerolinecolor": "white"
           }
          },
          "shapedefaults": {
           "line": {
            "color": "#2a3f5f"
           }
          },
          "ternary": {
           "aaxis": {
            "gridcolor": "white",
            "linecolor": "white",
            "ticks": ""
           },
           "baxis": {
            "gridcolor": "white",
            "linecolor": "white",
            "ticks": ""
           },
           "bgcolor": "#E5ECF6",
           "caxis": {
            "gridcolor": "white",
            "linecolor": "white",
            "ticks": ""
           }
          },
          "title": {
           "x": 0.05
          },
          "xaxis": {
           "automargin": true,
           "gridcolor": "white",
           "linecolor": "white",
           "ticks": "",
           "title": {
            "standoff": 15
           },
           "zerolinecolor": "white",
           "zerolinewidth": 2
          },
          "yaxis": {
           "automargin": true,
           "gridcolor": "white",
           "linecolor": "white",
           "ticks": "",
           "title": {
            "standoff": 15
           },
           "zerolinecolor": "white",
           "zerolinewidth": 2
          }
         }
        },
        "title": {
         "text": "Feature Importance"
        },
        "xaxis": {
         "anchor": "y",
         "domain": [
          0,
          1
         ],
         "title": {
          "text": "Feature"
         }
        },
        "yaxis": {
         "anchor": "x",
         "domain": [
          0,
          1
         ],
         "title": {
          "text": "Importance"
         }
        }
       }
      }
     },
     "metadata": {},
     "output_type": "display_data"
    },
    {
     "data": {
      "application/vnd.plotly.v1+json": {
       "config": {
        "plotlyServerURL": "https://plot.ly"
       },
       "data": [
        {
         "coloraxis": "coloraxis",
         "hovertemplate": "Predicted: %{x}<br>Actual: %{y}<br>Count: %{z}<extra></extra>",
         "name": "0",
         "type": "heatmap",
         "x": [
          "Neutral or Dissatisfied",
          "Satisfied"
         ],
         "xaxis": "x",
         "y": [
          "Neutral or Dissatisfied",
          "Satisfied"
         ],
         "yaxis": "y",
         "z": [
          [
           5557,
           325
          ],
          [
           402,
           6665
          ]
         ]
        }
       ],
       "layout": {
        "coloraxis": {
         "colorbar": {
          "title": {
           "text": "Count"
          }
         },
         "colorscale": [
          [
           0,
           "#0d0887"
          ],
          [
           0.1111111111111111,
           "#46039f"
          ],
          [
           0.2222222222222222,
           "#7201a8"
          ],
          [
           0.3333333333333333,
           "#9c179e"
          ],
          [
           0.4444444444444444,
           "#bd3786"
          ],
          [
           0.5555555555555556,
           "#d8576b"
          ],
          [
           0.6666666666666666,
           "#ed7953"
          ],
          [
           0.7777777777777778,
           "#fb9f3a"
          ],
          [
           0.8888888888888888,
           "#fdca26"
          ],
          [
           1,
           "#f0f921"
          ]
         ]
        },
        "margin": {
         "t": 60
        },
        "template": {
         "data": {
          "bar": [
           {
            "error_x": {
             "color": "#2a3f5f"
            },
            "error_y": {
             "color": "#2a3f5f"
            },
            "marker": {
             "line": {
              "color": "#E5ECF6",
              "width": 0.5
             },
             "pattern": {
              "fillmode": "overlay",
              "size": 10,
              "solidity": 0.2
             }
            },
            "type": "bar"
           }
          ],
          "barpolar": [
           {
            "marker": {
             "line": {
              "color": "#E5ECF6",
              "width": 0.5
             },
             "pattern": {
              "fillmode": "overlay",
              "size": 10,
              "solidity": 0.2
             }
            },
            "type": "barpolar"
           }
          ],
          "carpet": [
           {
            "aaxis": {
             "endlinecolor": "#2a3f5f",
             "gridcolor": "white",
             "linecolor": "white",
             "minorgridcolor": "white",
             "startlinecolor": "#2a3f5f"
            },
            "baxis": {
             "endlinecolor": "#2a3f5f",
             "gridcolor": "white",
             "linecolor": "white",
             "minorgridcolor": "white",
             "startlinecolor": "#2a3f5f"
            },
            "type": "carpet"
           }
          ],
          "choropleth": [
           {
            "colorbar": {
             "outlinewidth": 0,
             "ticks": ""
            },
            "type": "choropleth"
           }
          ],
          "contour": [
           {
            "colorbar": {
             "outlinewidth": 0,
             "ticks": ""
            },
            "colorscale": [
             [
              0,
              "#0d0887"
             ],
             [
              0.1111111111111111,
              "#46039f"
             ],
             [
              0.2222222222222222,
              "#7201a8"
             ],
             [
              0.3333333333333333,
              "#9c179e"
             ],
             [
              0.4444444444444444,
              "#bd3786"
             ],
             [
              0.5555555555555556,
              "#d8576b"
             ],
             [
              0.6666666666666666,
              "#ed7953"
             ],
             [
              0.7777777777777778,
              "#fb9f3a"
             ],
             [
              0.8888888888888888,
              "#fdca26"
             ],
             [
              1,
              "#f0f921"
             ]
            ],
            "type": "contour"
           }
          ],
          "contourcarpet": [
           {
            "colorbar": {
             "outlinewidth": 0,
             "ticks": ""
            },
            "type": "contourcarpet"
           }
          ],
          "heatmap": [
           {
            "colorbar": {
             "outlinewidth": 0,
             "ticks": ""
            },
            "colorscale": [
             [
              0,
              "#0d0887"
             ],
             [
              0.1111111111111111,
              "#46039f"
             ],
             [
              0.2222222222222222,
              "#7201a8"
             ],
             [
              0.3333333333333333,
              "#9c179e"
             ],
             [
              0.4444444444444444,
              "#bd3786"
             ],
             [
              0.5555555555555556,
              "#d8576b"
             ],
             [
              0.6666666666666666,
              "#ed7953"
             ],
             [
              0.7777777777777778,
              "#fb9f3a"
             ],
             [
              0.8888888888888888,
              "#fdca26"
             ],
             [
              1,
              "#f0f921"
             ]
            ],
            "type": "heatmap"
           }
          ],
          "heatmapgl": [
           {
            "colorbar": {
             "outlinewidth": 0,
             "ticks": ""
            },
            "colorscale": [
             [
              0,
              "#0d0887"
             ],
             [
              0.1111111111111111,
              "#46039f"
             ],
             [
              0.2222222222222222,
              "#7201a8"
             ],
             [
              0.3333333333333333,
              "#9c179e"
             ],
             [
              0.4444444444444444,
              "#bd3786"
             ],
             [
              0.5555555555555556,
              "#d8576b"
             ],
             [
              0.6666666666666666,
              "#ed7953"
             ],
             [
              0.7777777777777778,
              "#fb9f3a"
             ],
             [
              0.8888888888888888,
              "#fdca26"
             ],
             [
              1,
              "#f0f921"
             ]
            ],
            "type": "heatmapgl"
           }
          ],
          "histogram": [
           {
            "marker": {
             "pattern": {
              "fillmode": "overlay",
              "size": 10,
              "solidity": 0.2
             }
            },
            "type": "histogram"
           }
          ],
          "histogram2d": [
           {
            "colorbar": {
             "outlinewidth": 0,
             "ticks": ""
            },
            "colorscale": [
             [
              0,
              "#0d0887"
             ],
             [
              0.1111111111111111,
              "#46039f"
             ],
             [
              0.2222222222222222,
              "#7201a8"
             ],
             [
              0.3333333333333333,
              "#9c179e"
             ],
             [
              0.4444444444444444,
              "#bd3786"
             ],
             [
              0.5555555555555556,
              "#d8576b"
             ],
             [
              0.6666666666666666,
              "#ed7953"
             ],
             [
              0.7777777777777778,
              "#fb9f3a"
             ],
             [
              0.8888888888888888,
              "#fdca26"
             ],
             [
              1,
              "#f0f921"
             ]
            ],
            "type": "histogram2d"
           }
          ],
          "histogram2dcontour": [
           {
            "colorbar": {
             "outlinewidth": 0,
             "ticks": ""
            },
            "colorscale": [
             [
              0,
              "#0d0887"
             ],
             [
              0.1111111111111111,
              "#46039f"
             ],
             [
              0.2222222222222222,
              "#7201a8"
             ],
             [
              0.3333333333333333,
              "#9c179e"
             ],
             [
              0.4444444444444444,
              "#bd3786"
             ],
             [
              0.5555555555555556,
              "#d8576b"
             ],
             [
              0.6666666666666666,
              "#ed7953"
             ],
             [
              0.7777777777777778,
              "#fb9f3a"
             ],
             [
              0.8888888888888888,
              "#fdca26"
             ],
             [
              1,
              "#f0f921"
             ]
            ],
            "type": "histogram2dcontour"
           }
          ],
          "mesh3d": [
           {
            "colorbar": {
             "outlinewidth": 0,
             "ticks": ""
            },
            "type": "mesh3d"
           }
          ],
          "parcoords": [
           {
            "line": {
             "colorbar": {
              "outlinewidth": 0,
              "ticks": ""
             }
            },
            "type": "parcoords"
           }
          ],
          "pie": [
           {
            "automargin": true,
            "type": "pie"
           }
          ],
          "scatter": [
           {
            "fillpattern": {
             "fillmode": "overlay",
             "size": 10,
             "solidity": 0.2
            },
            "type": "scatter"
           }
          ],
          "scatter3d": [
           {
            "line": {
             "colorbar": {
              "outlinewidth": 0,
              "ticks": ""
             }
            },
            "marker": {
             "colorbar": {
              "outlinewidth": 0,
              "ticks": ""
             }
            },
            "type": "scatter3d"
           }
          ],
          "scattercarpet": [
           {
            "marker": {
             "colorbar": {
              "outlinewidth": 0,
              "ticks": ""
             }
            },
            "type": "scattercarpet"
           }
          ],
          "scattergeo": [
           {
            "marker": {
             "colorbar": {
              "outlinewidth": 0,
              "ticks": ""
             }
            },
            "type": "scattergeo"
           }
          ],
          "scattergl": [
           {
            "marker": {
             "colorbar": {
              "outlinewidth": 0,
              "ticks": ""
             }
            },
            "type": "scattergl"
           }
          ],
          "scattermapbox": [
           {
            "marker": {
             "colorbar": {
              "outlinewidth": 0,
              "ticks": ""
             }
            },
            "type": "scattermapbox"
           }
          ],
          "scatterpolar": [
           {
            "marker": {
             "colorbar": {
              "outlinewidth": 0,
              "ticks": ""
             }
            },
            "type": "scatterpolar"
           }
          ],
          "scatterpolargl": [
           {
            "marker": {
             "colorbar": {
              "outlinewidth": 0,
              "ticks": ""
             }
            },
            "type": "scatterpolargl"
           }
          ],
          "scatterternary": [
           {
            "marker": {
             "colorbar": {
              "outlinewidth": 0,
              "ticks": ""
             }
            },
            "type": "scatterternary"
           }
          ],
          "surface": [
           {
            "colorbar": {
             "outlinewidth": 0,
             "ticks": ""
            },
            "colorscale": [
             [
              0,
              "#0d0887"
             ],
             [
              0.1111111111111111,
              "#46039f"
             ],
             [
              0.2222222222222222,
              "#7201a8"
             ],
             [
              0.3333333333333333,
              "#9c179e"
             ],
             [
              0.4444444444444444,
              "#bd3786"
             ],
             [
              0.5555555555555556,
              "#d8576b"
             ],
             [
              0.6666666666666666,
              "#ed7953"
             ],
             [
              0.7777777777777778,
              "#fb9f3a"
             ],
             [
              0.8888888888888888,
              "#fdca26"
             ],
             [
              1,
              "#f0f921"
             ]
            ],
            "type": "surface"
           }
          ],
          "table": [
           {
            "cells": {
             "fill": {
              "color": "#EBF0F8"
             },
             "line": {
              "color": "white"
             }
            },
            "header": {
             "fill": {
              "color": "#C8D4E3"
             },
             "line": {
              "color": "white"
             }
            },
            "type": "table"
           }
          ]
         },
         "layout": {
          "annotationdefaults": {
           "arrowcolor": "#2a3f5f",
           "arrowhead": 0,
           "arrowwidth": 1
          },
          "autotypenumbers": "strict",
          "coloraxis": {
           "colorbar": {
            "outlinewidth": 0,
            "ticks": ""
           }
          },
          "colorscale": {
           "diverging": [
            [
             0,
             "#8e0152"
            ],
            [
             0.1,
             "#c51b7d"
            ],
            [
             0.2,
             "#de77ae"
            ],
            [
             0.3,
             "#f1b6da"
            ],
            [
             0.4,
             "#fde0ef"
            ],
            [
             0.5,
             "#f7f7f7"
            ],
            [
             0.6,
             "#e6f5d0"
            ],
            [
             0.7,
             "#b8e186"
            ],
            [
             0.8,
             "#7fbc41"
            ],
            [
             0.9,
             "#4d9221"
            ],
            [
             1,
             "#276419"
            ]
           ],
           "sequential": [
            [
             0,
             "#0d0887"
            ],
            [
             0.1111111111111111,
             "#46039f"
            ],
            [
             0.2222222222222222,
             "#7201a8"
            ],
            [
             0.3333333333333333,
             "#9c179e"
            ],
            [
             0.4444444444444444,
             "#bd3786"
            ],
            [
             0.5555555555555556,
             "#d8576b"
            ],
            [
             0.6666666666666666,
             "#ed7953"
            ],
            [
             0.7777777777777778,
             "#fb9f3a"
            ],
            [
             0.8888888888888888,
             "#fdca26"
            ],
            [
             1,
             "#f0f921"
            ]
           ],
           "sequentialminus": [
            [
             0,
             "#0d0887"
            ],
            [
             0.1111111111111111,
             "#46039f"
            ],
            [
             0.2222222222222222,
             "#7201a8"
            ],
            [
             0.3333333333333333,
             "#9c179e"
            ],
            [
             0.4444444444444444,
             "#bd3786"
            ],
            [
             0.5555555555555556,
             "#d8576b"
            ],
            [
             0.6666666666666666,
             "#ed7953"
            ],
            [
             0.7777777777777778,
             "#fb9f3a"
            ],
            [
             0.8888888888888888,
             "#fdca26"
            ],
            [
             1,
             "#f0f921"
            ]
           ]
          },
          "colorway": [
           "#636efa",
           "#EF553B",
           "#00cc96",
           "#ab63fa",
           "#FFA15A",
           "#19d3f3",
           "#FF6692",
           "#B6E880",
           "#FF97FF",
           "#FECB52"
          ],
          "font": {
           "color": "#2a3f5f"
          },
          "geo": {
           "bgcolor": "white",
           "lakecolor": "white",
           "landcolor": "#E5ECF6",
           "showlakes": true,
           "showland": true,
           "subunitcolor": "white"
          },
          "hoverlabel": {
           "align": "left"
          },
          "hovermode": "closest",
          "mapbox": {
           "style": "light"
          },
          "paper_bgcolor": "white",
          "plot_bgcolor": "#E5ECF6",
          "polar": {
           "angularaxis": {
            "gridcolor": "white",
            "linecolor": "white",
            "ticks": ""
           },
           "bgcolor": "#E5ECF6",
           "radialaxis": {
            "gridcolor": "white",
            "linecolor": "white",
            "ticks": ""
           }
          },
          "scene": {
           "xaxis": {
            "backgroundcolor": "#E5ECF6",
            "gridcolor": "white",
            "gridwidth": 2,
            "linecolor": "white",
            "showbackground": true,
            "ticks": "",
            "zerolinecolor": "white"
           },
           "yaxis": {
            "backgroundcolor": "#E5ECF6",
            "gridcolor": "white",
            "gridwidth": 2,
            "linecolor": "white",
            "showbackground": true,
            "ticks": "",
            "zerolinecolor": "white"
           },
           "zaxis": {
            "backgroundcolor": "#E5ECF6",
            "gridcolor": "white",
            "gridwidth": 2,
            "linecolor": "white",
            "showbackground": true,
            "ticks": "",
            "zerolinecolor": "white"
           }
          },
          "shapedefaults": {
           "line": {
            "color": "#2a3f5f"
           }
          },
          "ternary": {
           "aaxis": {
            "gridcolor": "white",
            "linecolor": "white",
            "ticks": ""
           },
           "baxis": {
            "gridcolor": "white",
            "linecolor": "white",
            "ticks": ""
           },
           "bgcolor": "#E5ECF6",
           "caxis": {
            "gridcolor": "white",
            "linecolor": "white",
            "ticks": ""
           }
          },
          "title": {
           "x": 0.05
          },
          "xaxis": {
           "automargin": true,
           "gridcolor": "white",
           "linecolor": "white",
           "ticks": "",
           "title": {
            "standoff": 15
           },
           "zerolinecolor": "white",
           "zerolinewidth": 2
          },
          "yaxis": {
           "automargin": true,
           "gridcolor": "white",
           "linecolor": "white",
           "ticks": "",
           "title": {
            "standoff": 15
           },
           "zerolinecolor": "white",
           "zerolinewidth": 2
          }
         }
        },
        "xaxis": {
         "anchor": "y",
         "constrain": "domain",
         "domain": [
          0,
          1
         ],
         "scaleanchor": "y",
         "title": {
          "text": "Predicted"
         }
        },
        "yaxis": {
         "anchor": "x",
         "autorange": "reversed",
         "constrain": "domain",
         "domain": [
          0,
          1
         ],
         "title": {
          "text": "Actual"
         }
        }
       }
      }
     },
     "metadata": {},
     "output_type": "display_data"
    },
    {
     "data": {
      "application/vnd.plotly.v1+json": {
       "config": {
        "plotlyServerURL": "https://plot.ly"
       },
       "data": [
        {
         "fillpattern": {
          "shape": ""
         },
         "hovertemplate": "False Positive Rate=%{x}<br>True Positive Rate=%{y}<extra></extra>",
         "legendgroup": "",
         "line": {
          "color": "#636efa"
         },
         "marker": {
          "symbol": "circle"
         },
         "mode": "lines",
         "name": "",
         "orientation": "v",
         "showlegend": false,
         "stackgroup": "1",
         "type": "scatter",
         "x": [
          0,
          0,
          0,
          0,
          0,
          0,
          0,
          0.00017001020061203673,
          0.00017001020061203673,
          0.00034002040122407346,
          0.00034002040122407346,
          0.0005100306018361102,
          0.0005100306018361102,
          0.0006800408024481469,
          0.0006800408024481469,
          0.0008500510030601836,
          0.0008500510030601836,
          0.0010200612036722204,
          0.0010200612036722204,
          0.0011900714042842571,
          0.0011900714042842571,
          0.0013600816048962938,
          0.0013600816048962938,
          0.0015300918055083305,
          0.0015300918055083305,
          0.0017001020061203672,
          0.0017001020061203672,
          0.001870112206732404,
          0.001870112206732404,
          0.002040122407344441,
          0.002040122407344441,
          0.0022101326079564773,
          0.0022101326079564773,
          0.0023801428085685142,
          0.0023801428085685142,
          0.0025501530091805507,
          0.0025501530091805507,
          0.0027201632097925877,
          0.0027201632097925877,
          0.003060183611016661,
          0.003060183611016661,
          0.0032301938116286975,
          0.0032301938116286975,
          0.0034002040122407345,
          0.0034002040122407345,
          0.003740224413464808,
          0.003740224413464808,
          0.003910234614076844,
          0.003910234614076844,
          0.004080244814688882,
          0.004080244814688882,
          0.004250255015300918,
          0.004250255015300918,
          0.004420265215912955,
          0.004420265215912955,
          0.004590275416524991,
          0.004590275416524991,
          0.0047602856171370285,
          0.0047602856171370285,
          0.004930295817749065,
          0.004930295817749065,
          0.0051003060183611015,
          0.0051003060183611015,
          0.005270316218973139,
          0.005270316218973139,
          0.005440326419585175,
          0.005440326419585175,
          0.005780346820809248,
          0.005780346820809248,
          0.005950357021421286,
          0.005950357021421286,
          0.006120367222033322,
          0.006120367222033322,
          0.006290377422645359,
          0.006290377422645359,
          0.006460387623257395,
          0.006460387623257395,
          0.006630397823869432,
          0.006630397823869432,
          0.006800408024481469,
          0.006800408024481469,
          0.006970418225093505,
          0.006970418225093505,
          0.007140428425705543,
          0.007140428425705543,
          0.007310438626317579,
          0.007310438626317579,
          0.007480448826929616,
          0.007480448826929616,
          0.007650459027541652,
          0.007650459027541652,
          0.007820469228153689,
          0.007820469228153689,
          0.007990479428765726,
          0.007990479428765726,
          0.008330499829989799,
          0.008330499829989799,
          0.008670520231213872,
          0.008670520231213872,
          0.009010540632437947,
          0.009010540632437947,
          0.009180550833049982,
          0.009180550833049982,
          0.00935056103366202,
          0.00935056103366202,
          0.009520571234274057,
          0.009520571234274057,
          0.009690581434886093,
          0.009690581434886093,
          0.00986059163549813,
          0.00986059163549813,
          0.010030601836110167,
          0.010030601836110167,
          0.010200612036722203,
          0.010200612036722203,
          0.010540632437946278,
          0.010540632437946278,
          0.010710642638558313,
          0.010710642638558313,
          0.011050663039782386,
          0.011050663039782386,
          0.011220673240394424,
          0.011220673240394424,
          0.011390683441006461,
          0.011390683441006461,
          0.011560693641618497,
          0.011560693641618497,
          0.011730703842230534,
          0.011730703842230534,
          0.011900714042842571,
          0.011900714042842571,
          0.012070724243454607,
          0.012070724243454607,
          0.012240734444066644,
          0.012240734444066644,
          0.012410744644678682,
          0.012410744644678682,
          0.012580754845290717,
          0.012580754845290717,
          0.012750765045902755,
          0.012750765045902755,
          0.013260795647738865,
          0.013260795647738865,
          0.0134308058483509,
          0.0134308058483509,
          0.013600816048962938,
          0.013600816048962938,
          0.014280856851411085,
          0.014280856851411085,
          0.014450867052023121,
          0.014450867052023121,
          0.014620877252635158,
          0.014620877252635158,
          0.014790887453247194,
          0.014790887453247194,
          0.014960897653859231,
          0.014960897653859231,
          0.015300918055083304,
          0.015300918055083304,
          0.015470928255695342,
          0.015470928255695342,
          0.015640938456307377,
          0.015640938456307377,
          0.015810948656919416,
          0.015810948656919416,
          0.015980958857531452,
          0.015980958857531452,
          0.016150969058143488,
          0.016150969058143488,
          0.016320979258755527,
          0.016320979258755527,
          0.016490989459367562,
          0.016490989459367562,
          0.017001020061203673,
          0.017001020061203673,
          0.01717103026181571,
          0.01717103026181571,
          0.017341040462427744,
          0.017341040462427744,
          0.017511050663039783,
          0.017511050663039783,
          0.01768106086365182,
          0.01768106086365182,
          0.017851071064263854,
          0.017851071064263854,
          0.01819109146548793,
          0.01819109146548793,
          0.018531111866712004,
          0.018531111866712004,
          0.01870112206732404,
          0.01870112206732404,
          0.018871132267936075,
          0.018871132267936075,
          0.019041142468548114,
          0.019041142468548114,
          0.019891193471608296,
          0.019891193471608296,
          0.02023121387283237,
          0.02023121387283237,
          0.020401224073444406,
          0.020401224073444406,
          0.020571234274056445,
          0.020571234274056445,
          0.02074124447466848,
          0.02074124447466848,
          0.020911254675280516,
          0.020911254675280516,
          0.021081264875892555,
          0.021081264875892555,
          0.021421285277116626,
          0.021421285277116626,
          0.021591295477728662,
          0.021591295477728662,
          0.0217613056783407,
          0.0217613056783407,
          0.022101326079564772,
          0.022101326079564772,
          0.02227133628017681,
          0.02227133628017681,
          0.022441346480788847,
          0.022441346480788847,
          0.022611356681400883,
          0.022611356681400883,
          0.022781366882012922,
          0.022781366882012922,
          0.022951377082624957,
          0.022951377082624957,
          0.023631417885073103,
          0.023631417885073103,
          0.023801428085685142,
          0.023801428085685142,
          0.024141448486909214,
          0.024141448486909214,
          0.024311458687521253,
          0.024311458687521253,
          0.025161509690581434,
          0.025161509690581434,
          0.02533151989119347,
          0.02533151989119347,
          0.02550153009180551,
          0.02550153009180551,
          0.025671540292417545,
          0.025671540292417545,
          0.02584155049302958,
          0.02584155049302958,
          0.026691601496089765,
          0.026691601496089765,
          0.0268616116967018,
          0.0268616116967018,
          0.02703162189731384,
          0.02703162189731384,
          0.02737164229853791,
          0.02737164229853791,
          0.02788167290037402,
          0.02788167290037402,
          0.02805168310098606,
          0.02805168310098606,
          0.02856171370282217,
          0.02856171370282217,
          0.028731723903434207,
          0.028731723903434207,
          0.029071744304658278,
          0.029071744304658278,
          0.029581774906494388,
          0.029581774906494388,
          0.029751785107106427,
          0.029751785107106427,
          0.0300918055083305,
          0.0300918055083305,
          0.030261815708942538,
          0.030261815708942538,
          0.030771846310778648,
          0.030771846310778648,
          0.03162189731383883,
          0.03162189731383883,
          0.031791907514450865,
          0.031791907514450865,
          0.032471948316899014,
          0.032471948316899014,
          0.032641958517511054,
          0.032641958517511054,
          0.033321999319959196,
          0.033321999319959196,
          0.033492009520571235,
          0.033492009520571235,
          0.033662019721183274,
          0.033662019721183274,
          0.033832029921795306,
          0.033832029921795306,
          0.034002040122407345,
          0.034002040122407345,
          0.03434206052363142,
          0.03434206052363142,
          0.034512070724243456,
          0.034512070724243456,
          0.03468208092485549,
          0.03468208092485549,
          0.03485209112546753,
          0.03485209112546753,
          0.035022101326079566,
          0.035022101326079566,
          0.0351921115266916,
          0.0351921115266916,
          0.03536212172730364,
          0.03536212172730364,
          0.03570214212852771,
          0.03570214212852771,
          0.03604216252975179,
          0.03604216252975179,
          0.03638218293097586,
          0.03638218293097586,
          0.0365521931315879,
          0.0365521931315879,
          0.03706222373342401,
          0.03706222373342401,
          0.03723223393403604,
          0.03723223393403604,
          0.03740224413464808,
          0.03740224413464808,
          0.03774226453587215,
          0.03774226453587215,
          0.03791227473648419,
          0.03791227473648419,
          0.0384223053383203,
          0.0384223053383203,
          0.03876232573954437,
          0.03876232573954437,
          0.03893233594015641,
          0.03893233594015641,
          0.03927235634138048,
          0.03927235634138048,
          0.03944236654199252,
          0.03944236654199252,
          0.03961237674260456,
          0.03961237674260456,
          0.03995239714382863,
          0.03995239714382863,
          0.04012240734444067,
          0.04012240734444067,
          0.04046242774566474,
          0.04046242774566474,
          0.04063243794627678,
          0.04063243794627678,
          0.04080244814688881,
          0.04080244814688881,
          0.04114246854811289,
          0.04114246854811289,
          0.04148248894933696,
          0.04148248894933696,
          0.04182250935056103,
          0.04182250935056103,
          0.04199251955117307,
          0.04199251955117307,
          0.04250255015300918,
          0.04250255015300918,
          0.04284257055423325,
          0.04284257055423325,
          0.04301258075484529,
          0.04301258075484529,
          0.043692621557293435,
          0.043692621557293435,
          0.04403264195851751,
          0.04403264195851751,
          0.044372662359741584,
          0.044372662359741584,
          0.04454267256035362,
          0.04454267256035362,
          0.045562733764025844,
          0.045562733764025844,
          0.046072764365861954,
          0.046072764365861954,
          0.047092825569534175,
          0.047092825569534175,
          0.04726283577014621,
          0.04726283577014621,
          0.047432845970758246,
          0.047432845970758246,
          0.04879292757565454,
          0.04879292757565454,
          0.05015300918055083,
          0.05015300918055083,
          0.05066303978238694,
          0.05066303978238694,
          0.05083304998299898,
          0.05083304998299898,
          0.05100306018361102,
          0.05100306018361102,
          0.05134308058483509,
          0.05134308058483509,
          0.05151309078544713,
          0.05151309078544713,
          0.05202312138728324,
          0.05202312138728324,
          0.05219313158789527,
          0.05219313158789527,
          0.05236314178850731,
          0.05236314178850731,
          0.05253315198911935,
          0.05253315198911935,
          0.05287317239034342,
          0.05287317239034342,
          0.05355321319279157,
          0.05355321319279157,
          0.0537232233934036,
          0.0537232233934036,
          0.05423325399523971,
          0.05423325399523971,
          0.05440326419585175,
          0.05440326419585175,
          0.05491329479768786,
          0.05491329479768786,
          0.0550833049982999,
          0.0550833049982999,
          0.05542332539952397,
          0.05542332539952397,
          0.05559333560013601,
          0.05559333560013601,
          0.05593335600136008,
          0.05593335600136008,
          0.05610336620197212,
          0.05610336620197212,
          0.058313498809928595,
          0.058313498809928595,
          0.058483509010540634,
          0.058483509010540634,
          0.059503570214212854,
          0.059503570214212854,
          0.05967358041482489,
          0.05967358041482489,
          0.060013600816048965,
          0.060013600816048965,
          0.06120367222033322,
          0.06120367222033322,
          0.06188371302278137,
          0.06188371302278137,
          0.06239374362461748,
          0.06239374362461748,
          0.06307378442706563,
          0.06307378442706563,
          0.06324379462767767,
          0.06324379462767767,
          0.06358381502890173,
          0.06358381502890173,
          0.06392383543012581,
          0.06392383543012581,
          0.06409384563073785,
          0.06409384563073785,
          0.06426385583134989,
          0.06426385583134989,
          0.06443386603196191,
          0.06443386603196191,
          0.06528391703502211,
          0.06528391703502211,
          0.06562393743624617,
          0.06562393743624617,
          0.06613396803808229,
          0.06613396803808229,
          0.06630397823869433,
          0.06630397823869433,
          0.06732403944236655,
          0.06732403944236655,
          0.06834410064603877,
          0.06834410064603877,
          0.06868412104726283,
          0.06868412104726283,
          0.06885413124787487,
          0.06885413124787487,
          0.07004420265215913,
          0.07004420265215913,
          0.0703842230533832,
          0.0703842230533832,
          0.07055423325399524,
          0.07055423325399524,
          0.07072424345460727,
          0.07072424345460727,
          0.07089425365521931,
          0.07089425365521931,
          0.07106426385583135,
          0.07106426385583135,
          0.07123427405644339,
          0.07123427405644339,
          0.07140428425705542,
          0.07140428425705542,
          0.07208432505950357,
          0.07208432505950357,
          0.07225433526011561,
          0.07225433526011561,
          0.07242434546072764,
          0.07242434546072764,
          0.07276436586195172,
          0.07276436586195172,
          0.0731043862631758,
          0.0731043862631758,
          0.07412444746684801,
          0.07412444746684801,
          0.07429445766746005,
          0.07429445766746005,
          0.07446446786807208,
          0.07446446786807208,
          0.07480448826929616,
          0.07480448826929616,
          0.0749744984699082,
          0.0749744984699082,
          0.07565453927235634,
          0.07565453927235634,
          0.07599455967358042,
          0.07599455967358042,
          0.07616456987419246,
          0.07616456987419246,
          0.07650459027541652,
          0.07650459027541652,
          0.0768446106766406,
          0.0768446106766406,
          0.07752465147908874,
          0.07752465147908874,
          0.07769466167970078,
          0.07769466167970078,
          0.07803468208092486,
          0.07803468208092486,
          0.07956477388643318,
          0.07956477388643318,
          0.0805848350901054,
          0.0805848350901054,
          0.08092485549132948,
          0.08092485549132948,
          0.08177490649438966,
          0.08177490649438966,
          0.08228493709622578,
          0.08228493709622578,
          0.08313498809928596,
          0.08313498809928596,
          0.08364501870112206,
          0.08364501870112206,
          0.08415504930295818,
          0.08415504930295818,
          0.08432505950357022,
          0.08432505950357022,
          0.08449506970418225,
          0.08449506970418225,
          0.08466507990479429,
          0.08466507990479429,
          0.08483509010540632,
          0.08483509010540632,
          0.08500510030601836,
          0.08500510030601836,
          0.08602516150969058,
          0.08602516150969058,
          0.08636518191091465,
          0.08636518191091465,
          0.08670520231213873,
          0.08670520231213873,
          0.08738524311458687,
          0.08738524311458687,
          0.08806528391703503,
          0.08806528391703503,
          0.08823529411764706,
          0.08823529411764706,
          0.08908534512070725,
          0.08908534512070725,
          0.09061543692621557,
          0.09061543692621557,
          0.09078544712682761,
          0.09078544712682761,
          0.09095545732743965,
          0.09095545732743965,
          0.09163549812988779,
          0.09163549812988779,
          0.09180550833049983,
          0.09180550833049983,
          0.09282556953417205,
          0.09282556953417205,
          0.09333560013600815,
          0.09333560013600815,
          0.09401564093845631,
          0.09401564093845631,
          0.09435566133968037,
          0.09435566133968037,
          0.09452567154029241,
          0.09452567154029241,
          0.09469568174090445,
          0.09469568174090445,
          0.09486569194151649,
          0.09486569194151649,
          0.09503570214212853,
          0.09503570214212853,
          0.09520571234274057,
          0.09520571234274057,
          0.0953757225433526,
          0.0953757225433526,
          0.09571574294457667,
          0.09571574294457667,
          0.09605576334580075,
          0.09605576334580075,
          0.09639578374702482,
          0.09639578374702482,
          0.0967358041482489,
          0.0967358041482489,
          0.09775586535192111,
          0.09775586535192111,
          0.09809588575314519,
          0.09809588575314519,
          0.09894593675620537,
          0.09894593675620537,
          0.09911594695681741,
          0.09911594695681741,
          0.09928595715742945,
          0.09928595715742945,
          0.09945596735804148,
          0.09945596735804148,
          0.0999659979598776,
          0.0999659979598776,
          0.10030601836110166,
          0.10030601836110166,
          0.10081604896293778,
          0.10081604896293778,
          0.10149608976538592,
          0.10149608976538592,
          0.10200612036722204,
          0.10200612036722204,
          0.10217613056783408,
          0.10217613056783408,
          0.10268616116967018,
          0.10268616116967018,
          0.10336620197211832,
          0.10336620197211832,
          0.10353621217273036,
          0.10353621217273036,
          0.1037062223733424,
          0.1037062223733424,
          0.10489629377762666,
          0.10489629377762666,
          0.10523631417885074,
          0.10523631417885074,
          0.10540632437946276,
          0.10540632437946276,
          0.1055763345800748,
          0.1055763345800748,
          0.10574634478068684,
          0.10574634478068684,
          0.10608636518191092,
          0.10608636518191092,
          0.10625637538252296,
          0.10625637538252296,
          0.10659639578374702,
          0.10659639578374702,
          0.10676640598435906,
          0.10676640598435906,
          0.10710642638558314,
          0.10710642638558314,
          0.10829649778986739,
          0.10829649778986739,
          0.1088065283917035,
          0.1088065283917035,
          0.10897653859231554,
          0.10897653859231554,
          0.11050663039782387,
          0.11050663039782387,
          0.11084665079904794,
          0.11084665079904794,
          0.11101666099965998,
          0.11101666099965998,
          0.11135668140088405,
          0.11135668140088405,
          0.11237674260455627,
          0.11237674260455627,
          0.1125467528051683,
          0.1125467528051683,
          0.11271676300578035,
          0.11271676300578035,
          0.1139068344100646,
          0.1139068344100646,
          0.11441686501190071,
          0.11441686501190071,
          0.11560693641618497,
          0.11560693641618497,
          0.11611696701802109,
          0.11611696701802109,
          0.11696701802108127,
          0.11696701802108127,
          0.11730703842230533,
          0.11730703842230533,
          0.11747704862291737,
          0.11747704862291737,
          0.11781706902414145,
          0.11781706902414145,
          0.11798707922475349,
          0.11798707922475349,
          0.11849710982658959,
          0.11849710982658959,
          0.11866712002720163,
          0.11866712002720163,
          0.11951717103026181,
          0.11951717103026181,
          0.11968718123087385,
          0.11968718123087385,
          0.12104726283577015,
          0.12104726283577015,
          0.12121727303638219,
          0.12121727303638219,
          0.12138728323699421,
          0.12138728323699421,
          0.12189731383883033,
          0.12189731383883033,
          0.12206732403944237,
          0.12206732403944237,
          0.12223733424005441,
          0.12223733424005441,
          0.12308738524311459,
          0.12308738524311459,
          0.12393743624617477,
          0.12393743624617477,
          0.12410744644678681,
          0.12410744644678681,
          0.12665759945596736,
          0.12665759945596736,
          0.1276776606596396,
          0.1276776606596396,
          0.12784767086025162,
          0.12784767086025162,
          0.12835770146208772,
          0.12835770146208772,
          0.12903774226453588,
          0.12903774226453588,
          0.12937776266575995,
          0.12937776266575995,
          0.13005780346820808,
          0.13005780346820808,
          0.13022781366882014,
          0.13022781366882014,
          0.13073784427065624,
          0.13073784427065624,
          0.1314178850731044,
          0.1314178850731044,
          0.1319279156749405,
          0.1319279156749405,
          0.13209792587555252,
          0.13209792587555252,
          0.1324379462767766,
          0.1324379462767766,
          0.13260795647738866,
          0.13260795647738866,
          0.13311798707922476,
          0.13311798707922476,
          0.1337980278816729,
          0.1337980278816729,
          0.13396803808228494,
          0.13396803808228494,
          0.13430805848350902,
          0.13430805848350902,
          0.13481808908534512,
          0.13481808908534512,
          0.13498809928595715,
          0.13498809928595715,
          0.1351581094865692,
          0.1351581094865692,
          0.13532811968718123,
          0.13532811968718123,
          0.1356681400884053,
          0.1356681400884053,
          0.13770826249574974,
          0.13770826249574974,
          0.138898333900034,
          0.138898333900034,
          0.1407684461067664,
          0.1407684461067664,
          0.14246854811288678,
          0.14246854811288678,
          0.1429785787147229,
          0.1429785787147229,
          0.14416865011900715,
          0.14416865011900715,
          0.14603876232573954,
          0.14603876232573954,
          0.14756885413124787,
          0.14756885413124787,
          0.1490989459367562,
          0.1490989459367562,
          0.15062903774226455,
          0.15062903774226455,
          0.15283917035022102,
          0.15283917035022102,
          0.1531791907514451,
          0.1531791907514451,
          0.1547092825569534,
          0.1547092825569534,
          0.15487929275756546,
          0.15487929275756546,
          0.15521931315878953,
          0.15521931315878953,
          0.1555593335600136,
          0.1555593335600136,
          0.15623937436246174,
          0.15623937436246174,
          0.15657939476368582,
          0.15657939476368582,
          0.157429445766746,
          0.157429445766746,
          0.1579394763685821,
          0.1579394763685821,
          0.15861951717103026,
          0.15861951717103026,
          0.15912954777286636,
          0.15912954777286636,
          0.1596395783747025,
          0.1596395783747025,
          0.16031961917715062,
          0.16031961917715062,
          0.1616797007820469,
          0.1616797007820469,
          0.16184971098265896,
          0.16184971098265896,
          0.1633798027881673,
          0.1633798027881673,
          0.1638898333900034,
          0.1638898333900034,
          0.1657599455967358,
          0.1657599455967358,
          0.1671200272016321,
          0.1671200272016321,
          0.16797007820469229,
          0.16797007820469229,
          0.1681400884053043,
          0.1681400884053043,
          0.1689901394083645,
          0.1689901394083645,
          0.16967018021081265,
          0.16967018021081265,
          0.1708602516150969,
          0.1708602516150969,
          0.17256035362121727,
          0.17256035362121727,
          0.1727303638218293,
          0.1727303638218293,
          0.1746004760285617,
          0.1746004760285617,
          0.17528051683100987,
          0.17528051683100987,
          0.18021081264875893,
          0.18021081264875893,
          0.1819109146548793,
          0.1819109146548793,
          0.1829309758585515,
          0.1829309758585515,
          0.18395103706222374,
          0.18395103706222374,
          0.18429105746344782,
          0.18429105746344782,
          0.18446106766405984,
          0.18446106766405984,
          0.185141108466508,
          0.185141108466508,
          0.18531111866712002,
          0.18531111866712002,
          0.18582114926895613,
          0.18582114926895613,
          0.18684121047262836,
          0.18684121047262836,
          0.18803128187691262,
          0.18803128187691262,
          0.18854131247874872,
          0.18854131247874872,
          0.1888813328799728,
          0.1888813328799728,
          0.1907514450867052,
          0.1907514450867052,
          0.19245154709282558,
          0.19245154709282558,
          0.1934716082964978,
          0.1934716082964978,
          0.1953417205032302,
          0.1953417205032302,
          0.1967018021081265,
          0.1967018021081265,
          0.19789187351241075,
          0.19789187351241075,
          0.19806188371302277,
          0.19806188371302277,
          0.19874192451547093,
          0.19874192451547093,
          0.19976198571914314,
          0.19976198571914314,
          0.20180210812648758,
          0.20180210812648758,
          0.20435226113566815,
          0.20435226113566815,
          0.20996259775586534,
          0.20996259775586534,
          0.2116626997619857,
          0.2116626997619857,
          0.21404284257055423,
          0.21404284257055423,
          0.21591295477728664,
          0.21591295477728664,
          0.21693301598095885,
          0.21693301598095885,
          0.21795307718463108,
          0.21795307718463108,
          0.2208432505950357,
          0.2208432505950357,
          0.22390343420605235,
          0.22390343420605235,
          0.2273036382182931,
          0.2273036382182931,
          0.23087385243114586,
          0.23087385243114586,
          0.23172390343420604,
          0.23172390343420604,
          0.23206392383543012,
          0.23206392383543012,
          0.23801428085685142,
          0.23801428085685142,
          0.24056443386603196,
          0.24056443386603196,
          0.24277456647398843,
          0.24277456647398843,
          0.24481468888133287,
          0.24481468888133287,
          0.24600476028561713,
          0.24600476028561713,
          0.2468548112886773,
          0.2468548112886773,
          0.24753485209112547,
          0.24753485209112547,
          0.24940496429785788,
          0.24940496429785788,
          0.2509350561033662,
          0.2509350561033662,
          0.2553553213192792,
          0.2553553213192792,
          0.2579054743284597,
          0.2579054743284597,
          0.2616456987419245,
          0.2616456987419245,
          0.2723563413804828,
          0.2723563413804828,
          0.27388643318599115,
          0.27388643318599115,
          0.27575654539272354,
          0.27575654539272354,
          0.2810268616116967,
          0.2810268616116967,
          0.28578714722883375,
          0.28578714722883375,
          0.2936076164569874,
          0.2936076164569874,
          0.2966678000680041,
          0.2966678000680041,
          0.30482828969738185,
          0.30482828969738185,
          0.31740904454267255,
          0.31740904454267255,
          0.3201292077524652,
          0.3201292077524652,
          0.3231893913634818,
          0.3231893913634818,
          0.3315198911934716,
          0.3315198911934716,
          0.33645018701122065,
          0.33645018701122065,
          0.34104046242774566,
          0.34104046242774566,
          0.342570554233254,
          0.342570554233254,
          0.34291057463447805,
          0.34291057463447805,
          0.35719143148588917,
          0.35719143148588917,
          0.37521251275076506,
          0.37521251275076506,
          0.3753825229513771,
          0.3753825229513771,
          0.38966337980278815,
          0.38966337980278815,
          0.39527371642298537,
          0.39527371642298537,
          0.40802448146888814,
          0.40802448146888814,
          0.41329479768786126,
          0.41329479768786126,
          0.4226453587215233,
          0.4226453587215233,
          0.4336960217613057,
          0.4336960217613057,
          0.43896633798027884,
          0.43896633798027884,
          0.43998639918395105,
          0.43998639918395105,
          0.45375722543352603,
          0.45375722543352603,
          0.47619857191431486,
          0.4765385923155389,
          0.48554913294797686,
          0.48554913294797686,
          0.490649438966338,
          0.490649438966338,
          0.4967698061883713,
          0.4967698061883713,
          0.49710982658959535,
          0.49710982658959535,
          0.49727983679020743,
          0.49727983679020743,
          0.5142808568514111,
          0.5142808568514111,
          0.5222713362801769,
          0.5222713362801769,
          0.5238014280856852,
          0.5238014280856852,
          0.5544032641958517,
          0.5544032641958517,
          0.5613736824209452,
          0.5613736824209452,
          0.6421285277116627,
          0.6421285277116627,
          0.7420945256715403,
          0.7420945256715403,
          0.7558653519211153,
          0.7558653519211153,
          0.7747364841890514,
          0.7747364841890514,
          0.819109146548793,
          0.819109146548793,
          0.8464807888473308,
          0.8464807888473308,
          1
         ],
         "xaxis": "x",
         "y": [
          0,
          0.00014150275930380644,
          0.1499929248620348,
          0.15027593038064244,
          0.3039479269845762,
          0.30423093250318384,
          0.6620914107825102,
          0.6620914107825102,
          0.7253431441913117,
          0.7253431441913117,
          0.7376538842507429,
          0.7376538842507429,
          0.7530776850148578,
          0.7530776850148578,
          0.756615253997453,
          0.756615253997453,
          0.7716145464836565,
          0.7716145464836565,
          0.7740200933918211,
          0.7740200933918211,
          0.7929814631385312,
          0.7929814631385312,
          0.796802037639734,
          0.796802037639734,
          0.7987830762699872,
          0.7987830762699872,
          0.8044431866421395,
          0.8044431866421395,
          0.8118013301259375,
          0.8118013301259375,
          0.8153388991085326,
          0.8153388991085326,
          0.8176029432573935,
          0.8176029432573935,
          0.8214235177585963,
          0.8214235177585963,
          0.8251025895004953,
          0.8251025895004953,
          0.8290646667610019,
          0.8290646667610019,
          0.8327437385029008,
          0.8327437385029008,
          0.836281307485496,
          0.836281307485496,
          0.8409508985425216,
          0.8409508985425216,
          0.8432149426913825,
          0.8432149426913825,
          0.845761992358851,
          0.845761992358851,
          0.8498655723786613,
          0.8498655723786613,
          0.8500070751379651,
          0.8500070751379651,
          0.8521296165275223,
          0.8521296165275223,
          0.8522711192868261,
          0.8522711192868261,
          0.854535163435687,
          0.854535163435687,
          0.8558086882694212,
          0.8558086882694212,
          0.8577897268996746,
          0.8577897268996746,
          0.8583557379368898,
          0.8583557379368898,
          0.861893306919485,
          0.861893306919485,
          0.8630253289939154,
          0.8630253289939154,
          0.8631668317532192,
          0.8631668317532192,
          0.8652893731427763,
          0.8652893731427763,
          0.8658553841799915,
          0.8658553841799915,
          0.8661383896985991,
          0.8661383896985991,
          0.8675534172916372,
          0.8675534172916372,
          0.8685439366067639,
          0.8685439366067639,
          0.8689684448846753,
          0.8689684448846753,
          0.8702419697184095,
          0.8702419697184095,
          0.8705249752370171,
          0.8705249752370171,
          0.8717985000707513,
          0.8717985000707513,
          0.872081505589359,
          0.872081505589359,
          0.8725060138672704,
          0.8725060138672704,
          0.8732135276637895,
          0.8732135276637895,
          0.8733550304230933,
          0.8733550304230933,
          0.8737795387010047,
          0.8737795387010047,
          0.8740625442196123,
          0.8740625442196123,
          0.8744870524975237,
          0.8744870524975237,
          0.8759020800905618,
          0.8759020800905618,
          0.8760435828498656,
          0.8760435828498656,
          0.8780246214801188,
          0.8780246214801188,
          0.8802886656289798,
          0.8802886656289798,
          0.8807131739068912,
          0.8807131739068912,
          0.8812791849441064,
          0.8812791849441064,
          0.8814206877034102,
          0.8814206877034102,
          0.8821282014999292,
          0.8821282014999292,
          0.8842507428894864,
          0.8842507428894864,
          0.8848167539267016,
          0.8848167539267016,
          0.8873638035941701,
          0.8873638035941701,
          0.8875053063534739,
          0.8875053063534739,
          0.8876468091127777,
          0.8876468091127777,
          0.8882128201499929,
          0.8882128201499929,
          0.8883543229092967,
          0.8883543229092967,
          0.8884958256686005,
          0.8884958256686005,
          0.8893448422244233,
          0.8893448422244233,
          0.8896278477430309,
          0.8896278477430309,
          0.8917503891325881,
          0.8917503891325881,
          0.8923164001698033,
          0.8923164001698033,
          0.8924579029291071,
          0.8924579029291071,
          0.8933069194849299,
          0.8933069194849299,
          0.894014433281449,
          0.894014433281449,
          0.8948634498372718,
          0.8948634498372718,
          0.8957124663930947,
          0.8957124663930947,
          0.8964199801896137,
          0.8964199801896137,
          0.8967029857082213,
          0.8967029857082213,
          0.8969859912268289,
          0.8969859912268289,
          0.8971274939861328,
          0.8971274939861328,
          0.8975520022640442,
          0.8975520022640442,
          0.8978350077826518,
          0.8978350077826518,
          0.8985425215791708,
          0.8985425215791708,
          0.8999575491722088,
          0.8999575491722088,
          0.9019385878024622,
          0.9019385878024622,
          0.9022215933210698,
          0.9022215933210698,
          0.902787604358285,
          0.902787604358285,
          0.9033536153955002,
          0.9033536153955002,
          0.9046271402292345,
          0.9046271402292345,
          0.9047686429885383,
          0.9047686429885383,
          0.9050516485071459,
          0.9050516485071459,
          0.9053346540257535,
          0.9053346540257535,
          0.9054761567850573,
          0.9054761567850573,
          0.9056176595443611,
          0.9056176595443611,
          0.9061836705815763,
          0.9061836705815763,
          0.9070326871373992,
          0.9070326871373992,
          0.9074571954153106,
          0.9074571954153106,
          0.9077402009339182,
          0.9077402009339182,
          0.9087307202490449,
          0.9087307202490449,
          0.9088722230083487,
          0.9088722230083487,
          0.9094382340455639,
          0.9094382340455639,
          0.9095797368048677,
          0.9095797368048677,
          0.9097212395641715,
          0.9097212395641715,
          0.9098627423234753,
          0.9098627423234753,
          0.9101457478420829,
          0.9101457478420829,
          0.9102872506013867,
          0.9102872506013867,
          0.9111362671572095,
          0.9111362671572095,
          0.911560775435121,
          0.911560775435121,
          0.9126927975095515,
          0.9126927975095515,
          0.9129758030281591,
          0.9129758030281591,
          0.9131173057874629,
          0.9131173057874629,
          0.9132588085467667,
          0.9132588085467667,
          0.9136833168246781,
          0.9136833168246781,
          0.9143908306211971,
          0.9143908306211971,
          0.9146738361398047,
          0.9146738361398047,
          0.9148153388991085,
          0.9148153388991085,
          0.9149568416584123,
          0.9149568416584123,
          0.9162303664921466,
          0.9162303664921466,
          0.916654874770058,
          0.916654874770058,
          0.9169378802886656,
          0.9169378802886656,
          0.9170793830479694,
          0.9170793830479694,
          0.917362388566577,
          0.917362388566577,
          0.9175038913258808,
          0.9175038913258808,
          0.9177868968444884,
          0.9177868968444884,
          0.9183529078817037,
          0.9183529078817037,
          0.9184944106410075,
          0.9184944106410075,
          0.9187774161596152,
          0.9187774161596152,
          0.9190604216782228,
          0.9190604216782228,
          0.9193434271968304,
          0.9193434271968304,
          0.919626432715438,
          0.919626432715438,
          0.9197679354747418,
          0.9197679354747418,
          0.920333946511957,
          0.920333946511957,
          0.9208999575491722,
          0.9208999575491722,
          0.9214659685863874,
          0.9214659685863874,
          0.921748974104995,
          0.921748974104995,
          0.9220319796236026,
          0.9220319796236026,
          0.9227394934201217,
          0.9227394934201217,
          0.9228809961794255,
          0.9228809961794255,
          0.9231640016980331,
          0.9231640016980331,
          0.923305504457337,
          0.923305504457337,
          0.9234470072166407,
          0.9234470072166407,
          0.9237300127352484,
          0.9237300127352484,
          0.924013018253856,
          0.924013018253856,
          0.9241545210131598,
          0.9241545210131598,
          0.9248620348096788,
          0.9248620348096788,
          0.9250035375689826,
          0.9250035375689826,
          0.9251450403282864,
          0.9251450403282864,
          0.9257110513655016,
          0.9257110513655016,
          0.9259940568841093,
          0.9259940568841093,
          0.9262770624027169,
          0.9262770624027169,
          0.9271260789585397,
          0.9271260789585397,
          0.9272675817178435,
          0.9272675817178435,
          0.9274090844771473,
          0.9274090844771473,
          0.9276920899957549,
          0.9276920899957549,
          0.9278335927550587,
          0.9278335927550587,
          0.9279750955143625,
          0.9279750955143625,
          0.9281165982736663,
          0.9281165982736663,
          0.9286826093108815,
          0.9286826093108815,
          0.9288241120701853,
          0.9288241120701853,
          0.9289656148294891,
          0.9289656148294891,
          0.9291071175887929,
          0.9291071175887929,
          0.9295316258667043,
          0.9295316258667043,
          0.9299561341446159,
          0.9299561341446159,
          0.9303806424225273,
          0.9303806424225273,
          0.9317956700155653,
          0.9317956700155653,
          0.9319371727748691,
          0.9319371727748691,
          0.9325031838120843,
          0.9325031838120843,
          0.9332106976086033,
          0.9332106976086033,
          0.9333522003679072,
          0.9333522003679072,
          0.933493703127211,
          0.933493703127211,
          0.9340597141644262,
          0.9340597141644262,
          0.9344842224423376,
          0.9344842224423376,
          0.9350502334795529,
          0.9350502334795529,
          0.9353332389981605,
          0.9353332389981605,
          0.9354747417574643,
          0.9354747417574643,
          0.9361822555539833,
          0.9361822555539833,
          0.9364652610725909,
          0.9364652610725909,
          0.9367482665911985,
          0.9367482665911985,
          0.9368897693505024,
          0.9368897693505024,
          0.93717277486911,
          0.93717277486911,
          0.9373142776284138,
          0.9373142776284138,
          0.9377387859063252,
          0.9377387859063252,
          0.937880288665629,
          0.937880288665629,
          0.9380217914249328,
          0.9380217914249328,
          0.9381632941842366,
          0.9381632941842366,
          0.9383047969435404,
          0.9383047969435404,
          0.938587802462148,
          0.938587802462148,
          0.9387293052214518,
          0.9387293052214518,
          0.9390123107400594,
          0.9390123107400594,
          0.9391538134993632,
          0.9391538134993632,
          0.939295316258667,
          0.939295316258667,
          0.9395783217772746,
          0.9395783217772746,
          0.9397198245365784,
          0.9397198245365784,
          0.9401443328144898,
          0.9401443328144898,
          0.9402858355737936,
          0.9402858355737936,
          0.9404273383330974,
          0.9404273383330974,
          0.9405688410924014,
          0.9405688410924014,
          0.9407103438517052,
          0.9407103438517052,
          0.940851846611009,
          0.940851846611009,
          0.9409933493703128,
          0.9409933493703128,
          0.9414178576482242,
          0.9414178576482242,
          0.942266874204047,
          0.942266874204047,
          0.9424083769633508,
          0.9424083769633508,
          0.9426913824819584,
          0.9426913824819584,
          0.942974388000566,
          0.942974388000566,
          0.9431158907598698,
          0.9431158907598698,
          0.9432573935191736,
          0.9432573935191736,
          0.9435403990377812,
          0.9435403990377812,
          0.9438234045563888,
          0.9438234045563888,
          0.9439649073156926,
          0.9439649073156926,
          0.9441064100749965,
          0.9441064100749965,
          0.9442479128343003,
          0.9442479128343003,
          0.9443894155936041,
          0.9443894155936041,
          0.9445309183529079,
          0.9445309183529079,
          0.9449554266308193,
          0.9449554266308193,
          0.9452384321494269,
          0.9452384321494269,
          0.9455214376680345,
          0.9455214376680345,
          0.9458044431866421,
          0.9458044431866421,
          0.9459459459459459,
          0.9459459459459459,
          0.9462289514645535,
          0.9462289514645535,
          0.9463704542238573,
          0.9463704542238573,
          0.9469364652610726,
          0.9469364652610726,
          0.9470779680203764,
          0.9470779680203764,
          0.9472194707796802,
          0.9472194707796802,
          0.9475024762982878,
          0.9475024762982878,
          0.9477854818168955,
          0.9477854818168955,
          0.9480684873355031,
          0.9480684873355031,
          0.9484929956134145,
          0.9484929956134145,
          0.9486344983727183,
          0.9486344983727183,
          0.9487760011320221,
          0.9487760011320221,
          0.9489175038913259,
          0.9489175038913259,
          0.9492005094099335,
          0.9492005094099335,
          0.9493420121692373,
          0.9493420121692373,
          0.9496250176878449,
          0.9496250176878449,
          0.9497665204471487,
          0.9497665204471487,
          0.9499080232064525,
          0.9499080232064525,
          0.9500495259657563,
          0.9500495259657563,
          0.9504740342436677,
          0.9504740342436677,
          0.9506155370029715,
          0.9506155370029715,
          0.9508985425215791,
          0.9508985425215791,
          0.9510400452808829,
          0.9510400452808829,
          0.9513230507994906,
          0.9513230507994906,
          0.9516060563180982,
          0.9516060563180982,
          0.951747559077402,
          0.951747559077402,
          0.9520305645960097,
          0.9520305645960097,
          0.9521720673553135,
          0.9521720673553135,
          0.9527380783925287,
          0.9527380783925287,
          0.9530210839111363,
          0.9530210839111363,
          0.9533040894297439,
          0.9533040894297439,
          0.9534455921890477,
          0.9534455921890477,
          0.9535870949483515,
          0.9535870949483515,
          0.9537285977076553,
          0.9537285977076553,
          0.9538701004669591,
          0.9538701004669591,
          0.9542946087448705,
          0.9542946087448705,
          0.9544361115041743,
          0.9544361115041743,
          0.9545776142634781,
          0.9545776142634781,
          0.9547191170227819,
          0.9547191170227819,
          0.9550021225413896,
          0.9550021225413896,
          0.955426630819301,
          0.955426630819301,
          0.9555681335786048,
          0.9555681335786048,
          0.9557096363379086,
          0.9557096363379086,
          0.9558511390972124,
          0.9558511390972124,
          0.9559926418565162,
          0.9559926418565162,
          0.95613414461582,
          0.95613414461582,
          0.9562756473751238,
          0.9562756473751238,
          0.9564171501344276,
          0.9564171501344276,
          0.9565586528937314,
          0.9565586528937314,
          0.956841658412339,
          0.956841658412339,
          0.9571246639309466,
          0.9571246639309466,
          0.9576906749681618,
          0.9576906749681618,
          0.9578321777274657,
          0.9578321777274657,
          0.9581151832460733,
          0.9581151832460733,
          0.9582566860053771,
          0.9582566860053771,
          0.9583981887646809,
          0.9583981887646809,
          0.9585396915239848,
          0.9585396915239848,
          0.9586811942832886,
          0.9586811942832886,
          0.9588226970425924,
          0.9588226970425924,
          0.9589641998018962,
          0.9589641998018962,
          0.9591057025612,
          0.9591057025612,
          0.9592472053205038,
          0.9592472053205038,
          0.9593887080798076,
          0.9593887080798076,
          0.9595302108391114,
          0.9595302108391114,
          0.959813216357719,
          0.959813216357719,
          0.9600962218763266,
          0.9600962218763266,
          0.9602377246356304,
          0.9602377246356304,
          0.9603792273949342,
          0.9603792273949342,
          0.960520730154238,
          0.960520730154238,
          0.9606622329135418,
          0.9606622329135418,
          0.9609452384321494,
          0.9609452384321494,
          0.9616527522286684,
          0.9616527522286684,
          0.9617942549879722,
          0.9617942549879722,
          0.961935757747276,
          0.961935757747276,
          0.9622187632658837,
          0.9622187632658837,
          0.962784774303099,
          0.962784774303099,
          0.9629262770624027,
          0.9629262770624027,
          0.9630677798217065,
          0.9630677798217065,
          0.9632092825810104,
          0.9632092825810104,
          0.9633507853403142,
          0.9633507853403142,
          0.9637752936182256,
          0.9637752936182256,
          0.964199801896137,
          0.964199801896137,
          0.9643413046554408,
          0.9643413046554408,
          0.9644828074147446,
          0.9644828074147446,
          0.9650488184519598,
          0.9650488184519598,
          0.9653318239705674,
          0.9653318239705674,
          0.9654733267298712,
          0.9654733267298712,
          0.965614829489175,
          0.965614829489175,
          0.9658978350077827,
          0.9658978350077827,
          0.9660393377670865,
          0.9660393377670865,
          0.9661808405263903,
          0.9661808405263903,
          0.9663223432856941,
          0.9663223432856941,
          0.9664638460449979,
          0.9664638460449979,
          0.9666053488043017,
          0.9666053488043017,
          0.9668883543229093,
          0.9668883543229093,
          0.9670298570822131,
          0.9670298570822131,
          0.9671713598415169,
          0.9671713598415169,
          0.9674543653601245,
          0.9674543653601245,
          0.9677373708787321,
          0.9677373708787321,
          0.9678788736380359,
          0.9678788736380359,
          0.9680203763973397,
          0.9680203763973397,
          0.9681618791566435,
          0.9681618791566435,
          0.9683033819159473,
          0.9683033819159473,
          0.9684448846752511,
          0.9684448846752511,
          0.9685863874345549,
          0.9685863874345549,
          0.9687278901938587,
          0.9687278901938587,
          0.9688693929531625,
          0.9688693929531625,
          0.9690108957124663,
          0.9690108957124663,
          0.9691523984717701,
          0.9691523984717701,
          0.969293901231074,
          0.969293901231074,
          0.9694354039903779,
          0.9694354039903779,
          0.9695769067496817,
          0.9695769067496817,
          0.9697184095089855,
          0.9697184095089855,
          0.9698599122682893,
          0.9698599122682893,
          0.9702844205462007,
          0.9702844205462007,
          0.9704259233055045,
          0.9704259233055045,
          0.9705674260648083,
          0.9705674260648083,
          0.9707089288241121,
          0.9707089288241121,
          0.9708504315834159,
          0.9708504315834159,
          0.9709919343427197,
          0.9709919343427197,
          0.9711334371020235,
          0.9711334371020235,
          0.9712749398613273,
          0.9712749398613273,
          0.9714164426206311,
          0.9714164426206311,
          0.9715579453799349,
          0.9715579453799349,
          0.9716994481392387,
          0.9716994481392387,
          0.9718409508985425,
          0.9718409508985425,
          0.9719824536578463,
          0.9719824536578463,
          0.9721239564171501,
          0.9721239564171501,
          0.9722654591764539,
          0.9722654591764539,
          0.9724069619357577,
          0.9724069619357577,
          0.9725484646950615,
          0.9725484646950615,
          0.9726899674543653,
          0.9726899674543653,
          0.9728314702136691,
          0.9728314702136691,
          0.972972972972973,
          0.972972972972973,
          0.9731144757322768,
          0.9731144757322768,
          0.9735389840101882,
          0.9735389840101882,
          0.973680486769492,
          0.973680486769492,
          0.9738219895287958,
          0.9738219895287958,
          0.9739634922880996,
          0.9739634922880996,
          0.9742464978067072,
          0.9742464978067072,
          0.974388000566011,
          0.974388000566011,
          0.9745295033253148,
          0.9745295033253148,
          0.9746710060846187,
          0.9746710060846187,
          0.9748125088439225,
          0.9748125088439225,
          0.9749540116032263,
          0.9749540116032263,
          0.9752370171218339,
          0.9752370171218339,
          0.9753785198811377,
          0.9753785198811377,
          0.9758030281590491,
          0.9758030281590491,
          0.9760860336776567,
          0.9760860336776567,
          0.9762275364369605,
          0.9762275364369605,
          0.9765105419555681,
          0.9765105419555681,
          0.976652044714872,
          0.976652044714872,
          0.9772180557520872,
          0.9772180557520872,
          0.977359558511391,
          0.977359558511391,
          0.9776425640299986,
          0.9776425640299986,
          0.97806707230791,
          0.97806707230791,
          0.9782085750672138,
          0.9782085750672138,
          0.9783500778265176,
          0.9783500778265176,
          0.9786330833451252,
          0.9786330833451252,
          0.978774586104429,
          0.978774586104429,
          0.9790575916230366,
          0.9790575916230366,
          0.9797651054195556,
          0.9797651054195556,
          0.9799066081788594,
          0.9799066081788594,
          0.9801896136974672,
          0.9801896136974672,
          0.9804726192160748,
          0.9804726192160748,
          0.9806141219753786,
          0.9806141219753786,
          0.9808971274939862,
          0.9808971274939862,
          0.98103863025329,
          0.98103863025329,
          0.9813216357718976,
          0.9813216357718976,
          0.9814631385312014,
          0.9814631385312014,
          0.9816046412905052,
          0.9816046412905052,
          0.981746144049809,
          0.981746144049809,
          0.9818876468091128,
          0.9818876468091128,
          0.9820291495684166,
          0.9820291495684166,
          0.9821706523277204,
          0.9821706523277204,
          0.9823121550870242,
          0.9823121550870242,
          0.982453657846328,
          0.982453657846328,
          0.9825951606056318,
          0.9825951606056318,
          0.9827366633649356,
          0.9827366633649356,
          0.9830196688835432,
          0.9830196688835432,
          0.983161171642847,
          0.983161171642847,
          0.9833026744021508,
          0.9833026744021508,
          0.9834441771614546,
          0.9834441771614546,
          0.9835856799207584,
          0.9835856799207584,
          0.9837271826800622,
          0.9837271826800622,
          0.9838686854393661,
          0.9838686854393661,
          0.9840101881986699,
          0.9840101881986699,
          0.9841516909579737,
          0.9841516909579737,
          0.9842931937172775,
          0.9842931937172775,
          0.9844346964765813,
          0.9844346964765813,
          0.9847177019951889,
          0.9847177019951889,
          0.9850007075137965,
          0.9850007075137965,
          0.9851422102731003,
          0.9851422102731003,
          0.9852837130324041,
          0.9852837130324041,
          0.9854252157917079,
          0.9854252157917079,
          0.9855667185510117,
          0.9855667185510117,
          0.9857082213103155,
          0.9857082213103155,
          0.9858497240696193,
          0.9858497240696193,
          0.9859912268289232,
          0.9859912268289232,
          0.986132729588227,
          0.986132729588227,
          0.9864157351068346,
          0.9864157351068346,
          0.9865572378661384,
          0.9865572378661384,
          0.9866987406254422,
          0.9866987406254422,
          0.986840243384746,
          0.986840243384746,
          0.9869817461440498,
          0.9869817461440498,
          0.9871232489033536,
          0.9871232489033536,
          0.9872647516626574,
          0.9872647516626574,
          0.9874062544219613,
          0.9874062544219613,
          0.9875477571812651,
          0.9875477571812651,
          0.9876892599405689,
          0.9876892599405689,
          0.9878307626998727,
          0.9878307626998727,
          0.9879722654591765,
          0.9879722654591765,
          0.9881137682184803,
          0.9881137682184803,
          0.9882552709777841,
          0.9882552709777841,
          0.9883967737370879,
          0.9883967737370879,
          0.9885382764963917,
          0.9885382764963917,
          0.9886797792556955,
          0.9886797792556955,
          0.9888212820149993,
          0.9888212820149993,
          0.9889627847743031,
          0.9889627847743031,
          0.9891042875336069,
          0.9891042875336069,
          0.9892457902929107,
          0.9892457902929107,
          0.9893872930522145,
          0.9893872930522145,
          0.9895287958115183,
          0.9895287958115183,
          0.9896702985708221,
          0.9896702985708221,
          0.9898118013301259,
          0.9898118013301259,
          0.9899533040894297,
          0.9899533040894297,
          0.9900948068487335,
          0.9900948068487335,
          0.9902363096080373,
          0.9902363096080373,
          0.9903778123673411,
          0.9903778123673411,
          0.9905193151266449,
          0.9905193151266449,
          0.9906608178859487,
          0.9906608178859487,
          0.9908023206452525,
          0.9908023206452525,
          0.9910853261638602,
          0.9910853261638602,
          0.9913683316824679,
          0.9913683316824679,
          0.9915098344417717,
          0.9915098344417717,
          0.9916513372010755,
          0.9916513372010755,
          0.9919343427196831,
          0.9919343427196831,
          0.9922173482382907,
          0.9922173482382907,
          0.9923588509975945,
          0.9923588509975945,
          0.9925003537568983,
          0.9925003537568983,
          0.9926418565162021,
          0.9926418565162021,
          0.9927833592755059,
          0.9927833592755059,
          0.9929248620348097,
          0.9929248620348097,
          0.9930663647941135,
          0.9930663647941135,
          0.9932078675534173,
          0.9932078675534173,
          0.9933493703127211,
          0.9933493703127211,
          0.9934908730720249,
          0.9934908730720249,
          0.9936323758313287,
          0.9936323758313287,
          0.9937738785906325,
          0.9937738785906325,
          0.9939153813499363,
          0.9939153813499363,
          0.9940568841092401,
          0.9940568841092401,
          0.9941983868685439,
          0.9941983868685439,
          0.9943398896278477,
          0.9943398896278477,
          0.9944813923871515,
          0.9944813923871515,
          0.9946228951464554,
          0.9946228951464554,
          0.9947643979057592,
          0.9947643979057592,
          0.9950474034243668,
          0.9950474034243668,
          0.9951889061836706,
          0.9951889061836706,
          0.9953304089429744,
          0.9953304089429744,
          0.9954719117022782,
          0.9954719117022782,
          0.995613414461582,
          0.995613414461582,
          0.9957549172208858,
          0.9957549172208858,
          0.9958964199801896,
          0.9958964199801896,
          0.9960379227394934,
          0.9960379227394934,
          0.9961794254987972,
          0.9961794254987972,
          0.996320928258101,
          0.996320928258101,
          0.9964624310174048,
          0.9964624310174048,
          0.9966039337767086,
          0.9966039337767086,
          0.9967454365360124,
          0.9967454365360124,
          0.9968869392953162,
          0.9968869392953162,
          0.99702844205462,
          0.99702844205462,
          0.9971699448139238,
          0.9971699448139238,
          0.9973114475732276,
          0.9973114475732276,
          0.9974529503325315,
          0.9974529503325315,
          0.9975944530918353,
          0.9975944530918353,
          0.9977359558511391,
          0.9977359558511391,
          0.9977359558511391,
          0.9977359558511391,
          0.9978774586104429,
          0.9978774586104429,
          0.9980189613697467,
          0.9980189613697467,
          0.9981604641290505,
          0.9981604641290505,
          0.9983019668883544,
          0.9983019668883544,
          0.9984434696476582,
          0.9984434696476582,
          0.998584972406962,
          0.998584972406962,
          0.9987264751662658,
          0.9987264751662658,
          0.9988679779255696,
          0.9988679779255696,
          0.9990094806848734,
          0.9990094806848734,
          0.9991509834441772,
          0.9991509834441772,
          0.999292486203481,
          0.999292486203481,
          0.9994339889627848,
          0.9994339889627848,
          0.9995754917220886,
          0.9995754917220886,
          0.9997169944813924,
          0.9997169944813924,
          0.9998584972406962,
          0.9998584972406962,
          1,
          1
         ],
         "yaxis": "y"
        },
        {
         "line": {
          "color": "firebrick",
          "dash": "dash"
         },
         "name": "diagonal",
         "type": "scatter",
         "x": [
          0,
          1
         ],
         "y": [
          0,
          1
         ]
        }
       ],
       "layout": {
        "height": 500,
        "legend": {
         "tracegroupgap": 0
        },
        "shapes": [
         {
          "line": {
           "dash": "dash"
          },
          "type": "line",
          "x0": 0,
          "x1": 1,
          "y0": 0,
          "y1": 1
         }
        ],
        "template": {
         "data": {
          "bar": [
           {
            "error_x": {
             "color": "#2a3f5f"
            },
            "error_y": {
             "color": "#2a3f5f"
            },
            "marker": {
             "line": {
              "color": "#E5ECF6",
              "width": 0.5
             },
             "pattern": {
              "fillmode": "overlay",
              "size": 10,
              "solidity": 0.2
             }
            },
            "type": "bar"
           }
          ],
          "barpolar": [
           {
            "marker": {
             "line": {
              "color": "#E5ECF6",
              "width": 0.5
             },
             "pattern": {
              "fillmode": "overlay",
              "size": 10,
              "solidity": 0.2
             }
            },
            "type": "barpolar"
           }
          ],
          "carpet": [
           {
            "aaxis": {
             "endlinecolor": "#2a3f5f",
             "gridcolor": "white",
             "linecolor": "white",
             "minorgridcolor": "white",
             "startlinecolor": "#2a3f5f"
            },
            "baxis": {
             "endlinecolor": "#2a3f5f",
             "gridcolor": "white",
             "linecolor": "white",
             "minorgridcolor": "white",
             "startlinecolor": "#2a3f5f"
            },
            "type": "carpet"
           }
          ],
          "choropleth": [
           {
            "colorbar": {
             "outlinewidth": 0,
             "ticks": ""
            },
            "type": "choropleth"
           }
          ],
          "contour": [
           {
            "colorbar": {
             "outlinewidth": 0,
             "ticks": ""
            },
            "colorscale": [
             [
              0,
              "#0d0887"
             ],
             [
              0.1111111111111111,
              "#46039f"
             ],
             [
              0.2222222222222222,
              "#7201a8"
             ],
             [
              0.3333333333333333,
              "#9c179e"
             ],
             [
              0.4444444444444444,
              "#bd3786"
             ],
             [
              0.5555555555555556,
              "#d8576b"
             ],
             [
              0.6666666666666666,
              "#ed7953"
             ],
             [
              0.7777777777777778,
              "#fb9f3a"
             ],
             [
              0.8888888888888888,
              "#fdca26"
             ],
             [
              1,
              "#f0f921"
             ]
            ],
            "type": "contour"
           }
          ],
          "contourcarpet": [
           {
            "colorbar": {
             "outlinewidth": 0,
             "ticks": ""
            },
            "type": "contourcarpet"
           }
          ],
          "heatmap": [
           {
            "colorbar": {
             "outlinewidth": 0,
             "ticks": ""
            },
            "colorscale": [
             [
              0,
              "#0d0887"
             ],
             [
              0.1111111111111111,
              "#46039f"
             ],
             [
              0.2222222222222222,
              "#7201a8"
             ],
             [
              0.3333333333333333,
              "#9c179e"
             ],
             [
              0.4444444444444444,
              "#bd3786"
             ],
             [
              0.5555555555555556,
              "#d8576b"
             ],
             [
              0.6666666666666666,
              "#ed7953"
             ],
             [
              0.7777777777777778,
              "#fb9f3a"
             ],
             [
              0.8888888888888888,
              "#fdca26"
             ],
             [
              1,
              "#f0f921"
             ]
            ],
            "type": "heatmap"
           }
          ],
          "heatmapgl": [
           {
            "colorbar": {
             "outlinewidth": 0,
             "ticks": ""
            },
            "colorscale": [
             [
              0,
              "#0d0887"
             ],
             [
              0.1111111111111111,
              "#46039f"
             ],
             [
              0.2222222222222222,
              "#7201a8"
             ],
             [
              0.3333333333333333,
              "#9c179e"
             ],
             [
              0.4444444444444444,
              "#bd3786"
             ],
             [
              0.5555555555555556,
              "#d8576b"
             ],
             [
              0.6666666666666666,
              "#ed7953"
             ],
             [
              0.7777777777777778,
              "#fb9f3a"
             ],
             [
              0.8888888888888888,
              "#fdca26"
             ],
             [
              1,
              "#f0f921"
             ]
            ],
            "type": "heatmapgl"
           }
          ],
          "histogram": [
           {
            "marker": {
             "pattern": {
              "fillmode": "overlay",
              "size": 10,
              "solidity": 0.2
             }
            },
            "type": "histogram"
           }
          ],
          "histogram2d": [
           {
            "colorbar": {
             "outlinewidth": 0,
             "ticks": ""
            },
            "colorscale": [
             [
              0,
              "#0d0887"
             ],
             [
              0.1111111111111111,
              "#46039f"
             ],
             [
              0.2222222222222222,
              "#7201a8"
             ],
             [
              0.3333333333333333,
              "#9c179e"
             ],
             [
              0.4444444444444444,
              "#bd3786"
             ],
             [
              0.5555555555555556,
              "#d8576b"
             ],
             [
              0.6666666666666666,
              "#ed7953"
             ],
             [
              0.7777777777777778,
              "#fb9f3a"
             ],
             [
              0.8888888888888888,
              "#fdca26"
             ],
             [
              1,
              "#f0f921"
             ]
            ],
            "type": "histogram2d"
           }
          ],
          "histogram2dcontour": [
           {
            "colorbar": {
             "outlinewidth": 0,
             "ticks": ""
            },
            "colorscale": [
             [
              0,
              "#0d0887"
             ],
             [
              0.1111111111111111,
              "#46039f"
             ],
             [
              0.2222222222222222,
              "#7201a8"
             ],
             [
              0.3333333333333333,
              "#9c179e"
             ],
             [
              0.4444444444444444,
              "#bd3786"
             ],
             [
              0.5555555555555556,
              "#d8576b"
             ],
             [
              0.6666666666666666,
              "#ed7953"
             ],
             [
              0.7777777777777778,
              "#fb9f3a"
             ],
             [
              0.8888888888888888,
              "#fdca26"
             ],
             [
              1,
              "#f0f921"
             ]
            ],
            "type": "histogram2dcontour"
           }
          ],
          "mesh3d": [
           {
            "colorbar": {
             "outlinewidth": 0,
             "ticks": ""
            },
            "type": "mesh3d"
           }
          ],
          "parcoords": [
           {
            "line": {
             "colorbar": {
              "outlinewidth": 0,
              "ticks": ""
             }
            },
            "type": "parcoords"
           }
          ],
          "pie": [
           {
            "automargin": true,
            "type": "pie"
           }
          ],
          "scatter": [
           {
            "fillpattern": {
             "fillmode": "overlay",
             "size": 10,
             "solidity": 0.2
            },
            "type": "scatter"
           }
          ],
          "scatter3d": [
           {
            "line": {
             "colorbar": {
              "outlinewidth": 0,
              "ticks": ""
             }
            },
            "marker": {
             "colorbar": {
              "outlinewidth": 0,
              "ticks": ""
             }
            },
            "type": "scatter3d"
           }
          ],
          "scattercarpet": [
           {
            "marker": {
             "colorbar": {
              "outlinewidth": 0,
              "ticks": ""
             }
            },
            "type": "scattercarpet"
           }
          ],
          "scattergeo": [
           {
            "marker": {
             "colorbar": {
              "outlinewidth": 0,
              "ticks": ""
             }
            },
            "type": "scattergeo"
           }
          ],
          "scattergl": [
           {
            "marker": {
             "colorbar": {
              "outlinewidth": 0,
              "ticks": ""
             }
            },
            "type": "scattergl"
           }
          ],
          "scattermapbox": [
           {
            "marker": {
             "colorbar": {
              "outlinewidth": 0,
              "ticks": ""
             }
            },
            "type": "scattermapbox"
           }
          ],
          "scatterpolar": [
           {
            "marker": {
             "colorbar": {
              "outlinewidth": 0,
              "ticks": ""
             }
            },
            "type": "scatterpolar"
           }
          ],
          "scatterpolargl": [
           {
            "marker": {
             "colorbar": {
              "outlinewidth": 0,
              "ticks": ""
             }
            },
            "type": "scatterpolargl"
           }
          ],
          "scatterternary": [
           {
            "marker": {
             "colorbar": {
              "outlinewidth": 0,
              "ticks": ""
             }
            },
            "type": "scatterternary"
           }
          ],
          "surface": [
           {
            "colorbar": {
             "outlinewidth": 0,
             "ticks": ""
            },
            "colorscale": [
             [
              0,
              "#0d0887"
             ],
             [
              0.1111111111111111,
              "#46039f"
             ],
             [
              0.2222222222222222,
              "#7201a8"
             ],
             [
              0.3333333333333333,
              "#9c179e"
             ],
             [
              0.4444444444444444,
              "#bd3786"
             ],
             [
              0.5555555555555556,
              "#d8576b"
             ],
             [
              0.6666666666666666,
              "#ed7953"
             ],
             [
              0.7777777777777778,
              "#fb9f3a"
             ],
             [
              0.8888888888888888,
              "#fdca26"
             ],
             [
              1,
              "#f0f921"
             ]
            ],
            "type": "surface"
           }
          ],
          "table": [
           {
            "cells": {
             "fill": {
              "color": "#EBF0F8"
             },
             "line": {
              "color": "white"
             }
            },
            "header": {
             "fill": {
              "color": "#C8D4E3"
             },
             "line": {
              "color": "white"
             }
            },
            "type": "table"
           }
          ]
         },
         "layout": {
          "annotationdefaults": {
           "arrowcolor": "#2a3f5f",
           "arrowhead": 0,
           "arrowwidth": 1
          },
          "autotypenumbers": "strict",
          "coloraxis": {
           "colorbar": {
            "outlinewidth": 0,
            "ticks": ""
           }
          },
          "colorscale": {
           "diverging": [
            [
             0,
             "#8e0152"
            ],
            [
             0.1,
             "#c51b7d"
            ],
            [
             0.2,
             "#de77ae"
            ],
            [
             0.3,
             "#f1b6da"
            ],
            [
             0.4,
             "#fde0ef"
            ],
            [
             0.5,
             "#f7f7f7"
            ],
            [
             0.6,
             "#e6f5d0"
            ],
            [
             0.7,
             "#b8e186"
            ],
            [
             0.8,
             "#7fbc41"
            ],
            [
             0.9,
             "#4d9221"
            ],
            [
             1,
             "#276419"
            ]
           ],
           "sequential": [
            [
             0,
             "#0d0887"
            ],
            [
             0.1111111111111111,
             "#46039f"
            ],
            [
             0.2222222222222222,
             "#7201a8"
            ],
            [
             0.3333333333333333,
             "#9c179e"
            ],
            [
             0.4444444444444444,
             "#bd3786"
            ],
            [
             0.5555555555555556,
             "#d8576b"
            ],
            [
             0.6666666666666666,
             "#ed7953"
            ],
            [
             0.7777777777777778,
             "#fb9f3a"
            ],
            [
             0.8888888888888888,
             "#fdca26"
            ],
            [
             1,
             "#f0f921"
            ]
           ],
           "sequentialminus": [
            [
             0,
             "#0d0887"
            ],
            [
             0.1111111111111111,
             "#46039f"
            ],
            [
             0.2222222222222222,
             "#7201a8"
            ],
            [
             0.3333333333333333,
             "#9c179e"
            ],
            [
             0.4444444444444444,
             "#bd3786"
            ],
            [
             0.5555555555555556,
             "#d8576b"
            ],
            [
             0.6666666666666666,
             "#ed7953"
            ],
            [
             0.7777777777777778,
             "#fb9f3a"
            ],
            [
             0.8888888888888888,
             "#fdca26"
            ],
            [
             1,
             "#f0f921"
            ]
           ]
          },
          "colorway": [
           "#636efa",
           "#EF553B",
           "#00cc96",
           "#ab63fa",
           "#FFA15A",
           "#19d3f3",
           "#FF6692",
           "#B6E880",
           "#FF97FF",
           "#FECB52"
          ],
          "font": {
           "color": "#2a3f5f"
          },
          "geo": {
           "bgcolor": "white",
           "lakecolor": "white",
           "landcolor": "#E5ECF6",
           "showlakes": true,
           "showland": true,
           "subunitcolor": "white"
          },
          "hoverlabel": {
           "align": "left"
          },
          "hovermode": "closest",
          "mapbox": {
           "style": "light"
          },
          "paper_bgcolor": "white",
          "plot_bgcolor": "#E5ECF6",
          "polar": {
           "angularaxis": {
            "gridcolor": "white",
            "linecolor": "white",
            "ticks": ""
           },
           "bgcolor": "#E5ECF6",
           "radialaxis": {
            "gridcolor": "white",
            "linecolor": "white",
            "ticks": ""
           }
          },
          "scene": {
           "xaxis": {
            "backgroundcolor": "#E5ECF6",
            "gridcolor": "white",
            "gridwidth": 2,
            "linecolor": "white",
            "showbackground": true,
            "ticks": "",
            "zerolinecolor": "white"
           },
           "yaxis": {
            "backgroundcolor": "#E5ECF6",
            "gridcolor": "white",
            "gridwidth": 2,
            "linecolor": "white",
            "showbackground": true,
            "ticks": "",
            "zerolinecolor": "white"
           },
           "zaxis": {
            "backgroundcolor": "#E5ECF6",
            "gridcolor": "white",
            "gridwidth": 2,
            "linecolor": "white",
            "showbackground": true,
            "ticks": "",
            "zerolinecolor": "white"
           }
          },
          "shapedefaults": {
           "line": {
            "color": "#2a3f5f"
           }
          },
          "ternary": {
           "aaxis": {
            "gridcolor": "white",
            "linecolor": "white",
            "ticks": ""
           },
           "baxis": {
            "gridcolor": "white",
            "linecolor": "white",
            "ticks": ""
           },
           "bgcolor": "#E5ECF6",
           "caxis": {
            "gridcolor": "white",
            "linecolor": "white",
            "ticks": ""
           }
          },
          "title": {
           "x": 0.05
          },
          "xaxis": {
           "automargin": true,
           "gridcolor": "white",
           "linecolor": "white",
           "ticks": "",
           "title": {
            "standoff": 15
           },
           "zerolinecolor": "white",
           "zerolinewidth": 2
          },
          "yaxis": {
           "automargin": true,
           "gridcolor": "white",
           "linecolor": "white",
           "ticks": "",
           "title": {
            "standoff": 15
           },
           "zerolinecolor": "white",
           "zerolinewidth": 2
          }
         }
        },
        "title": {
         "text": "ROC Curve (AUC=0.9891)"
        },
        "width": 700,
        "xaxis": {
         "anchor": "y",
         "domain": [
          0,
          1
         ],
         "title": {
          "text": "False Positive Rate"
         }
        },
        "yaxis": {
         "anchor": "x",
         "domain": [
          0,
          1
         ],
         "title": {
          "text": "True Positive Rate"
         }
        }
       }
      }
     },
     "metadata": {},
     "output_type": "display_data"
    }
   ],
   "source": [
    "from sklearn.metrics import roc_curve, auc\n",
    "\n",
    "# Some post training visualizations\n",
    "# Feature Importance\n",
    "# Feature Importance\n",
    "feature_importance = model.feature_importances_\n",
    "sorted_idx = np.argsort(feature_importance)[::-1]\n",
    "\n",
    "fig = px.bar(x=X.columns[sorted_idx], y=feature_importance[sorted_idx], labels={'x':'Feature', 'y':'Importance'}, title='Feature Importance')\n",
    "fig.show()\n",
    "\n",
    "# Confusion Matrix\n",
    "fig = px.imshow(cm, labels=dict(x=\"Predicted\", y=\"Actual\", color=\"Count\"), x=['Neutral or Dissatisfied', 'Satisfied'], y=['Neutral or Dissatisfied', 'Satisfied'])\n",
    "fig.show()\n",
    "\n",
    "# ROC Curve\n",
    "y_pred_proba = model.predict_proba(X_test)[:,1]\n",
    "fpr, tpr, _ = roc_curve(y_test, y_pred_proba)\n",
    "roc_auc = auc(fpr, tpr)\n",
    "\n",
    "fig = px.area(\n",
    "    x=fpr, y=tpr,\n",
    "    title=f'ROC Curve (AUC={roc_auc:.4f})',\n",
    "    labels=dict(x='False Positive Rate', y='True Positive Rate'),\n",
    "    width=700, height=500\n",
    ")\n",
    "fig.add_shape(\n",
    "    type='line', line=dict(dash='dash'),\n",
    "    x0=0, x1=1, y0=0, y1=1\n",
    ")\n",
    "\n",
    "fig.add_trace(go.Scatter(x=[0, 1], y=[0, 1], line=dict(color='firebrick', dash='dash'), name='diagonal'))\n",
    "fig.show()"
   ]
  },
  {
   "cell_type": "code",
   "execution_count": null,
   "metadata": {},
   "outputs": [],
   "source": []
  }
 ],
 "metadata": {
  "kernelspec": {
   "display_name": "ML",
   "language": "python",
   "name": "python3"
  },
  "language_info": {
   "codemirror_mode": {
    "name": "ipython",
    "version": 3
   },
   "file_extension": ".py",
   "mimetype": "text/x-python",
   "name": "python",
   "nbconvert_exporter": "python",
   "pygments_lexer": "ipython3",
   "version": "3.13.0"
  }
 },
 "nbformat": 4,
 "nbformat_minor": 2
}
