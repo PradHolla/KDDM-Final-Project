{
 "cells": [
  {
   "cell_type": "code",
   "execution_count": 1,
   "metadata": {},
   "outputs": [],
   "source": [
    "import pandas as pd\n",
    "import numpy as np\n",
    "import plotly.express as px\n",
    "from plotly.subplots import make_subplots\n",
    "from plotly.colors import qualitative\n",
    "import plotly.graph_objects as go\n",
    "from sklearn.model_selection import train_test_split\n",
    "from sklearn.preprocessing import StandardScaler\n",
    "from sklearn.metrics import accuracy_score, confusion_matrix, classification_report\n",
    "from xgboost import XGBClassifier\n",
    "%matplotlib inline"
   ]
  },
  {
   "cell_type": "code",
   "execution_count": 2,
   "metadata": {},
   "outputs": [
    {
     "data": {
      "text/html": [
       "<div>\n",
       "<style scoped>\n",
       "    .dataframe tbody tr th:only-of-type {\n",
       "        vertical-align: middle;\n",
       "    }\n",
       "\n",
       "    .dataframe tbody tr th {\n",
       "        vertical-align: top;\n",
       "    }\n",
       "\n",
       "    .dataframe thead th {\n",
       "        text-align: right;\n",
       "    }\n",
       "</style>\n",
       "<table border=\"1\" class=\"dataframe\">\n",
       "  <thead>\n",
       "    <tr style=\"text-align: right;\">\n",
       "      <th></th>\n",
       "      <th>satisfaction</th>\n",
       "      <th>gender</th>\n",
       "      <th>customer_type</th>\n",
       "      <th>age</th>\n",
       "      <th>type_of_travel</th>\n",
       "      <th>class</th>\n",
       "      <th>flight_distance</th>\n",
       "      <th>seat_comfort</th>\n",
       "      <th>departure_arrival_time_convenient</th>\n",
       "      <th>food_and_drink</th>\n",
       "      <th>...</th>\n",
       "      <th>online_support</th>\n",
       "      <th>ease_of_online_booking</th>\n",
       "      <th>on-board_service</th>\n",
       "      <th>leg_room_service</th>\n",
       "      <th>baggage_handling</th>\n",
       "      <th>checkin_service</th>\n",
       "      <th>cleanliness</th>\n",
       "      <th>online_boarding</th>\n",
       "      <th>departure_delay_in_minutes</th>\n",
       "      <th>arrival_delay_in_minutes</th>\n",
       "    </tr>\n",
       "  </thead>\n",
       "  <tbody>\n",
       "    <tr>\n",
       "      <th>0</th>\n",
       "      <td>satisfied</td>\n",
       "      <td>Female</td>\n",
       "      <td>Loyal Customer</td>\n",
       "      <td>65</td>\n",
       "      <td>Personal Travel</td>\n",
       "      <td>Eco</td>\n",
       "      <td>265</td>\n",
       "      <td>0</td>\n",
       "      <td>0</td>\n",
       "      <td>0</td>\n",
       "      <td>...</td>\n",
       "      <td>2</td>\n",
       "      <td>3</td>\n",
       "      <td>3</td>\n",
       "      <td>0</td>\n",
       "      <td>3</td>\n",
       "      <td>5</td>\n",
       "      <td>3</td>\n",
       "      <td>2</td>\n",
       "      <td>0</td>\n",
       "      <td>0.0</td>\n",
       "    </tr>\n",
       "    <tr>\n",
       "      <th>1</th>\n",
       "      <td>satisfied</td>\n",
       "      <td>Male</td>\n",
       "      <td>Loyal Customer</td>\n",
       "      <td>47</td>\n",
       "      <td>Personal Travel</td>\n",
       "      <td>Business</td>\n",
       "      <td>2464</td>\n",
       "      <td>0</td>\n",
       "      <td>0</td>\n",
       "      <td>0</td>\n",
       "      <td>...</td>\n",
       "      <td>2</td>\n",
       "      <td>3</td>\n",
       "      <td>4</td>\n",
       "      <td>4</td>\n",
       "      <td>4</td>\n",
       "      <td>2</td>\n",
       "      <td>3</td>\n",
       "      <td>2</td>\n",
       "      <td>310</td>\n",
       "      <td>305.0</td>\n",
       "    </tr>\n",
       "    <tr>\n",
       "      <th>2</th>\n",
       "      <td>satisfied</td>\n",
       "      <td>Female</td>\n",
       "      <td>Loyal Customer</td>\n",
       "      <td>15</td>\n",
       "      <td>Personal Travel</td>\n",
       "      <td>Eco</td>\n",
       "      <td>2138</td>\n",
       "      <td>0</td>\n",
       "      <td>0</td>\n",
       "      <td>0</td>\n",
       "      <td>...</td>\n",
       "      <td>2</td>\n",
       "      <td>2</td>\n",
       "      <td>3</td>\n",
       "      <td>3</td>\n",
       "      <td>4</td>\n",
       "      <td>4</td>\n",
       "      <td>4</td>\n",
       "      <td>2</td>\n",
       "      <td>0</td>\n",
       "      <td>0.0</td>\n",
       "    </tr>\n",
       "    <tr>\n",
       "      <th>3</th>\n",
       "      <td>satisfied</td>\n",
       "      <td>Female</td>\n",
       "      <td>Loyal Customer</td>\n",
       "      <td>60</td>\n",
       "      <td>Personal Travel</td>\n",
       "      <td>Eco</td>\n",
       "      <td>623</td>\n",
       "      <td>0</td>\n",
       "      <td>0</td>\n",
       "      <td>0</td>\n",
       "      <td>...</td>\n",
       "      <td>3</td>\n",
       "      <td>1</td>\n",
       "      <td>1</td>\n",
       "      <td>0</td>\n",
       "      <td>1</td>\n",
       "      <td>4</td>\n",
       "      <td>1</td>\n",
       "      <td>3</td>\n",
       "      <td>0</td>\n",
       "      <td>0.0</td>\n",
       "    </tr>\n",
       "    <tr>\n",
       "      <th>4</th>\n",
       "      <td>satisfied</td>\n",
       "      <td>Female</td>\n",
       "      <td>Loyal Customer</td>\n",
       "      <td>70</td>\n",
       "      <td>Personal Travel</td>\n",
       "      <td>Eco</td>\n",
       "      <td>354</td>\n",
       "      <td>0</td>\n",
       "      <td>0</td>\n",
       "      <td>0</td>\n",
       "      <td>...</td>\n",
       "      <td>4</td>\n",
       "      <td>2</td>\n",
       "      <td>2</td>\n",
       "      <td>0</td>\n",
       "      <td>2</td>\n",
       "      <td>4</td>\n",
       "      <td>2</td>\n",
       "      <td>5</td>\n",
       "      <td>0</td>\n",
       "      <td>0.0</td>\n",
       "    </tr>\n",
       "  </tbody>\n",
       "</table>\n",
       "<p>5 rows × 23 columns</p>\n",
       "</div>"
      ],
      "text/plain": [
       "  satisfaction  gender   customer_type  age   type_of_travel     class  \\\n",
       "0    satisfied  Female  Loyal Customer   65  Personal Travel       Eco   \n",
       "1    satisfied    Male  Loyal Customer   47  Personal Travel  Business   \n",
       "2    satisfied  Female  Loyal Customer   15  Personal Travel       Eco   \n",
       "3    satisfied  Female  Loyal Customer   60  Personal Travel       Eco   \n",
       "4    satisfied  Female  Loyal Customer   70  Personal Travel       Eco   \n",
       "\n",
       "   flight_distance  seat_comfort  departure_arrival_time_convenient  \\\n",
       "0              265             0                                  0   \n",
       "1             2464             0                                  0   \n",
       "2             2138             0                                  0   \n",
       "3              623             0                                  0   \n",
       "4              354             0                                  0   \n",
       "\n",
       "   food_and_drink  ...  online_support  ease_of_online_booking  \\\n",
       "0               0  ...               2                       3   \n",
       "1               0  ...               2                       3   \n",
       "2               0  ...               2                       2   \n",
       "3               0  ...               3                       1   \n",
       "4               0  ...               4                       2   \n",
       "\n",
       "   on-board_service  leg_room_service  baggage_handling  checkin_service  \\\n",
       "0                 3                 0                 3                5   \n",
       "1                 4                 4                 4                2   \n",
       "2                 3                 3                 4                4   \n",
       "3                 1                 0                 1                4   \n",
       "4                 2                 0                 2                4   \n",
       "\n",
       "   cleanliness  online_boarding  departure_delay_in_minutes  \\\n",
       "0            3                2                           0   \n",
       "1            3                2                         310   \n",
       "2            4                2                           0   \n",
       "3            1                3                           0   \n",
       "4            2                5                           0   \n",
       "\n",
       "   arrival_delay_in_minutes  \n",
       "0                       0.0  \n",
       "1                     305.0  \n",
       "2                       0.0  \n",
       "3                       0.0  \n",
       "4                       0.0  \n",
       "\n",
       "[5 rows x 23 columns]"
      ]
     },
     "execution_count": 2,
     "metadata": {},
     "output_type": "execute_result"
    }
   ],
   "source": [
    "# Read the dataset\n",
    "df = pd.read_csv(\"dataset/satisfaction.csv\")\n",
    "# Dropping the id column as it is not necessary\n",
    "df = df.drop(columns=['id'])\n",
    "\n",
    "# Renaming the columns for better readability\n",
    "df = df.rename(columns={'satisfaction_v2': 'satisfaction'})\n",
    "df = df.rename(columns={'Departure/Arrival time convenient': 'departure_arrival_time_convenient'})\n",
    "\n",
    "# Lowercase all column names and replace spaces with underscores\n",
    "df.columns = df.columns.str.lower().str.replace(' ', '_')\n",
    "df = df.dropna(axis=0)\n",
    "\n",
    "df.head()"
   ]
  },
  {
   "cell_type": "code",
   "execution_count": 3,
   "metadata": {},
   "outputs": [],
   "source": [
    "df['satisfaction'] = df['satisfaction'].map({'neutral or dissatisfied':0 , 'satisfied':1})\n",
    "df['customer_type'] = df['customer_type'].map({'Loyal Customer':1, 'disloyal Customer':0})\n",
    "df['type_of_travel'] = df['type_of_travel'].map({'Personal Travel':0, 'Business travel':1})\n",
    "df['class'] = df['class'].map({'Eco':0, 'Eco Plus':1, 'Business':2})\n",
    "df = df.drop(columns=['gender'])"
   ]
  },
  {
   "cell_type": "code",
   "execution_count": 4,
   "metadata": {},
   "outputs": [
    {
     "data": {
      "text/plain": [
       "Index(['satisfaction', 'customer_type', 'age', 'type_of_travel', 'class',\n",
       "       'flight_distance', 'seat_comfort', 'departure_arrival_time_convenient',\n",
       "       'food_and_drink', 'gate_location', 'inflight_wifi_service',\n",
       "       'inflight_entertainment', 'online_support', 'ease_of_online_booking',\n",
       "       'on-board_service', 'leg_room_service', 'baggage_handling',\n",
       "       'checkin_service', 'cleanliness', 'online_boarding',\n",
       "       'departure_delay_in_minutes', 'arrival_delay_in_minutes'],\n",
       "      dtype='object')"
      ]
     },
     "execution_count": 4,
     "metadata": {},
     "output_type": "execute_result"
    }
   ],
   "source": [
    "df.columns"
   ]
  },
  {
   "cell_type": "code",
   "execution_count": 5,
   "metadata": {},
   "outputs": [],
   "source": [
    "# Data Splitting\n",
    "X = df.drop(columns=['satisfaction'])\n",
    "y = df['satisfaction']\n",
    "\n",
    "X_train, X_test, y_train, y_test = train_test_split(X, y, test_size=0.1, random_state=0)"
   ]
  },
  {
   "cell_type": "code",
   "execution_count": 6,
   "metadata": {},
   "outputs": [],
   "source": [
    "# Scaling the data\n",
    "scaler = StandardScaler()\n",
    "X_train = scaler.fit_transform(X_train)\n",
    "X_test = scaler.transform(X_test)"
   ]
  },
  {
   "cell_type": "code",
   "execution_count": 7,
   "metadata": {},
   "outputs": [],
   "source": [
    "model = XGBClassifier()\n",
    "\n",
    "model.fit(X_train, y_train) # Training the model\n",
    "\n",
    "y_pred = model.predict(X_test) # Making predictions"
   ]
  },
  {
   "cell_type": "code",
   "execution_count": 8,
   "metadata": {},
   "outputs": [
    {
     "name": "stdout",
     "output_type": "stream",
     "text": [
      "Accuracy: 0.9547455401961541\n",
      "Confusion Matrix: \n",
      "[[5643  239]\n",
      " [ 347 6720]]\n",
      "              precision    recall  f1-score   support\n",
      "\n",
      "           0       0.94      0.96      0.95      5882\n",
      "           1       0.97      0.95      0.96      7067\n",
      "\n",
      "    accuracy                           0.95     12949\n",
      "   macro avg       0.95      0.96      0.95     12949\n",
      "weighted avg       0.95      0.95      0.95     12949\n",
      "\n"
     ]
    }
   ],
   "source": [
    "accuracy = accuracy_score(y_test, y_pred)\n",
    "print(f\"Accuracy: {accuracy}\")\n",
    "\n",
    "cm = confusion_matrix(y_test, y_pred)\n",
    "print(f\"Confusion Matrix: \\n{cm}\")\n",
    "\n",
    "print(classification_report(y_test, y_pred))"
   ]
  },
  {
   "cell_type": "code",
   "execution_count": 10,
   "metadata": {},
   "outputs": [
    {
     "data": {
      "application/vnd.plotly.v1+json": {
       "config": {
        "plotlyServerURL": "https://plot.ly"
       },
       "data": [
        {
         "alignmentgroup": "True",
         "hovertemplate": "Feature=%{x}<br>Importance=%{y}<extra></extra>",
         "legendgroup": "",
         "marker": {
          "color": "#636efa",
          "pattern": {
           "shape": ""
          }
         },
         "name": "",
         "offsetgroup": "",
         "orientation": "v",
         "showlegend": false,
         "textposition": "auto",
         "type": "bar",
         "x": [
          "inflight_entertainment",
          "seat_comfort",
          "customer_type",
          "ease_of_online_booking",
          "class",
          "departure_arrival_time_convenient",
          "type_of_travel",
          "gate_location",
          "checkin_service",
          "online_boarding",
          "on-board_service",
          "online_support",
          "leg_room_service",
          "cleanliness",
          "baggage_handling",
          "food_and_drink",
          "arrival_delay_in_minutes",
          "inflight_wifi_service",
          "flight_distance",
          "age",
          "departure_delay_in_minutes"
         ],
         "xaxis": "x",
         "y": [
          0.39436522126197815,
          0.12299081683158875,
          0.07425195723772049,
          0.06891569495201111,
          0.03263453021645546,
          0.030264556407928467,
          0.02879372239112854,
          0.02830260619521141,
          0.027913261204957962,
          0.026434745639562607,
          0.02633865550160408,
          0.024618294090032578,
          0.021635616198182106,
          0.020291650667786598,
          0.018991420045495033,
          0.01862487755715847,
          0.00970100425183773,
          0.008184283040463924,
          0.007095298729836941,
          0.0068630073219537735,
          0.002788785146549344
         ],
         "yaxis": "y"
        }
       ],
       "layout": {
        "barmode": "relative",
        "legend": {
         "tracegroupgap": 0
        },
        "template": {
         "data": {
          "bar": [
           {
            "error_x": {
             "color": "#2a3f5f"
            },
            "error_y": {
             "color": "#2a3f5f"
            },
            "marker": {
             "line": {
              "color": "#E5ECF6",
              "width": 0.5
             },
             "pattern": {
              "fillmode": "overlay",
              "size": 10,
              "solidity": 0.2
             }
            },
            "type": "bar"
           }
          ],
          "barpolar": [
           {
            "marker": {
             "line": {
              "color": "#E5ECF6",
              "width": 0.5
             },
             "pattern": {
              "fillmode": "overlay",
              "size": 10,
              "solidity": 0.2
             }
            },
            "type": "barpolar"
           }
          ],
          "carpet": [
           {
            "aaxis": {
             "endlinecolor": "#2a3f5f",
             "gridcolor": "white",
             "linecolor": "white",
             "minorgridcolor": "white",
             "startlinecolor": "#2a3f5f"
            },
            "baxis": {
             "endlinecolor": "#2a3f5f",
             "gridcolor": "white",
             "linecolor": "white",
             "minorgridcolor": "white",
             "startlinecolor": "#2a3f5f"
            },
            "type": "carpet"
           }
          ],
          "choropleth": [
           {
            "colorbar": {
             "outlinewidth": 0,
             "ticks": ""
            },
            "type": "choropleth"
           }
          ],
          "contour": [
           {
            "colorbar": {
             "outlinewidth": 0,
             "ticks": ""
            },
            "colorscale": [
             [
              0,
              "#0d0887"
             ],
             [
              0.1111111111111111,
              "#46039f"
             ],
             [
              0.2222222222222222,
              "#7201a8"
             ],
             [
              0.3333333333333333,
              "#9c179e"
             ],
             [
              0.4444444444444444,
              "#bd3786"
             ],
             [
              0.5555555555555556,
              "#d8576b"
             ],
             [
              0.6666666666666666,
              "#ed7953"
             ],
             [
              0.7777777777777778,
              "#fb9f3a"
             ],
             [
              0.8888888888888888,
              "#fdca26"
             ],
             [
              1,
              "#f0f921"
             ]
            ],
            "type": "contour"
           }
          ],
          "contourcarpet": [
           {
            "colorbar": {
             "outlinewidth": 0,
             "ticks": ""
            },
            "type": "contourcarpet"
           }
          ],
          "heatmap": [
           {
            "colorbar": {
             "outlinewidth": 0,
             "ticks": ""
            },
            "colorscale": [
             [
              0,
              "#0d0887"
             ],
             [
              0.1111111111111111,
              "#46039f"
             ],
             [
              0.2222222222222222,
              "#7201a8"
             ],
             [
              0.3333333333333333,
              "#9c179e"
             ],
             [
              0.4444444444444444,
              "#bd3786"
             ],
             [
              0.5555555555555556,
              "#d8576b"
             ],
             [
              0.6666666666666666,
              "#ed7953"
             ],
             [
              0.7777777777777778,
              "#fb9f3a"
             ],
             [
              0.8888888888888888,
              "#fdca26"
             ],
             [
              1,
              "#f0f921"
             ]
            ],
            "type": "heatmap"
           }
          ],
          "heatmapgl": [
           {
            "colorbar": {
             "outlinewidth": 0,
             "ticks": ""
            },
            "colorscale": [
             [
              0,
              "#0d0887"
             ],
             [
              0.1111111111111111,
              "#46039f"
             ],
             [
              0.2222222222222222,
              "#7201a8"
             ],
             [
              0.3333333333333333,
              "#9c179e"
             ],
             [
              0.4444444444444444,
              "#bd3786"
             ],
             [
              0.5555555555555556,
              "#d8576b"
             ],
             [
              0.6666666666666666,
              "#ed7953"
             ],
             [
              0.7777777777777778,
              "#fb9f3a"
             ],
             [
              0.8888888888888888,
              "#fdca26"
             ],
             [
              1,
              "#f0f921"
             ]
            ],
            "type": "heatmapgl"
           }
          ],
          "histogram": [
           {
            "marker": {
             "pattern": {
              "fillmode": "overlay",
              "size": 10,
              "solidity": 0.2
             }
            },
            "type": "histogram"
           }
          ],
          "histogram2d": [
           {
            "colorbar": {
             "outlinewidth": 0,
             "ticks": ""
            },
            "colorscale": [
             [
              0,
              "#0d0887"
             ],
             [
              0.1111111111111111,
              "#46039f"
             ],
             [
              0.2222222222222222,
              "#7201a8"
             ],
             [
              0.3333333333333333,
              "#9c179e"
             ],
             [
              0.4444444444444444,
              "#bd3786"
             ],
             [
              0.5555555555555556,
              "#d8576b"
             ],
             [
              0.6666666666666666,
              "#ed7953"
             ],
             [
              0.7777777777777778,
              "#fb9f3a"
             ],
             [
              0.8888888888888888,
              "#fdca26"
             ],
             [
              1,
              "#f0f921"
             ]
            ],
            "type": "histogram2d"
           }
          ],
          "histogram2dcontour": [
           {
            "colorbar": {
             "outlinewidth": 0,
             "ticks": ""
            },
            "colorscale": [
             [
              0,
              "#0d0887"
             ],
             [
              0.1111111111111111,
              "#46039f"
             ],
             [
              0.2222222222222222,
              "#7201a8"
             ],
             [
              0.3333333333333333,
              "#9c179e"
             ],
             [
              0.4444444444444444,
              "#bd3786"
             ],
             [
              0.5555555555555556,
              "#d8576b"
             ],
             [
              0.6666666666666666,
              "#ed7953"
             ],
             [
              0.7777777777777778,
              "#fb9f3a"
             ],
             [
              0.8888888888888888,
              "#fdca26"
             ],
             [
              1,
              "#f0f921"
             ]
            ],
            "type": "histogram2dcontour"
           }
          ],
          "mesh3d": [
           {
            "colorbar": {
             "outlinewidth": 0,
             "ticks": ""
            },
            "type": "mesh3d"
           }
          ],
          "parcoords": [
           {
            "line": {
             "colorbar": {
              "outlinewidth": 0,
              "ticks": ""
             }
            },
            "type": "parcoords"
           }
          ],
          "pie": [
           {
            "automargin": true,
            "type": "pie"
           }
          ],
          "scatter": [
           {
            "fillpattern": {
             "fillmode": "overlay",
             "size": 10,
             "solidity": 0.2
            },
            "type": "scatter"
           }
          ],
          "scatter3d": [
           {
            "line": {
             "colorbar": {
              "outlinewidth": 0,
              "ticks": ""
             }
            },
            "marker": {
             "colorbar": {
              "outlinewidth": 0,
              "ticks": ""
             }
            },
            "type": "scatter3d"
           }
          ],
          "scattercarpet": [
           {
            "marker": {
             "colorbar": {
              "outlinewidth": 0,
              "ticks": ""
             }
            },
            "type": "scattercarpet"
           }
          ],
          "scattergeo": [
           {
            "marker": {
             "colorbar": {
              "outlinewidth": 0,
              "ticks": ""
             }
            },
            "type": "scattergeo"
           }
          ],
          "scattergl": [
           {
            "marker": {
             "colorbar": {
              "outlinewidth": 0,
              "ticks": ""
             }
            },
            "type": "scattergl"
           }
          ],
          "scattermapbox": [
           {
            "marker": {
             "colorbar": {
              "outlinewidth": 0,
              "ticks": ""
             }
            },
            "type": "scattermapbox"
           }
          ],
          "scatterpolar": [
           {
            "marker": {
             "colorbar": {
              "outlinewidth": 0,
              "ticks": ""
             }
            },
            "type": "scatterpolar"
           }
          ],
          "scatterpolargl": [
           {
            "marker": {
             "colorbar": {
              "outlinewidth": 0,
              "ticks": ""
             }
            },
            "type": "scatterpolargl"
           }
          ],
          "scatterternary": [
           {
            "marker": {
             "colorbar": {
              "outlinewidth": 0,
              "ticks": ""
             }
            },
            "type": "scatterternary"
           }
          ],
          "surface": [
           {
            "colorbar": {
             "outlinewidth": 0,
             "ticks": ""
            },
            "colorscale": [
             [
              0,
              "#0d0887"
             ],
             [
              0.1111111111111111,
              "#46039f"
             ],
             [
              0.2222222222222222,
              "#7201a8"
             ],
             [
              0.3333333333333333,
              "#9c179e"
             ],
             [
              0.4444444444444444,
              "#bd3786"
             ],
             [
              0.5555555555555556,
              "#d8576b"
             ],
             [
              0.6666666666666666,
              "#ed7953"
             ],
             [
              0.7777777777777778,
              "#fb9f3a"
             ],
             [
              0.8888888888888888,
              "#fdca26"
             ],
             [
              1,
              "#f0f921"
             ]
            ],
            "type": "surface"
           }
          ],
          "table": [
           {
            "cells": {
             "fill": {
              "color": "#EBF0F8"
             },
             "line": {
              "color": "white"
             }
            },
            "header": {
             "fill": {
              "color": "#C8D4E3"
             },
             "line": {
              "color": "white"
             }
            },
            "type": "table"
           }
          ]
         },
         "layout": {
          "annotationdefaults": {
           "arrowcolor": "#2a3f5f",
           "arrowhead": 0,
           "arrowwidth": 1
          },
          "autotypenumbers": "strict",
          "coloraxis": {
           "colorbar": {
            "outlinewidth": 0,
            "ticks": ""
           }
          },
          "colorscale": {
           "diverging": [
            [
             0,
             "#8e0152"
            ],
            [
             0.1,
             "#c51b7d"
            ],
            [
             0.2,
             "#de77ae"
            ],
            [
             0.3,
             "#f1b6da"
            ],
            [
             0.4,
             "#fde0ef"
            ],
            [
             0.5,
             "#f7f7f7"
            ],
            [
             0.6,
             "#e6f5d0"
            ],
            [
             0.7,
             "#b8e186"
            ],
            [
             0.8,
             "#7fbc41"
            ],
            [
             0.9,
             "#4d9221"
            ],
            [
             1,
             "#276419"
            ]
           ],
           "sequential": [
            [
             0,
             "#0d0887"
            ],
            [
             0.1111111111111111,
             "#46039f"
            ],
            [
             0.2222222222222222,
             "#7201a8"
            ],
            [
             0.3333333333333333,
             "#9c179e"
            ],
            [
             0.4444444444444444,
             "#bd3786"
            ],
            [
             0.5555555555555556,
             "#d8576b"
            ],
            [
             0.6666666666666666,
             "#ed7953"
            ],
            [
             0.7777777777777778,
             "#fb9f3a"
            ],
            [
             0.8888888888888888,
             "#fdca26"
            ],
            [
             1,
             "#f0f921"
            ]
           ],
           "sequentialminus": [
            [
             0,
             "#0d0887"
            ],
            [
             0.1111111111111111,
             "#46039f"
            ],
            [
             0.2222222222222222,
             "#7201a8"
            ],
            [
             0.3333333333333333,
             "#9c179e"
            ],
            [
             0.4444444444444444,
             "#bd3786"
            ],
            [
             0.5555555555555556,
             "#d8576b"
            ],
            [
             0.6666666666666666,
             "#ed7953"
            ],
            [
             0.7777777777777778,
             "#fb9f3a"
            ],
            [
             0.8888888888888888,
             "#fdca26"
            ],
            [
             1,
             "#f0f921"
            ]
           ]
          },
          "colorway": [
           "#636efa",
           "#EF553B",
           "#00cc96",
           "#ab63fa",
           "#FFA15A",
           "#19d3f3",
           "#FF6692",
           "#B6E880",
           "#FF97FF",
           "#FECB52"
          ],
          "font": {
           "color": "#2a3f5f"
          },
          "geo": {
           "bgcolor": "white",
           "lakecolor": "white",
           "landcolor": "#E5ECF6",
           "showlakes": true,
           "showland": true,
           "subunitcolor": "white"
          },
          "hoverlabel": {
           "align": "left"
          },
          "hovermode": "closest",
          "mapbox": {
           "style": "light"
          },
          "paper_bgcolor": "white",
          "plot_bgcolor": "#E5ECF6",
          "polar": {
           "angularaxis": {
            "gridcolor": "white",
            "linecolor": "white",
            "ticks": ""
           },
           "bgcolor": "#E5ECF6",
           "radialaxis": {
            "gridcolor": "white",
            "linecolor": "white",
            "ticks": ""
           }
          },
          "scene": {
           "xaxis": {
            "backgroundcolor": "#E5ECF6",
            "gridcolor": "white",
            "gridwidth": 2,
            "linecolor": "white",
            "showbackground": true,
            "ticks": "",
            "zerolinecolor": "white"
           },
           "yaxis": {
            "backgroundcolor": "#E5ECF6",
            "gridcolor": "white",
            "gridwidth": 2,
            "linecolor": "white",
            "showbackground": true,
            "ticks": "",
            "zerolinecolor": "white"
           },
           "zaxis": {
            "backgroundcolor": "#E5ECF6",
            "gridcolor": "white",
            "gridwidth": 2,
            "linecolor": "white",
            "showbackground": true,
            "ticks": "",
            "zerolinecolor": "white"
           }
          },
          "shapedefaults": {
           "line": {
            "color": "#2a3f5f"
           }
          },
          "ternary": {
           "aaxis": {
            "gridcolor": "white",
            "linecolor": "white",
            "ticks": ""
           },
           "baxis": {
            "gridcolor": "white",
            "linecolor": "white",
            "ticks": ""
           },
           "bgcolor": "#E5ECF6",
           "caxis": {
            "gridcolor": "white",
            "linecolor": "white",
            "ticks": ""
           }
          },
          "title": {
           "x": 0.05
          },
          "xaxis": {
           "automargin": true,
           "gridcolor": "white",
           "linecolor": "white",
           "ticks": "",
           "title": {
            "standoff": 15
           },
           "zerolinecolor": "white",
           "zerolinewidth": 2
          },
          "yaxis": {
           "automargin": true,
           "gridcolor": "white",
           "linecolor": "white",
           "ticks": "",
           "title": {
            "standoff": 15
           },
           "zerolinecolor": "white",
           "zerolinewidth": 2
          }
         }
        },
        "title": {
         "text": "Feature Importance"
        },
        "xaxis": {
         "anchor": "y",
         "domain": [
          0,
          1
         ],
         "title": {
          "text": "Feature"
         }
        },
        "yaxis": {
         "anchor": "x",
         "domain": [
          0,
          1
         ],
         "title": {
          "text": "Importance"
         }
        }
       }
      }
     },
     "metadata": {},
     "output_type": "display_data"
    },
    {
     "data": {
      "application/vnd.plotly.v1+json": {
       "config": {
        "plotlyServerURL": "https://plot.ly"
       },
       "data": [
        {
         "coloraxis": "coloraxis",
         "hovertemplate": "Predicted: %{x}<br>Actual: %{y}<br>Count: %{z}<extra></extra>",
         "name": "0",
         "type": "heatmap",
         "x": [
          "Neutral or Dissatisfied",
          "Satisfied"
         ],
         "xaxis": "x",
         "y": [
          "Neutral or Dissatisfied",
          "Satisfied"
         ],
         "yaxis": "y",
         "z": [
          [
           5643,
           239
          ],
          [
           347,
           6720
          ]
         ]
        }
       ],
       "layout": {
        "coloraxis": {
         "colorbar": {
          "title": {
           "text": "Count"
          }
         },
         "colorscale": [
          [
           0,
           "#0d0887"
          ],
          [
           0.1111111111111111,
           "#46039f"
          ],
          [
           0.2222222222222222,
           "#7201a8"
          ],
          [
           0.3333333333333333,
           "#9c179e"
          ],
          [
           0.4444444444444444,
           "#bd3786"
          ],
          [
           0.5555555555555556,
           "#d8576b"
          ],
          [
           0.6666666666666666,
           "#ed7953"
          ],
          [
           0.7777777777777778,
           "#fb9f3a"
          ],
          [
           0.8888888888888888,
           "#fdca26"
          ],
          [
           1,
           "#f0f921"
          ]
         ]
        },
        "margin": {
         "t": 60
        },
        "template": {
         "data": {
          "bar": [
           {
            "error_x": {
             "color": "#2a3f5f"
            },
            "error_y": {
             "color": "#2a3f5f"
            },
            "marker": {
             "line": {
              "color": "#E5ECF6",
              "width": 0.5
             },
             "pattern": {
              "fillmode": "overlay",
              "size": 10,
              "solidity": 0.2
             }
            },
            "type": "bar"
           }
          ],
          "barpolar": [
           {
            "marker": {
             "line": {
              "color": "#E5ECF6",
              "width": 0.5
             },
             "pattern": {
              "fillmode": "overlay",
              "size": 10,
              "solidity": 0.2
             }
            },
            "type": "barpolar"
           }
          ],
          "carpet": [
           {
            "aaxis": {
             "endlinecolor": "#2a3f5f",
             "gridcolor": "white",
             "linecolor": "white",
             "minorgridcolor": "white",
             "startlinecolor": "#2a3f5f"
            },
            "baxis": {
             "endlinecolor": "#2a3f5f",
             "gridcolor": "white",
             "linecolor": "white",
             "minorgridcolor": "white",
             "startlinecolor": "#2a3f5f"
            },
            "type": "carpet"
           }
          ],
          "choropleth": [
           {
            "colorbar": {
             "outlinewidth": 0,
             "ticks": ""
            },
            "type": "choropleth"
           }
          ],
          "contour": [
           {
            "colorbar": {
             "outlinewidth": 0,
             "ticks": ""
            },
            "colorscale": [
             [
              0,
              "#0d0887"
             ],
             [
              0.1111111111111111,
              "#46039f"
             ],
             [
              0.2222222222222222,
              "#7201a8"
             ],
             [
              0.3333333333333333,
              "#9c179e"
             ],
             [
              0.4444444444444444,
              "#bd3786"
             ],
             [
              0.5555555555555556,
              "#d8576b"
             ],
             [
              0.6666666666666666,
              "#ed7953"
             ],
             [
              0.7777777777777778,
              "#fb9f3a"
             ],
             [
              0.8888888888888888,
              "#fdca26"
             ],
             [
              1,
              "#f0f921"
             ]
            ],
            "type": "contour"
           }
          ],
          "contourcarpet": [
           {
            "colorbar": {
             "outlinewidth": 0,
             "ticks": ""
            },
            "type": "contourcarpet"
           }
          ],
          "heatmap": [
           {
            "colorbar": {
             "outlinewidth": 0,
             "ticks": ""
            },
            "colorscale": [
             [
              0,
              "#0d0887"
             ],
             [
              0.1111111111111111,
              "#46039f"
             ],
             [
              0.2222222222222222,
              "#7201a8"
             ],
             [
              0.3333333333333333,
              "#9c179e"
             ],
             [
              0.4444444444444444,
              "#bd3786"
             ],
             [
              0.5555555555555556,
              "#d8576b"
             ],
             [
              0.6666666666666666,
              "#ed7953"
             ],
             [
              0.7777777777777778,
              "#fb9f3a"
             ],
             [
              0.8888888888888888,
              "#fdca26"
             ],
             [
              1,
              "#f0f921"
             ]
            ],
            "type": "heatmap"
           }
          ],
          "heatmapgl": [
           {
            "colorbar": {
             "outlinewidth": 0,
             "ticks": ""
            },
            "colorscale": [
             [
              0,
              "#0d0887"
             ],
             [
              0.1111111111111111,
              "#46039f"
             ],
             [
              0.2222222222222222,
              "#7201a8"
             ],
             [
              0.3333333333333333,
              "#9c179e"
             ],
             [
              0.4444444444444444,
              "#bd3786"
             ],
             [
              0.5555555555555556,
              "#d8576b"
             ],
             [
              0.6666666666666666,
              "#ed7953"
             ],
             [
              0.7777777777777778,
              "#fb9f3a"
             ],
             [
              0.8888888888888888,
              "#fdca26"
             ],
             [
              1,
              "#f0f921"
             ]
            ],
            "type": "heatmapgl"
           }
          ],
          "histogram": [
           {
            "marker": {
             "pattern": {
              "fillmode": "overlay",
              "size": 10,
              "solidity": 0.2
             }
            },
            "type": "histogram"
           }
          ],
          "histogram2d": [
           {
            "colorbar": {
             "outlinewidth": 0,
             "ticks": ""
            },
            "colorscale": [
             [
              0,
              "#0d0887"
             ],
             [
              0.1111111111111111,
              "#46039f"
             ],
             [
              0.2222222222222222,
              "#7201a8"
             ],
             [
              0.3333333333333333,
              "#9c179e"
             ],
             [
              0.4444444444444444,
              "#bd3786"
             ],
             [
              0.5555555555555556,
              "#d8576b"
             ],
             [
              0.6666666666666666,
              "#ed7953"
             ],
             [
              0.7777777777777778,
              "#fb9f3a"
             ],
             [
              0.8888888888888888,
              "#fdca26"
             ],
             [
              1,
              "#f0f921"
             ]
            ],
            "type": "histogram2d"
           }
          ],
          "histogram2dcontour": [
           {
            "colorbar": {
             "outlinewidth": 0,
             "ticks": ""
            },
            "colorscale": [
             [
              0,
              "#0d0887"
             ],
             [
              0.1111111111111111,
              "#46039f"
             ],
             [
              0.2222222222222222,
              "#7201a8"
             ],
             [
              0.3333333333333333,
              "#9c179e"
             ],
             [
              0.4444444444444444,
              "#bd3786"
             ],
             [
              0.5555555555555556,
              "#d8576b"
             ],
             [
              0.6666666666666666,
              "#ed7953"
             ],
             [
              0.7777777777777778,
              "#fb9f3a"
             ],
             [
              0.8888888888888888,
              "#fdca26"
             ],
             [
              1,
              "#f0f921"
             ]
            ],
            "type": "histogram2dcontour"
           }
          ],
          "mesh3d": [
           {
            "colorbar": {
             "outlinewidth": 0,
             "ticks": ""
            },
            "type": "mesh3d"
           }
          ],
          "parcoords": [
           {
            "line": {
             "colorbar": {
              "outlinewidth": 0,
              "ticks": ""
             }
            },
            "type": "parcoords"
           }
          ],
          "pie": [
           {
            "automargin": true,
            "type": "pie"
           }
          ],
          "scatter": [
           {
            "fillpattern": {
             "fillmode": "overlay",
             "size": 10,
             "solidity": 0.2
            },
            "type": "scatter"
           }
          ],
          "scatter3d": [
           {
            "line": {
             "colorbar": {
              "outlinewidth": 0,
              "ticks": ""
             }
            },
            "marker": {
             "colorbar": {
              "outlinewidth": 0,
              "ticks": ""
             }
            },
            "type": "scatter3d"
           }
          ],
          "scattercarpet": [
           {
            "marker": {
             "colorbar": {
              "outlinewidth": 0,
              "ticks": ""
             }
            },
            "type": "scattercarpet"
           }
          ],
          "scattergeo": [
           {
            "marker": {
             "colorbar": {
              "outlinewidth": 0,
              "ticks": ""
             }
            },
            "type": "scattergeo"
           }
          ],
          "scattergl": [
           {
            "marker": {
             "colorbar": {
              "outlinewidth": 0,
              "ticks": ""
             }
            },
            "type": "scattergl"
           }
          ],
          "scattermapbox": [
           {
            "marker": {
             "colorbar": {
              "outlinewidth": 0,
              "ticks": ""
             }
            },
            "type": "scattermapbox"
           }
          ],
          "scatterpolar": [
           {
            "marker": {
             "colorbar": {
              "outlinewidth": 0,
              "ticks": ""
             }
            },
            "type": "scatterpolar"
           }
          ],
          "scatterpolargl": [
           {
            "marker": {
             "colorbar": {
              "outlinewidth": 0,
              "ticks": ""
             }
            },
            "type": "scatterpolargl"
           }
          ],
          "scatterternary": [
           {
            "marker": {
             "colorbar": {
              "outlinewidth": 0,
              "ticks": ""
             }
            },
            "type": "scatterternary"
           }
          ],
          "surface": [
           {
            "colorbar": {
             "outlinewidth": 0,
             "ticks": ""
            },
            "colorscale": [
             [
              0,
              "#0d0887"
             ],
             [
              0.1111111111111111,
              "#46039f"
             ],
             [
              0.2222222222222222,
              "#7201a8"
             ],
             [
              0.3333333333333333,
              "#9c179e"
             ],
             [
              0.4444444444444444,
              "#bd3786"
             ],
             [
              0.5555555555555556,
              "#d8576b"
             ],
             [
              0.6666666666666666,
              "#ed7953"
             ],
             [
              0.7777777777777778,
              "#fb9f3a"
             ],
             [
              0.8888888888888888,
              "#fdca26"
             ],
             [
              1,
              "#f0f921"
             ]
            ],
            "type": "surface"
           }
          ],
          "table": [
           {
            "cells": {
             "fill": {
              "color": "#EBF0F8"
             },
             "line": {
              "color": "white"
             }
            },
            "header": {
             "fill": {
              "color": "#C8D4E3"
             },
             "line": {
              "color": "white"
             }
            },
            "type": "table"
           }
          ]
         },
         "layout": {
          "annotationdefaults": {
           "arrowcolor": "#2a3f5f",
           "arrowhead": 0,
           "arrowwidth": 1
          },
          "autotypenumbers": "strict",
          "coloraxis": {
           "colorbar": {
            "outlinewidth": 0,
            "ticks": ""
           }
          },
          "colorscale": {
           "diverging": [
            [
             0,
             "#8e0152"
            ],
            [
             0.1,
             "#c51b7d"
            ],
            [
             0.2,
             "#de77ae"
            ],
            [
             0.3,
             "#f1b6da"
            ],
            [
             0.4,
             "#fde0ef"
            ],
            [
             0.5,
             "#f7f7f7"
            ],
            [
             0.6,
             "#e6f5d0"
            ],
            [
             0.7,
             "#b8e186"
            ],
            [
             0.8,
             "#7fbc41"
            ],
            [
             0.9,
             "#4d9221"
            ],
            [
             1,
             "#276419"
            ]
           ],
           "sequential": [
            [
             0,
             "#0d0887"
            ],
            [
             0.1111111111111111,
             "#46039f"
            ],
            [
             0.2222222222222222,
             "#7201a8"
            ],
            [
             0.3333333333333333,
             "#9c179e"
            ],
            [
             0.4444444444444444,
             "#bd3786"
            ],
            [
             0.5555555555555556,
             "#d8576b"
            ],
            [
             0.6666666666666666,
             "#ed7953"
            ],
            [
             0.7777777777777778,
             "#fb9f3a"
            ],
            [
             0.8888888888888888,
             "#fdca26"
            ],
            [
             1,
             "#f0f921"
            ]
           ],
           "sequentialminus": [
            [
             0,
             "#0d0887"
            ],
            [
             0.1111111111111111,
             "#46039f"
            ],
            [
             0.2222222222222222,
             "#7201a8"
            ],
            [
             0.3333333333333333,
             "#9c179e"
            ],
            [
             0.4444444444444444,
             "#bd3786"
            ],
            [
             0.5555555555555556,
             "#d8576b"
            ],
            [
             0.6666666666666666,
             "#ed7953"
            ],
            [
             0.7777777777777778,
             "#fb9f3a"
            ],
            [
             0.8888888888888888,
             "#fdca26"
            ],
            [
             1,
             "#f0f921"
            ]
           ]
          },
          "colorway": [
           "#636efa",
           "#EF553B",
           "#00cc96",
           "#ab63fa",
           "#FFA15A",
           "#19d3f3",
           "#FF6692",
           "#B6E880",
           "#FF97FF",
           "#FECB52"
          ],
          "font": {
           "color": "#2a3f5f"
          },
          "geo": {
           "bgcolor": "white",
           "lakecolor": "white",
           "landcolor": "#E5ECF6",
           "showlakes": true,
           "showland": true,
           "subunitcolor": "white"
          },
          "hoverlabel": {
           "align": "left"
          },
          "hovermode": "closest",
          "mapbox": {
           "style": "light"
          },
          "paper_bgcolor": "white",
          "plot_bgcolor": "#E5ECF6",
          "polar": {
           "angularaxis": {
            "gridcolor": "white",
            "linecolor": "white",
            "ticks": ""
           },
           "bgcolor": "#E5ECF6",
           "radialaxis": {
            "gridcolor": "white",
            "linecolor": "white",
            "ticks": ""
           }
          },
          "scene": {
           "xaxis": {
            "backgroundcolor": "#E5ECF6",
            "gridcolor": "white",
            "gridwidth": 2,
            "linecolor": "white",
            "showbackground": true,
            "ticks": "",
            "zerolinecolor": "white"
           },
           "yaxis": {
            "backgroundcolor": "#E5ECF6",
            "gridcolor": "white",
            "gridwidth": 2,
            "linecolor": "white",
            "showbackground": true,
            "ticks": "",
            "zerolinecolor": "white"
           },
           "zaxis": {
            "backgroundcolor": "#E5ECF6",
            "gridcolor": "white",
            "gridwidth": 2,
            "linecolor": "white",
            "showbackground": true,
            "ticks": "",
            "zerolinecolor": "white"
           }
          },
          "shapedefaults": {
           "line": {
            "color": "#2a3f5f"
           }
          },
          "ternary": {
           "aaxis": {
            "gridcolor": "white",
            "linecolor": "white",
            "ticks": ""
           },
           "baxis": {
            "gridcolor": "white",
            "linecolor": "white",
            "ticks": ""
           },
           "bgcolor": "#E5ECF6",
           "caxis": {
            "gridcolor": "white",
            "linecolor": "white",
            "ticks": ""
           }
          },
          "title": {
           "x": 0.05
          },
          "xaxis": {
           "automargin": true,
           "gridcolor": "white",
           "linecolor": "white",
           "ticks": "",
           "title": {
            "standoff": 15
           },
           "zerolinecolor": "white",
           "zerolinewidth": 2
          },
          "yaxis": {
           "automargin": true,
           "gridcolor": "white",
           "linecolor": "white",
           "ticks": "",
           "title": {
            "standoff": 15
           },
           "zerolinecolor": "white",
           "zerolinewidth": 2
          }
         }
        },
        "xaxis": {
         "anchor": "y",
         "constrain": "domain",
         "domain": [
          0,
          1
         ],
         "scaleanchor": "y",
         "title": {
          "text": "Predicted"
         }
        },
        "yaxis": {
         "anchor": "x",
         "autorange": "reversed",
         "constrain": "domain",
         "domain": [
          0,
          1
         ],
         "title": {
          "text": "Actual"
         }
        }
       }
      }
     },
     "metadata": {},
     "output_type": "display_data"
    },
    {
     "data": {
      "application/vnd.plotly.v1+json": {
       "config": {
        "plotlyServerURL": "https://plot.ly"
       },
       "data": [
        {
         "fillpattern": {
          "shape": ""
         },
         "hovertemplate": "False Positive Rate=%{x}<br>True Positive Rate=%{y}<extra></extra>",
         "legendgroup": "",
         "line": {
          "color": "#636efa"
         },
         "marker": {
          "symbol": "circle"
         },
         "mode": "lines",
         "name": "",
         "orientation": "v",
         "showlegend": false,
         "stackgroup": "1",
         "type": "scatter",
         "x": [
          0,
          0,
          0,
          0,
          0,
          0,
          0,
          0,
          0,
          0,
          0,
          0,
          0,
          0,
          0,
          0,
          0,
          0,
          0,
          0,
          0,
          0,
          0,
          0,
          0,
          0,
          0,
          0,
          0,
          0,
          0,
          0,
          0,
          0,
          0,
          0,
          0,
          0,
          0,
          0,
          0,
          0,
          0,
          0,
          0,
          0,
          0,
          0,
          0,
          0,
          0,
          0,
          0,
          0,
          0,
          0,
          0,
          0,
          0,
          0,
          0,
          0,
          0,
          0,
          0,
          0,
          0,
          0,
          0,
          0,
          0,
          0,
          0,
          0,
          0,
          0,
          0,
          0,
          0,
          0,
          0,
          0,
          0,
          0,
          0,
          0,
          0,
          0,
          0,
          0,
          0,
          0,
          0,
          0,
          0,
          0,
          0,
          0,
          0,
          0,
          0,
          0,
          0,
          0,
          0,
          0,
          0,
          0,
          0,
          0,
          0,
          0,
          0,
          0,
          0,
          0,
          0,
          0,
          0,
          0,
          0,
          0,
          0,
          0,
          0,
          0,
          0,
          0,
          0,
          0,
          0,
          0,
          0,
          0,
          0,
          0,
          0,
          0,
          0,
          0,
          0,
          0,
          0,
          0,
          0,
          0,
          0,
          0,
          0,
          0,
          0,
          0,
          0,
          0,
          0,
          0,
          0,
          0,
          0,
          0,
          0,
          0,
          0,
          0,
          0,
          0,
          0,
          0,
          0,
          0,
          0,
          0,
          0,
          0,
          0,
          0,
          0,
          0,
          0,
          0,
          0,
          0,
          0,
          0,
          0,
          0,
          0,
          0,
          0,
          0,
          0,
          0,
          0,
          0,
          0,
          0,
          0,
          0,
          0,
          0,
          0,
          0,
          0,
          0,
          0,
          0,
          0,
          0,
          0,
          0,
          0,
          0,
          0,
          0,
          0,
          0,
          0,
          0,
          0,
          0,
          0,
          0,
          0,
          0,
          0,
          0,
          0,
          0,
          0,
          0,
          0,
          0,
          0,
          0,
          0,
          0,
          0,
          0,
          0,
          0,
          0,
          0,
          0,
          0,
          0,
          0,
          0,
          0,
          0,
          0,
          0,
          0,
          0,
          0,
          0,
          0,
          0,
          0,
          0,
          0,
          0,
          0,
          0,
          0,
          0,
          0,
          0,
          0,
          0,
          0,
          0,
          0,
          0,
          0,
          0,
          0,
          0,
          0,
          0,
          0,
          0,
          0,
          0,
          0,
          0,
          0,
          0,
          0,
          0,
          0,
          0,
          0,
          0,
          0,
          0,
          0,
          0,
          0,
          0,
          0,
          0,
          0,
          0,
          0,
          0,
          0,
          0,
          0,
          0,
          0,
          0,
          0,
          0,
          0,
          0,
          0,
          0,
          0,
          0,
          0,
          0,
          0,
          0,
          0,
          0,
          0,
          0,
          0,
          0,
          0,
          0,
          0,
          0,
          0,
          0,
          0,
          0,
          0,
          0,
          0,
          0,
          0,
          0,
          0,
          0,
          0,
          0,
          0,
          0,
          0,
          0,
          0,
          0,
          0,
          0,
          0,
          0,
          0,
          0,
          0,
          0,
          0,
          0,
          0,
          0,
          0,
          0,
          0,
          0,
          0,
          0,
          0,
          0,
          0,
          0,
          0,
          0,
          0,
          0,
          0,
          0,
          0,
          0,
          0,
          0,
          0,
          0,
          0,
          0,
          0,
          0,
          0,
          0,
          0,
          0,
          0,
          0,
          0,
          0,
          0,
          0,
          0,
          0,
          0,
          0,
          0,
          0,
          0,
          0,
          0,
          0,
          0,
          0,
          0,
          0,
          0,
          0,
          0,
          0,
          0,
          0,
          0,
          0,
          0,
          0,
          0,
          0,
          0,
          0,
          0,
          0,
          0,
          0,
          0,
          0,
          0,
          0,
          0,
          0,
          0,
          0,
          0,
          0,
          0,
          0,
          0,
          0,
          0,
          0,
          0,
          0,
          0,
          0,
          0,
          0,
          0,
          0,
          0,
          0,
          0,
          0,
          0,
          0,
          0,
          0,
          0,
          0,
          0,
          0,
          0,
          0,
          0,
          0,
          0,
          0,
          0,
          0,
          0,
          0,
          0,
          0,
          0,
          0,
          0,
          0,
          0,
          0,
          0,
          0,
          0,
          0,
          0,
          0,
          0,
          0,
          0,
          0,
          0,
          0,
          0,
          0,
          0,
          0,
          0,
          0,
          0,
          0,
          0,
          0,
          0,
          0,
          0,
          0,
          0,
          0,
          0,
          0,
          0,
          0,
          0,
          0,
          0,
          0,
          0,
          0,
          0,
          0,
          0,
          0,
          0,
          0,
          0,
          0,
          0,
          0,
          0,
          0,
          0,
          0,
          0,
          0,
          0,
          0,
          0,
          0,
          0,
          0,
          0,
          0,
          0,
          0,
          0,
          0,
          0,
          0,
          0,
          0,
          0,
          0,
          0,
          0,
          0,
          0,
          0,
          0,
          0,
          0,
          0,
          0,
          0,
          0,
          0,
          0,
          0,
          0,
          0,
          0,
          0,
          0,
          0,
          0,
          0,
          0,
          0,
          0,
          0,
          0,
          0,
          0,
          0,
          0,
          0,
          0,
          0,
          0,
          0,
          0,
          0,
          0,
          0,
          0,
          0,
          0,
          0,
          0,
          0,
          0,
          0,
          0,
          0,
          0,
          0,
          0,
          0,
          0,
          0,
          0,
          0,
          0,
          0,
          0,
          0,
          0,
          0,
          0,
          0,
          0,
          0,
          0,
          0,
          0,
          0,
          0,
          0,
          0,
          0,
          0,
          0,
          0,
          0,
          0,
          0,
          0,
          0,
          0,
          0,
          0,
          0,
          0,
          0,
          0,
          0,
          0,
          0,
          0,
          0,
          0,
          0,
          0,
          0,
          0,
          0,
          0,
          0,
          0,
          0,
          0,
          0,
          0,
          0,
          0,
          0,
          0,
          0,
          0,
          0,
          0,
          0,
          0,
          0,
          0,
          0,
          0,
          0,
          0,
          0,
          0,
          0,
          0,
          0,
          0,
          0,
          0,
          0,
          0,
          0,
          0,
          0,
          0,
          0,
          0,
          0,
          0,
          0,
          0,
          0,
          0,
          0,
          0,
          0,
          0,
          0,
          0,
          0,
          0,
          0,
          0,
          0,
          0,
          0,
          0,
          0,
          0,
          0,
          0,
          0,
          0,
          0,
          0,
          0,
          0,
          0,
          0,
          0,
          0,
          0,
          0,
          0,
          0,
          0,
          0,
          0,
          0,
          0,
          0,
          0,
          0,
          0,
          0,
          0,
          0,
          0,
          0,
          0,
          0,
          0,
          0,
          0,
          0,
          0,
          0,
          0,
          0,
          0,
          0,
          0,
          0,
          0,
          0,
          0,
          0,
          0,
          0,
          0,
          0,
          0,
          0,
          0,
          0,
          0,
          0,
          0,
          0,
          0,
          0,
          0,
          0,
          0,
          0,
          0,
          0,
          0,
          0,
          0,
          0,
          0,
          0,
          0,
          0,
          0,
          0,
          0,
          0,
          0,
          0,
          0,
          0,
          0,
          0,
          0,
          0,
          0,
          0,
          0,
          0,
          0,
          0,
          0,
          0,
          0,
          0,
          0,
          0,
          0,
          0,
          0,
          0,
          0,
          0,
          0,
          0,
          0,
          0,
          0,
          0,
          0,
          0,
          0,
          0,
          0,
          0,
          0,
          0,
          0,
          0,
          0,
          0,
          0,
          0,
          0,
          0,
          0,
          0,
          0,
          0,
          0,
          0,
          0,
          0,
          0,
          0,
          0,
          0,
          0,
          0,
          0,
          0,
          0,
          0,
          0,
          0,
          0,
          0,
          0,
          0,
          0,
          0,
          0,
          0,
          0,
          0,
          0,
          0,
          0,
          0,
          0,
          0,
          0,
          0,
          0,
          0,
          0,
          0,
          0,
          0,
          0,
          0,
          0,
          0,
          0,
          0,
          0,
          0,
          0,
          0,
          0,
          0,
          0,
          0,
          0,
          0,
          0,
          0,
          0,
          0,
          0,
          0,
          0,
          0,
          0,
          0,
          0,
          0,
          0,
          0,
          0,
          0,
          0,
          0,
          0,
          0,
          0,
          0,
          0,
          0,
          0,
          0,
          0,
          0,
          0,
          0,
          0,
          0,
          0,
          0,
          0,
          0,
          0,
          0,
          0,
          0,
          0,
          0,
          0,
          0,
          0,
          0,
          0,
          0,
          0,
          0,
          0,
          0,
          0,
          0,
          0,
          0,
          0,
          0,
          0,
          0,
          0,
          0,
          0,
          0,
          0,
          0,
          0,
          0,
          0,
          0,
          0,
          0,
          0,
          0,
          0,
          0,
          0,
          0,
          0,
          0,
          0,
          0,
          0,
          0,
          0,
          0,
          0,
          0,
          0,
          0,
          0,
          0,
          0,
          0,
          0,
          0,
          0,
          0,
          0,
          0,
          0,
          0,
          0,
          0,
          0,
          0,
          0,
          0,
          0,
          0,
          0,
          0,
          0,
          0,
          0,
          0,
          0,
          0,
          0,
          0,
          0,
          0,
          0,
          0,
          0,
          0,
          0,
          0,
          0,
          0,
          0,
          0,
          0,
          0,
          0,
          0,
          0,
          0,
          0,
          0,
          0,
          0,
          0,
          0,
          0,
          0,
          0,
          0,
          0,
          0,
          0,
          0,
          0,
          0,
          0,
          0,
          0,
          0,
          0,
          0,
          0,
          0,
          0,
          0,
          0,
          0,
          0,
          0,
          0,
          0,
          0,
          0,
          0,
          0,
          0,
          0,
          0,
          0,
          0,
          0,
          0,
          0,
          0,
          0,
          0,
          0,
          0,
          0,
          0,
          0,
          0,
          0,
          0,
          0,
          0,
          0,
          0,
          0,
          0,
          0,
          0,
          0,
          0,
          0,
          0,
          0,
          0,
          0,
          0,
          0,
          0,
          0,
          0,
          0,
          0,
          0,
          0,
          0,
          0,
          0,
          0,
          0,
          0,
          0,
          0,
          0,
          0,
          0.00017001020061203673,
          0.00017001020061203673,
          0.00017001020061203673,
          0.00017001020061203673,
          0.00034002040122407346,
          0.00034002040122407346,
          0.0005100306018361102,
          0.0005100306018361102,
          0.0006800408024481469,
          0.0006800408024481469,
          0.0008500510030601836,
          0.0008500510030601836,
          0.0010200612036722204,
          0.0010200612036722204,
          0.0011900714042842571,
          0.0011900714042842571,
          0.0013600816048962938,
          0.0013600816048962938,
          0.0015300918055083305,
          0.0015300918055083305,
          0.0017001020061203672,
          0.0017001020061203672,
          0.001870112206732404,
          0.001870112206732404,
          0.002040122407344441,
          0.002040122407344441,
          0.0022101326079564773,
          0.0022101326079564773,
          0.0023801428085685142,
          0.0023801428085685142,
          0.0027201632097925877,
          0.0027201632097925877,
          0.003060183611016661,
          0.003060183611016661,
          0.0034002040122407345,
          0.0034002040122407345,
          0.0035702142128527714,
          0.0035702142128527714,
          0.003740224413464808,
          0.003740224413464808,
          0.003910234614076844,
          0.003910234614076844,
          0.004080244814688882,
          0.004080244814688882,
          0.004250255015300918,
          0.004250255015300918,
          0.004420265215912955,
          0.004420265215912955,
          0.004590275416524991,
          0.004590275416524991,
          0.0047602856171370285,
          0.0047602856171370285,
          0.0051003060183611015,
          0.0051003060183611015,
          0.005270316218973139,
          0.005270316218973139,
          0.005610336620197212,
          0.005610336620197212,
          0.005780346820809248,
          0.005780346820809248,
          0.005950357021421286,
          0.005950357021421286,
          0.006460387623257395,
          0.006460387623257395,
          0.006630397823869432,
          0.006630397823869432,
          0.006800408024481469,
          0.006800408024481469,
          0.006970418225093505,
          0.006970418225093505,
          0.007140428425705543,
          0.007140428425705543,
          0.007310438626317579,
          0.007310438626317579,
          0.007480448826929616,
          0.007480448826929616,
          0.007820469228153689,
          0.007820469228153689,
          0.007990479428765726,
          0.007990479428765726,
          0.008160489629377763,
          0.008160489629377763,
          0.008330499829989799,
          0.008330499829989799,
          0.008500510030601836,
          0.008500510030601836,
          0.00884053043182591,
          0.00884053043182591,
          0.009180550833049982,
          0.009180550833049982,
          0.009690581434886093,
          0.009690581434886093,
          0.00986059163549813,
          0.00986059163549813,
          0.010200612036722203,
          0.010200612036722203,
          0.01037062223733424,
          0.01037062223733424,
          0.010540632437946278,
          0.010540632437946278,
          0.010710642638558313,
          0.010710642638558313,
          0.01088065283917035,
          0.01088065283917035,
          0.011050663039782386,
          0.011050663039782386,
          0.011390683441006461,
          0.011390683441006461,
          0.011560693641618497,
          0.011560693641618497,
          0.011730703842230534,
          0.011730703842230534,
          0.011900714042842571,
          0.011900714042842571,
          0.012070724243454607,
          0.012070724243454607,
          0.012240734444066644,
          0.012240734444066644,
          0.012410744644678682,
          0.012410744644678682,
          0.012750765045902755,
          0.012750765045902755,
          0.013090785447126827,
          0.013090785447126827,
          0.013260795647738865,
          0.013260795647738865,
          0.0134308058483509,
          0.0134308058483509,
          0.013600816048962938,
          0.013600816048962938,
          0.013770826249574975,
          0.013770826249574975,
          0.01394083645018701,
          0.01394083645018701,
          0.014110846650799048,
          0.014110846650799048,
          0.014280856851411085,
          0.014280856851411085,
          0.014450867052023121,
          0.014450867052023121,
          0.014790887453247194,
          0.014790887453247194,
          0.014960897653859231,
          0.014960897653859231,
          0.015300918055083304,
          0.015300918055083304,
          0.015470928255695342,
          0.015470928255695342,
          0.015640938456307377,
          0.015640938456307377,
          0.016150969058143488,
          0.016150969058143488,
          0.016320979258755527,
          0.016320979258755527,
          0.016490989459367562,
          0.016490989459367562,
          0.016660999659979598,
          0.016660999659979598,
          0.016831009860591637,
          0.016831009860591637,
          0.017001020061203673,
          0.017001020061203673,
          0.01717103026181571,
          0.01717103026181571,
          0.017341040462427744,
          0.017341040462427744,
          0.017511050663039783,
          0.017511050663039783,
          0.017851071064263854,
          0.017851071064263854,
          0.018021081264875893,
          0.018021081264875893,
          0.018361101666099965,
          0.018361101666099965,
          0.019041142468548114,
          0.019041142468548114,
          0.01921115266916015,
          0.01921115266916015,
          0.019551173070384224,
          0.019551173070384224,
          0.01972118327099626,
          0.01972118327099626,
          0.019891193471608296,
          0.019891193471608296,
          0.02023121387283237,
          0.02023121387283237,
          0.020401224073444406,
          0.020401224073444406,
          0.020571234274056445,
          0.020571234274056445,
          0.020911254675280516,
          0.020911254675280516,
          0.02125127507650459,
          0.02125127507650459,
          0.021591295477728662,
          0.021591295477728662,
          0.0217613056783407,
          0.0217613056783407,
          0.022101326079564772,
          0.022101326079564772,
          0.02227133628017681,
          0.02227133628017681,
          0.022441346480788847,
          0.022441346480788847,
          0.022611356681400883,
          0.022611356681400883,
          0.022781366882012922,
          0.022781366882012922,
          0.023291397483849032,
          0.023291397483849032,
          0.023631417885073103,
          0.023631417885073103,
          0.023801428085685142,
          0.023801428085685142,
          0.024141448486909214,
          0.024141448486909214,
          0.02448146888813329,
          0.02448146888813329,
          0.024821489289357363,
          0.024821489289357363,
          0.0249914994899694,
          0.0249914994899694,
          0.025161509690581434,
          0.025161509690581434,
          0.02533151989119347,
          0.02533151989119347,
          0.02550153009180551,
          0.02550153009180551,
          0.025671540292417545,
          0.025671540292417545,
          0.02601156069364162,
          0.02601156069364162,
          0.026181570894253655,
          0.026181570894253655,
          0.02635158109486569,
          0.02635158109486569,
          0.02652159129547773,
          0.02652159129547773,
          0.026691601496089765,
          0.026691601496089765,
          0.0268616116967018,
          0.0268616116967018,
          0.02737164229853791,
          0.02737164229853791,
          0.027711662699761986,
          0.027711662699761986,
          0.02788167290037402,
          0.02788167290037402,
          0.02805168310098606,
          0.02805168310098606,
          0.02856171370282217,
          0.02856171370282217,
          0.028731723903434207,
          0.028731723903434207,
          0.029241754505270317,
          0.029241754505270317,
          0.029411764705882353,
          0.029411764705882353,
          0.029581774906494388,
          0.029581774906494388,
          0.029751785107106427,
          0.029751785107106427,
          0.029921795307718463,
          0.029921795307718463,
          0.030261815708942538,
          0.030261815708942538,
          0.030771846310778648,
          0.030771846310778648,
          0.031281876912614755,
          0.031281876912614755,
          0.031961917715062904,
          0.031961917715062904,
          0.032471948316899014,
          0.032471948316899014,
          0.032641958517511054,
          0.032641958517511054,
          0.033151989119347164,
          0.033151989119347164,
          0.033321999319959196,
          0.033321999319959196,
          0.033662019721183274,
          0.033662019721183274,
          0.033832029921795306,
          0.033832029921795306,
          0.034172050323019384,
          0.034172050323019384,
          0.03468208092485549,
          0.03468208092485549,
          0.03485209112546753,
          0.03485209112546753,
          0.035022101326079566,
          0.035022101326079566,
          0.0351921115266916,
          0.0351921115266916,
          0.03536212172730364,
          0.03536212172730364,
          0.035532131927915676,
          0.035532131927915676,
          0.03570214212852771,
          0.03570214212852771,
          0.03621217273036382,
          0.03621217273036382,
          0.03638218293097586,
          0.03638218293097586,
          0.03774226453587215,
          0.03774226453587215,
          0.03791227473648419,
          0.03791227473648419,
          0.0384223053383203,
          0.0384223053383203,
          0.03944236654199252,
          0.03944236654199252,
          0.03995239714382863,
          0.03995239714382863,
          0.0402924175450527,
          0.0402924175450527,
          0.04131247874872492,
          0.04131247874872492,
          0.04148248894933696,
          0.04148248894933696,
          0.04216252975178511,
          0.04216252975178511,
          0.04301258075484529,
          0.04301258075484529,
          0.043182590955457324,
          0.043182590955457324,
          0.043692621557293435,
          0.043692621557293435,
          0.043862631757905474,
          0.043862631757905474,
          0.04454267256035362,
          0.04454267256035362,
          0.044712682760965655,
          0.044712682760965655,
          0.04505270316218973,
          0.04505270316218973,
          0.045222713362801766,
          0.045222713362801766,
          0.045392723563413805,
          0.045392723563413805,
          0.045732743964637876,
          0.045732743964637876,
          0.046582794967698064,
          0.046582794967698064,
          0.04726283577014621,
          0.04726283577014621,
          0.047432845970758246,
          0.047432845970758246,
          0.04777286637198232,
          0.04777286637198232,
          0.04896293777626658,
          0.04896293777626658,
          0.049132947976878616,
          0.049132947976878616,
          0.04947296837810269,
          0.04947296837810269,
          0.04981298877932676,
          0.04981298877932676,
          0.0499829989799388,
          0.0499829989799388,
          0.05015300918055083,
          0.05015300918055083,
          0.05083304998299898,
          0.05083304998299898,
          0.05151309078544713,
          0.05151309078544713,
          0.05202312138728324,
          0.05202312138728324,
          0.05253315198911935,
          0.05253315198911935,
          0.05304318259095546,
          0.05304318259095546,
          0.05338320299217953,
          0.05338320299217953,
          0.0537232233934036,
          0.0537232233934036,
          0.05389323359401564,
          0.05389323359401564,
          0.05406324379462768,
          0.05406324379462768,
          0.05457327439646379,
          0.05457327439646379,
          0.05474328459707582,
          0.05474328459707582,
          0.05491329479768786,
          0.05491329479768786,
          0.05525331519891193,
          0.05525331519891193,
          0.05576334580074804,
          0.05576334580074804,
          0.0569534172050323,
          0.0569534172050323,
          0.057293437606256374,
          0.057293437606256374,
          0.057973478408704524,
          0.057973478408704524,
          0.058313498809928595,
          0.058313498809928595,
          0.058653519211152666,
          0.058653519211152666,
          0.059503570214212854,
          0.059503570214212854,
          0.05967358041482489,
          0.05967358041482489,
          0.06069364161849711,
          0.06069364161849711,
          0.060863651819109146,
          0.060863651819109146,
          0.06120367222033322,
          0.06120367222033322,
          0.06137368242094526,
          0.06137368242094526,
          0.06171370282216933,
          0.06171370282216933,
          0.06256375382522951,
          0.06256375382522951,
          0.06307378442706563,
          0.06307378442706563,
          0.06409384563073785,
          0.06409384563073785,
          0.06528391703502211,
          0.06528391703502211,
          0.06613396803808229,
          0.06613396803808229,
          0.06647398843930635,
          0.06647398843930635,
          0.06698401904114247,
          0.06698401904114247,
          0.06715402924175451,
          0.06715402924175451,
          0.06732403944236655,
          0.06732403944236655,
          0.06783407004420265,
          0.06783407004420265,
          0.06800408024481469,
          0.06800408024481469,
          0.06817409044542673,
          0.06817409044542673,
          0.06902414144848691,
          0.06902414144848691,
          0.06919415164909895,
          0.06919415164909895,
          0.06970418225093505,
          0.06970418225093505,
          0.07072424345460727,
          0.07072424345460727,
          0.07089425365521931,
          0.07089425365521931,
          0.07106426385583135,
          0.07106426385583135,
          0.07157429445766746,
          0.07157429445766746,
          0.07191431485889153,
          0.07191431485889153,
          0.07242434546072764,
          0.07242434546072764,
          0.07327439646378783,
          0.07327439646378783,
          0.07344440666439986,
          0.07344440666439986,
          0.07412444746684801,
          0.07412444746684801,
          0.07446446786807208,
          0.07446446786807208,
          0.0749744984699082,
          0.0749744984699082,
          0.07514450867052024,
          0.07514450867052024,
          0.07531451887113227,
          0.07531451887113227,
          0.07599455967358042,
          0.07599455967358042,
          0.07650459027541652,
          0.07650459027541652,
          0.07701462087725264,
          0.07701462087725264,
          0.07786467188031282,
          0.07786467188031282,
          0.07803468208092486,
          0.07803468208092486,
          0.07854471268276096,
          0.07854471268276096,
          0.07888473308398504,
          0.07888473308398504,
          0.07922475348520912,
          0.07922475348520912,
          0.07973478408704522,
          0.07973478408704522,
          0.07990479428765726,
          0.07990479428765726,
          0.0800748044882693,
          0.0800748044882693,
          0.08109486569194152,
          0.08109486569194152,
          0.08177490649438966,
          0.08177490649438966,
          0.08228493709622578,
          0.08228493709622578,
          0.08279496769806188,
          0.08279496769806188,
          0.08296497789867392,
          0.08296497789867392,
          0.083304998299898,
          0.083304998299898,
          0.08364501870112206,
          0.08364501870112206,
          0.0838150289017341,
          0.0838150289017341,
          0.08415504930295818,
          0.08415504930295818,
          0.08432505950357022,
          0.08432505950357022,
          0.08483509010540632,
          0.08483509010540632,
          0.08619517171030262,
          0.08619517171030262,
          0.08687521251275077,
          0.08687521251275077,
          0.08721523291397484,
          0.08721523291397484,
          0.08772526351581095,
          0.08772526351581095,
          0.08789527371642299,
          0.08789527371642299,
          0.08840530431825909,
          0.08840530431825909,
          0.08891533492009521,
          0.08891533492009521,
          0.08993539612376743,
          0.08993539612376743,
          0.09112546752805169,
          0.09112546752805169,
          0.09129547772866373,
          0.09129547772866373,
          0.09231553893233593,
          0.09231553893233593,
          0.09282556953417205,
          0.09282556953417205,
          0.09350561033662019,
          0.09350561033662019,
          0.09367562053723223,
          0.09367562053723223,
          0.09401564093845631,
          0.09401564093845631,
          0.09418565113906835,
          0.09418565113906835,
          0.09435566133968037,
          0.09435566133968037,
          0.0967358041482489,
          0.0967358041482489,
          0.09758585515130908,
          0.09758585515130908,
          0.09843590615436926,
          0.09843590615436926,
          0.09877592655559334,
          0.09877592655559334,
          0.09945596735804148,
          0.09945596735804148,
          0.09979598775926556,
          0.09979598775926556,
          0.0999659979598776,
          0.0999659979598776,
          0.10030601836110166,
          0.10030601836110166,
          0.1004760285617137,
          0.1004760285617137,
          0.10149608976538592,
          0.10149608976538592,
          0.10200612036722204,
          0.10200612036722204,
          0.10268616116967018,
          0.10268616116967018,
          0.1031961917715063,
          0.1031961917715063,
          0.1037062223733424,
          0.1037062223733424,
          0.10387623257395444,
          0.10387623257395444,
          0.10404624277456648,
          0.10404624277456648,
          0.10489629377762666,
          0.10489629377762666,
          0.10642638558313498,
          0.10642638558313498,
          0.10710642638558314,
          0.10710642638558314,
          0.10897653859231554,
          0.10897653859231554,
          0.10948656919415165,
          0.10948656919415165,
          0.11033662019721183,
          0.11033662019721183,
          0.11084665079904794,
          0.11084665079904794,
          0.11135668140088405,
          0.11135668140088405,
          0.11237674260455627,
          0.11237674260455627,
          0.1125467528051683,
          0.1125467528051683,
          0.11339680380822849,
          0.11339680380822849,
          0.11424685481128868,
          0.11424685481128868,
          0.11475688541312479,
          0.11475688541312479,
          0.11543692621557293,
          0.11543692621557293,
          0.11577694661679701,
          0.11577694661679701,
          0.11611696701802109,
          0.11611696701802109,
          0.11679700782046923,
          0.11679700782046923,
          0.11730703842230533,
          0.11730703842230533,
          0.11883713022781367,
          0.11883713022781367,
          0.11951717103026181,
          0.11951717103026181,
          0.11985719143148589,
          0.11985719143148589,
          0.12070724243454607,
          0.12070724243454607,
          0.12087725263515811,
          0.12087725263515811,
          0.12342740564433866,
          0.12342740564433866,
          0.1235974158449507,
          0.1235974158449507,
          0.12410744644678681,
          0.12410744644678681,
          0.1254675280516831,
          0.1254675280516831,
          0.12648758925535533,
          0.12648758925535533,
          0.12784767086025162,
          0.12784767086025162,
          0.12801768106086364,
          0.12801768106086364,
          0.12835770146208772,
          0.12835770146208772,
          0.12971778306698403,
          0.12971778306698403,
          0.1314178850731044,
          0.1314178850731044,
          0.13226793607616458,
          0.13226793607616458,
          0.1351581094865692,
          0.1351581094865692,
          0.1356681400884053,
          0.1356681400884053,
          0.13583815028901733,
          0.13583815028901733,
          0.13651819109146549,
          0.13651819109146549,
          0.13872832369942195,
          0.13872832369942195,
          0.1407684461067664,
          0.1407684461067664,
          0.14110846650799047,
          0.14110846650799047,
          0.14144848690921455,
          0.14144848690921455,
          0.1429785787147229,
          0.1429785787147229,
          0.14518871132267935,
          0.14518871132267935,
          0.14654879292757567,
          0.14654879292757567,
          0.14688881332879972,
          0.14688881332879972,
          0.14705882352941177,
          0.14705882352941177,
          0.14807888473308398,
          0.14807888473308398,
          0.1490989459367562,
          0.1490989459367562,
          0.1494389663379803,
          0.1494389663379803,
          0.1499489969398164,
          0.1499489969398164,
          0.15011900714042842,
          0.15011900714042842,
          0.15062903774226455,
          0.15062903774226455,
          0.15130907854471268,
          0.15130907854471268,
          0.15181910914654878,
          0.15181910914654878,
          0.15198911934716083,
          0.15198911934716083,
          0.152669160149609,
          0.152669160149609,
          0.15351921115266917,
          0.15351921115266917,
          0.15589935396123766,
          0.15589935396123766,
          0.1569194151649099,
          0.1569194151649099,
          0.15708942536552192,
          0.15708942536552192,
          0.15912954777286636,
          0.15912954777286636,
          0.16082964977898673,
          0.16082964977898673,
          0.1643998639918395,
          0.1643998639918395,
          0.16507990479428766,
          0.16507990479428766,
          0.1671200272016321,
          0.1671200272016321,
          0.16797007820469229,
          0.16797007820469229,
          0.16933015980958857,
          0.16933015980958857,
          0.16984019041142467,
          0.16984019041142467,
          0.17154029241754506,
          0.17154029241754506,
          0.1722203332199932,
          0.1722203332199932,
          0.1740904454267256,
          0.1740904454267256,
          0.1749404964297858,
          0.1749404964297858,
          0.17664059843590615,
          0.17664059843590615,
          0.17987079224753486,
          0.17987079224753486,
          0.18004080244814688,
          0.18004080244814688,
          0.1814008840530432,
          0.1814008840530432,
          0.18378102686161168,
          0.18378102686161168,
          0.1856511390683441,
          0.1856511390683441,
          0.19228153689221353,
          0.19228153689221353,
          0.19517171030261815,
          0.19517171030261815,
          0.19653179190751446,
          0.19653179190751446,
          0.1995919755185311,
          0.1995919755185311,
          0.20112206732403945,
          0.20112206732403945,
          0.2028221693301598,
          0.2028221693301598,
          0.20894253655219314,
          0.20894253655219314,
          0.2111526691601496,
          0.2111526691601496,
          0.21132267936076166,
          0.21132267936076166,
          0.21200272016320978,
          0.21200272016320978,
          0.21285277116626997,
          0.21285277116626997,
          0.21370282216933015,
          0.21370282216933015,
          0.21625297517851072,
          0.21625297517851072,
          0.2208432505950357,
          0.2208432505950357,
          0.22611356681400885,
          0.22611356681400885,
          0.2318939136348181,
          0.2318939136348181,
          0.23308398503910235,
          0.23308398503910235,
          0.23597415844950698,
          0.23597415844950698,
          0.2436246174770486,
          0.2436246174770486,
          0.2517851071064264,
          0.2517851071064264,
          0.25399523971438287,
          0.25399523971438287,
          0.2560353621217273,
          0.2560353621217273,
          0.2563753825229514,
          0.2563753825229514,
          0.26980618837130227,
          0.26980618837130227,
          0.27847670860251617,
          0.27847670860251617,
          0.2810268616116967,
          0.2810268616116967,
          0.2837470248214893,
          0.2837470248214893,
          0.28442706562393744,
          0.28442706562393744,
          0.2959877592655559,
          0.2959877592655559,
          0.3051683100986059,
          0.3051683100986059,
          0.30567834070044203,
          0.30567834070044203,
          0.31876912614756886,
          0.31876912614756886,
          0.333219993199592,
          0.333219993199592,
          0.3339000340020401,
          0.3339000340020401,
          0.3439306358381503,
          0.3439306358381503,
          0.34614076844610675,
          0.34614076844610675,
          0.3476708602516151,
          0.3476708602516151,
          0.3893233594015641,
          0.3893233594015641,
          0.44627677660659637,
          0.44627677660659637,
          0.4758585515130908,
          0.4758585515130908,
          0.5613736824209452,
          0.5613736824209452,
          1
         ],
         "xaxis": "x",
         "y": [
          0,
          0.00014150275930380644,
          0.0004245082779114193,
          0.0009905193151266449,
          0.001273524833734258,
          0.0021225413895570966,
          0.002688552426772322,
          0.002971557945379935,
          0.0039620772605065795,
          0.005094099334937032,
          0.006650629687278902,
          0.007075137965190321,
          0.008207160039620772,
          0.009056176595443612,
          0.010188198669874063,
          0.011744729022215933,
          0.014574784208292061,
          0.015565303523418707,
          0.016272817319937738,
          0.017263336635064384,
          0.017970850431583415,
          0.018819866987406255,
          0.01938587802462148,
          0.020659402858355738,
          0.021225413895570963,
          0.021649922173482383,
          0.022781944247912835,
          0.02363096080373567,
          0.024621480118862317,
          0.025895004952596577,
          0.026461015989811803,
          0.026744021508419414,
          0.027451535304938445,
          0.02773454082354606,
          0.029574076694495542,
          0.030564596009622188,
          0.031696618084052636,
          0.03325314843639451,
          0.03410216499221735,
          0.03495118154804019,
          0.035092684307343996,
          0.03608320362247064,
          0.03721522569690109,
          0.03820574501202773,
          0.03877175604924296,
          0.03919626432715438,
          0.040045280882977215,
          0.042309325031838124,
          0.04273383330974954,
          0.043299844346964766,
          0.04443186642139522,
          0.04584689401443328,
          0.04641290505164851,
          0.04669591057025612,
          0.04811093816329418,
          0.04895995471911702,
          0.050091976793547474,
          0.050374982312155085,
          0.051790009905193155,
          0.05348804301683883,
          0.05377104853544644,
          0.05518607612848451,
          0.05645960096221876,
          0.0573086175180416,
          0.05844063959247205,
          0.05900665062968728,
          0.05971416442620631,
          0.060138672704117734,
          0.061270694778548185,
          0.06211971133437102,
          0.06296872789019387,
          0.06353473892740909,
          0.06381774444601669,
          0.06494976652044715,
          0.06707230791000425,
          0.06763831894721947,
          0.06862883826234611,
          0.06976086033677657,
          0.0706098768925994,
          0.07131739068911844,
          0.0724494127635489,
          0.07301542380076412,
          0.07315692656006792,
          0.07428894863449838,
          0.0749964624310174,
          0.07584547898684024,
          0.07612848450544786,
          0.0769775010612707,
          0.07740200933918212,
          0.07825102589500495,
          0.07867553417291637,
          0.0792415452101316,
          0.07994905900665063,
          0.08037356728456205,
          0.08065657280316967,
          0.08136408659968869,
          0.08164709211829631,
          0.08277911419272675,
          0.08320362247063817,
          0.08391113626715721,
          0.08419414178576483,
          0.08476015282298005,
          0.08518466110089147,
          0.08532616386019527,
          0.08617518041601811,
          0.08645818593462573,
          0.08702419697184095,
          0.08716569973114476,
          0.08744870524975237,
          0.08829772180557521,
          0.08858072732418282,
          0.08914673836139805,
          0.08942974388000566,
          0.08985425215791708,
          0.09155228526956276,
          0.09211829630677798,
          0.09225979906608178,
          0.0925428045846894,
          0.09339182114051224,
          0.09367482665911986,
          0.09452384321494268,
          0.09565586528937314,
          0.0970708928824112,
          0.09791990943823405,
          0.09876892599405689,
          0.09933493703127211,
          0.10018395358709495,
          0.10089146738361399,
          0.10174048393943681,
          0.10216499221734823,
          0.10287250601386727,
          0.10301400877317107,
          0.10329701429177869,
          0.10386302532899391,
          0.10457053912551295,
          0.10513655016272817,
          0.10584406395924721,
          0.10598556671855101,
          0.10655157775576624,
          0.10683458327437385,
          0.10740059431158908,
          0.1078251025895005,
          0.10895712466393094,
          0.10952313570114618,
          0.10980614121975378,
          0.11065515777557662,
          0.11150417433139946,
          0.11178717985000708,
          0.11263619640582992,
          0.11320220744304514,
          0.11390972123956417,
          0.114758737795387,
          0.11532474883260224,
          0.11617376538842507,
          0.11631526814772888,
          0.1167397764256403,
          0.11758879298146314,
          0.11843780953728597,
          0.11956983161171643,
          0.11985283713032405,
          0.12041884816753927,
          0.12070185368614687,
          0.1211263619640583,
          0.12140936748266591,
          0.12254138955709637,
          0.12268289231640017,
          0.12438092542804585,
          0.1255129475024763,
          0.1257959530210839,
          0.12622046129899533,
          0.12735248337342578,
          0.1277769916513372,
          0.12834300268855242,
          0.12862600820716005,
          0.12905051648507146,
          0.1297580302815905,
          0.1303240413188057,
          0.13060704683741334,
          0.13103155511532474,
          0.13131456063393235,
          0.13173906891184378,
          0.13230507994905902,
          0.13343710202348946,
          0.1341446158200085,
          0.1344276213386161,
          0.13513513513513514,
          0.13570114617235035,
          0.13584264893165418,
          0.1364086599688694,
          0.136691665487477,
          0.13711617376538843,
          0.13824819583981887,
          0.13853120135842648,
          0.1389557096363379,
          0.13952172067355315,
          0.14037073722937599,
          0.141078251025895,
          0.14164426206311023,
          0.14221027310032547,
          0.14277628413754068,
          0.14362530069336352,
          0.14461582000849016,
          0.14475732276779396,
          0.1453233338050092,
          0.14617235036083204,
          0.14673836139804727,
          0.14716286967595868,
          0.14730437243526248,
          0.14787038347247772,
          0.14857789726899676,
          0.14900240554690816,
          0.14914390830621196,
          0.1499929248620348,
          0.15070043865855384,
          0.15112494693646525,
          0.15169095797368048,
          0.1518324607329843,
          0.15296448280741473,
          0.154238007641149,
          0.15480401867836424,
          0.15522852695627565,
          0.15579453799349088,
          0.1562190462714023,
          0.15678505730861753,
          0.15720956558652893,
          0.15777557662374417,
          0.1584830904202632,
          0.1587660959388708,
          0.15904910145747841,
          0.15947360973538985,
          0.15989811801330125,
          0.1610301400877317,
          0.16117164284703553,
          0.16173765388425074,
          0.16187915664355454,
          0.16230366492146597,
          0.16258667044007358,
          0.16371869251450402,
          0.16456770907032686,
          0.16470921182963066,
          0.1655582283854535,
          0.16654874770058017,
          0.16683175321918778,
          0.16725626149709918,
          0.16782227253431442,
          0.16810527805292202,
          0.16838828357152966,
          0.16895429460874486,
          0.1693788028866563,
          0.1699448139238715,
          0.1700863166831753,
          0.17036932220178294,
          0.17079383047969435,
          0.17135984151690958,
          0.1716428470355172,
          0.17249186359134003,
          0.17277486910994763,
          0.17319937738785907,
          0.17348238290646667,
          0.1739068911843781,
          0.1741898967029857,
          0.1743313994622895,
          0.17461440498089711,
          0.17518041601811235,
          0.1758879298146314,
          0.176170935333239,
          0.17701995188906183,
          0.17716145464836563,
          0.17744446016697327,
          0.17786896844488467,
          0.17815197396349228,
          0.1785764822414037,
          0.1787179850007075,
          0.17914249327861892,
          0.1801330125937456,
          0.180557520871657,
          0.1808405263902646,
          0.18140653742747984,
          0.18168954294608744,
          0.18225555398330268,
          0.18239705674260648,
          0.18296306777982171,
          0.18310457053912552,
          0.18338757605773312,
          0.18423659261355596,
          0.18451959813216356,
          0.1846611008914674,
          0.1852271119286826,
          0.18607612848450544,
          0.18692514504032828,
          0.1872081505589359,
          0.18734965331823972,
          0.18777416159615112,
          0.18848167539267016,
          0.18876468091127777,
          0.18890618367058157,
          0.1897552002264044,
          0.1898967029857082,
          0.19102872506013868,
          0.1915947360973539,
          0.19201924437526532,
          0.19216074713456913,
          0.19272675817178436,
          0.19315126644969577,
          0.19343427196830337,
          0.1940002830055186,
          0.1942832885241262,
          0.19499080232064525,
          0.19513230507994905,
          0.19541531059855669,
          0.1955568133578605,
          0.1958398188764681,
          0.1962643271543795,
          0.19683033819159473,
          0.19711334371020234,
          0.19810386302532898,
          0.19866987406254422,
          0.19895287958115182,
          0.19937738785906325,
          0.19951889061836706,
          0.19980189613697466,
          0.2005094099334937,
          0.2006509126927975,
          0.20107542097070893,
          0.20164143200792414,
          0.20192443752653177,
          0.20206594028583558,
          0.20249044856374698,
          0.2026319513230508,
          0.20348096787887363,
          0.20404697891608886,
          0.20432998443469647,
          0.2047544927126079,
          0.2048959954719117,
          0.2051790009905193,
          0.2053205037498231,
          0.20588651478703834,
          0.20659402858355738,
          0.20716003962077262,
          0.20744304513938022,
          0.20815055893589926,
          0.20843356445450686,
          0.20857506721381067,
          0.2094240837696335,
          0.2095655865289373,
          0.21041460308476015,
          0.21055610584406395,
          0.21098061412197539,
          0.2115466251591906,
          0.21182963067779823,
          0.21225413895570963,
          0.21253714447431724,
          0.21310315551153247,
          0.21338616103014008,
          0.2138106693080515,
          0.2140936748266591,
          0.21465968586387435,
          0.21480118862317815,
          0.2153671996603934,
          0.215650205179001,
          0.2159332106976086,
          0.21621621621621623,
          0.21649922173482383,
          0.21678222725343144,
          0.21763124380925428,
          0.21777274656855808,
          0.21862176312438092,
          0.21904627140229235,
          0.21961228243950756,
          0.2198952879581152,
          0.2201782934767228,
          0.2206028017546342,
          0.22088580727324184,
          0.22145181831045704,
          0.22159332106976087,
          0.22187632658836848,
          0.22201782934767228,
          0.22286684590349512,
          0.22343285694071036,
          0.22371586245931796,
          0.22385736521862176,
          0.2242818734965332,
          0.2248478845337484,
          0.2249893872930522,
          0.22527239281165984,
          0.22583840384887505,
          0.22640441488609028,
          0.22725343144191312,
          0.22781944247912833,
          0.22824395075703977,
          0.22838545351634357,
          0.2289514645535588,
          0.2293759728314702,
          0.23008348662798925,
          0.23022498938729305,
          0.23050799490590065,
          0.23064949766520448,
          0.2309325031838121,
          0.23149851422102732,
          0.23234753077685014,
          0.23248903353615397,
          0.23277203905476157,
          0.23291354181406537,
          0.2334795528512806,
          0.23390406112919201,
          0.23447007216640725,
          0.23489458044431866,
          0.23503608320362246,
          0.2357435970001415,
          0.23630960803735673,
          0.23645111079666054,
          0.23687561907457194,
          0.23701712183387577,
          0.2378661383896986,
          0.23871515494552142,
          0.23899816046412906,
          0.23942266874204046,
          0.2397056742606481,
          0.2399886797792557,
          0.24069619357577474,
          0.24097919909438234,
          0.24154521013159758,
          0.24168671289090138,
          0.24211122116881278,
          0.24239422668742042,
          0.24281873496533182,
          0.24310174048393943,
          0.24352624876185086,
          0.24380925428045847,
          0.24409225979906607,
          0.2443752653176737,
          0.2449412763548889,
          0.24508277911419274,
          0.24550728739210415,
          0.24564879015140795,
          0.24621480118862318,
          0.24635630394792699,
          0.2466393094665346,
          0.2467808122258384,
          0.24706381774444602,
          0.24748832602235743,
          0.24833734257818027,
          0.2487618508560917,
          0.2490448563746993,
          0.2493278618933069,
          0.24989387293052215,
          0.2501768784491298,
          0.2503183812084336,
          0.2506013867270412,
          0.2510258950049526,
          0.2513089005235602,
          0.251450403282864,
          0.25201641432007926,
          0.25258242535729447,
          0.2527239281165983,
          0.2530069336352059,
          0.2531484363945097,
          0.2534314419131173,
          0.25385595019102875,
          0.25413895570963635,
          0.25470496674685156,
          0.25484646950615536,
          0.25512947502476296,
          0.25626149709919344,
          0.25640299985849724,
          0.2572520164143201,
          0.2578180274515353,
          0.2586670440073581,
          0.25880854676666193,
          0.2592330550445734,
          0.2593745578038772,
          0.2599405688410924,
          0.2606480826376114,
          0.2612140936748267,
          0.2614970991934343,
          0.2619216074713457,
          0.2620631102306495,
          0.2626291212678647,
          0.26319513230507996,
          0.26347813782368756,
          0.26390264610159897,
          0.2641856516202066,
          0.26489316541672564,
          0.26517617093533324,
          0.26560067921324465,
          0.2663081930097637,
          0.2667327012876751,
          0.26786472336210554,
          0.2691382481958398,
          0.2694212537144474,
          0.269704259233055,
          0.2701287675109665,
          0.2704117730295741,
          0.2709777840667893,
          0.2711192868260931,
          0.27182680062261216,
          0.27239281165982737,
          0.2728173199377388,
          0.2731003254563464,
          0.27366633649356165,
          0.27409084477147305,
          0.27423234753077685,
          0.27465685580868826,
          0.27493986132729586,
          0.27508136408659967,
          0.2753643696052073,
          0.27550587236451113,
          0.27578887788311873,
          0.27593038064242253,
          0.27635488892033394,
          0.27677939719824535,
          0.2772039054761568,
          0.2774869109947644,
          0.2779114192726758,
          0.278477430309891,
          0.2789019385878025,
          0.2791849441064101,
          0.2794679496250177,
          0.2801754634215367,
          0.2804584689401443,
          0.2808829772180558,
          0.281448988255271,
          0.2817319937738786,
          0.28215650205179,
          0.2822980048110938,
          0.28258101032970145,
          0.28286401584830906,
          0.28314702136691666,
          0.28328852412622046,
          0.2838545351634357,
          0.2839960379227395,
          0.28442054620065094,
          0.28470355171925854,
          0.28484505447856234,
          0.28512805999716995,
          0.28555256827508135,
          0.28583557379368896,
          0.28597707655299276,
          0.2868260931088156,
          0.28696759586811943,
          0.28725060138672703,
          0.28739210414603084,
          0.28767510966463844,
          0.28781661242394224,
          0.2880996179425499,
          0.2885241262204613,
          0.2886656289797651,
          0.2892316400169803,
          0.2896561482948917,
          0.2900806565728032,
          0.2903636620914108,
          0.290929673128626,
          0.29177868968444887,
          0.2923447007216641,
          0.2926277062402717,
          0.2931937172774869,
          0.29333522003679074,
          0.29375972831470215,
          0.29404273383330976,
          0.29489175038913257,
          0.29545776142634783,
          0.29588226970425924,
          0.29616527522286684,
          0.29658978350077825,
          0.2971557945379935,
          0.2974388000566011,
          0.2980048110938163,
          0.29828781661242393,
          0.29871232489033533,
          0.2988538276496392,
          0.2991368331682468,
          0.2995613414461582,
          0.2998443469647658,
          0.3002688552426772,
          0.3005518607612849,
          0.3011178717985001,
          0.3012593745578039,
          0.3015423800764115,
          0.3019668883543229,
          0.3021083911136267,
          0.30295740766944956,
          0.30324041318805717,
          0.30338191594736097,
          0.3036649214659686,
          0.30408942974388,
          0.30437243526248764,
          0.30465544078109524,
          0.30493844629970285,
          0.30536295457761425,
          0.30578746285552566,
          0.3060704683741333,
          0.3062119711334371,
          0.30663647941134853,
          0.308476015282298,
          0.3087590208009056,
          0.309183529078817,
          0.3096080373567285,
          0.3097495401160323,
          0.3101740483939437,
          0.3103155511532475,
          0.3107400594311589,
          0.3108815621904627,
          0.3111645677090703,
          0.31173057874628557,
          0.312155087024197,
          0.3124380925428046,
          0.3127210980614122,
          0.3130041035800198,
          0.31328710909862745,
          0.31357011461723505,
          0.31371161737653885,
          0.31413612565445026,
          0.31441913117305786,
          0.31456063393236167,
          0.31512664496957693,
          0.31555115324748834,
          0.31583415876609594,
          0.31625866704400735,
          0.31668317532191875,
          0.3169661808405264,
          0.3171076835998302,
          0.3173906891184378,
          0.3175321918777416,
          0.317956700155653,
          0.31823970567426063,
          0.31852271119286824,
          0.3188057167114759,
          0.3192302249893873,
          0.3195132305079949,
          0.3200792415452101,
          0.3205037498231216,
          0.3207867553417292,
          0.320928258101033,
          0.3213527663789444,
          0.321635771897552,
          0.3222017829347672,
          0.32262629121267866,
          0.32290929673128627,
          0.32305079949059007,
          0.3233338050091977,
          0.3238998160464129,
          0.32404131880571674,
          0.32446582708362814,
          0.32460732984293195,
          0.32489033536153955,
          0.32531484363945096,
          0.32559784915805856,
          0.32573935191736236,
          0.32602235743597,
          0.32658836847318523,
          0.32701287675109664,
          0.32729588226970424,
          0.3289939153813499,
          0.3292769208999575,
          0.32941842365926133,
          0.3301259374557804,
          0.330408942974388,
          0.33154096504881847,
          0.3319654733267299,
          0.3323899816046413,
          0.3328144898825527,
          0.3329559926418565,
          0.33323899816046415,
          0.33380500919767936,
          0.33408801471628696,
          0.33451252299419837,
          0.334795528512806,
          0.33507853403141363,
          0.33550304230932504,
          0.33606905334654025,
          0.33649356162445165,
          0.3373425781802745,
          0.3376255836988821,
          0.33790858921748973,
          0.33819159473609733,
          0.3386161030140088,
          0.3388991085326164,
          0.3393236168105278,
          0.3396066223291354,
          0.3400311306070468,
          0.3403141361256545,
          0.3414461582000849,
          0.3417291637186925,
          0.3418706664779963,
          0.34243667751521156,
          0.34271968303381917,
          0.34300268855242677,
          0.3432856940710344,
          0.34413471062685724,
          0.34455921890476865,
          0.34498372718268006,
          0.34526673270128766,
          0.34540823546059146,
          0.3456912409791991,
          0.3458327437385029,
          0.34625725201641433,
          0.34668176029432574,
          0.34710626857223714,
          0.3476722796094524,
          0.3478137823687562,
          0.3482382906466676,
          0.3485212961652752,
          0.3488043016838828,
          0.3496533182397057,
          0.3499363237583133,
          0.3502193292769209,
          0.3505023347955285,
          0.3506438375548323,
          0.3510683458327437,
          0.351634356869959,
          0.3519173623885666,
          0.3520588651478704,
          0.352341870666478,
          0.3524833734257818,
          0.35304938446299705,
          0.35319088722230085,
          0.35361539550021226,
          0.35375689825951606,
          0.35418140653742747,
          0.35446441205603507,
          0.35488892033394653,
          0.35517192585255414,
          0.35545493137116174,
          0.35602094240837695,
          0.35630394792698455,
          0.3565869534455922,
          0.3570114617235036,
          0.357435970001415,
          0.35757747276071883,
          0.35786047827932643,
          0.35828498655723784,
          0.3584264893165417,
          0.3588509975944531,
          0.3598415169095797,
          0.3601245224281874,
          0.3602660251874912,
          0.3608320362247064,
          0.361115041743314,
          0.3613980472619216,
          0.361822555539833,
          0.36238856657704827,
          0.3632375831328711,
          0.3633790858921749,
          0.36394509692939014,
          0.36408659968869395,
          0.36451110796660535,
          0.36479411348521296,
          0.36536012452242816,
          0.36606763831894723,
          0.36649214659685864,
          0.36705815763407384,
          0.3679071741898967,
          0.36903919626432713,
          0.3694637045422386,
          0.3696052073015424,
          0.36988821282015,
          0.3700297155794538,
          0.3703127210980614,
          0.3708787321352766,
          0.37116173765388427,
          0.3714447431724919,
          0.3718692514504033,
          0.3722937597283147,
          0.3725767652469223,
          0.37285977076552995,
          0.37342578180274516,
          0.37370878732135276,
          0.374274798358568,
          0.37469930663647943,
          0.37498231215508704,
          0.37526531767369464,
          0.37554832319230225,
          0.3765388425074289,
          0.3768218480260365,
          0.37738785906325173,
          0.37767086458185933,
          0.37781236734116314,
          0.37809537285977074,
          0.3782368756190746,
          0.3785198811376822,
          0.3790858921748974,
          0.3792273949342012,
          0.3795104004528088,
          0.3800764114900241,
          0.3806424225272393,
          0.3810669308051507,
          0.3813499363237583,
          0.3816329418423659,
          0.38191594736097356,
          0.38234045563888497,
          0.3826234611574926,
          0.383047969435404,
          0.3833309749540116,
          0.38361398047261924,
          0.38389698599122685,
          0.38446299702844206,
          0.38460449978774586,
          0.38488750530635346,
          0.38531201358426487,
          0.3855950191028725,
          0.38587802462148013,
          0.38616103014008774,
          0.38672704117730294,
          0.38701004669591055,
          0.38884958256686003,
          0.3891325880854677,
          0.3895570963633791,
          0.3904061129192019,
          0.391113626715721,
          0.3913966322343286,
          0.3921041460308476,
          0.3923871515494552,
          0.39281165982736665,
          0.39323616810527806,
          0.39351917362388567,
          0.39366067638318947,
          0.39394368190179707,
          0.39521720673553135,
          0.39550021225413895,
          0.39578321777274655,
          0.39606622329135416,
          0.3964907315692656,
          0.3967737370878732,
          0.39719824536578463,
          0.39748125088439223,
          0.39776425640299984,
          0.3980472619216075,
          0.3986132729588227,
          0.3988962784774303,
          0.3993207867553417,
          0.3997452950332531,
          0.399886797792557,
          0.4001698033111646,
          0.4003113060704684,
          0.400594311589076,
          0.4008773171076836,
          0.4011603226262912,
          0.4014433281448988,
          0.40172633366350646,
          0.40229234470072167,
          0.4028583557379369,
          0.4029998584972407,
          0.4032828640158483,
          0.4034243667751521,
          0.40370737229375975,
          0.40413188057167115,
          0.40441488609027876,
          0.40851846611008913,
          0.40880147162869673,
          0.4089429743880006,
          0.4092259799066082,
          0.4096504881845196,
          0.4097919909438234,
          0.410074996462431,
          0.4102164992217348,
          0.4110655157775577,
          0.41318805716711476,
          0.41347106268572237,
          0.4138955709636338,
          0.4141785764822414,
          0.41502759303806425,
          0.41531059855667185,
          0.41587660959388706,
          0.4161596151124947,
          0.41771614546483654,
          0.4182821565020518,
          0.4185651620206594,
          0.418848167539267,
          0.4191311730578746,
          0.4194141785764822,
          0.4202631951323051,
          0.4205462006509127,
          0.4206877034102165,
          0.4209707089288241,
          0.4211122116881279,
          0.4213952172067355,
          0.42167822272534317,
          0.4222442337625584,
          0.4228102447997736,
          0.4230932503183812,
          0.42337625583698885,
          0.42422527239281166,
          0.42450827791141926,
          0.42464978067072306,
          0.42493278618933067,
          0.42564029998584973,
          0.42606480826376114,
          0.42634781378236875,
          0.42677232206028015,
          0.42832885241262203,
          0.42861185793122963,
          0.4291778689684449,
          0.4294608744870525,
          0.4298853827649639,
          0.4301683882835715,
          0.4304513938021791,
          0.4308759020800906,
          0.4311589075986982,
          0.4317249186359134,
          0.432007924154521,
          0.43342295174755907,
          0.4338474600254705,
          0.43413046554407814,
          0.43441347106268574,
          0.43497948209990095,
          0.43540399037781236,
          0.43554549313711616,
          0.4359700014150276,
          0.43710202348945804,
          0.43738502900806564,
          0.4386585538417999,
          0.4389415593604075,
          0.4399320786755342,
          0.4402150841941418,
          0.4404980897127494,
          0.44163011178717987,
          0.4424791283430027,
          0.4429036366209141,
          0.44361115041743315,
          0.44417716145464836,
          0.44516768076977503,
          0.44545068628838264,
          0.44629970284420545,
          0.44658270836281305,
          0.4471487194000283,
          0.4477147304372435,
          0.4478562331965473,
          0.44813923871515493,
          0.44842224423376253,
          0.4487052497523702,
          0.448846752511674,
          0.4491297580302816,
          0.4492712607895854,
          0.449554266308193,
          0.4499787745861044,
          0.4506862883826235,
          0.4509692939012311,
          0.45252582425357296,
          0.45280882977218057,
          0.45323333805009197,
          0.4535163435686996,
          0.4557803877175605,
          0.4560633932361681,
          0.45648790151407953,
          0.45677090703268713,
          0.45705391255129474,
          0.45747842082920614,
          0.4577614263478138,
          0.4596009622187633,
          0.4598839677373709,
          0.4600254704966747,
          0.4603084760152823,
          0.4605914815338899,
          0.4608744870524975,
          0.46129899533040897,
          0.46158200084901657,
          0.4624310174048394,
          0.462714022923447,
          0.46653459742464976,
          0.4668176029432574,
          0.4675251167397764,
          0.46780812225838403,
          0.4685156360549031,
          0.4687986415735107,
          0.4689401443328145,
          0.4695061553700297,
          0.4702136691665487,
          0.4704966746851564,
          0.4713456912409792,
          0.4719117022781944,
          0.47233621055610586,
          0.47261921607471347,
          0.47516626574218196,
          0.47544927126078956,
          0.4757322767793972,
          0.4760152822980048,
          0.47629828781661243,
          0.47658129333522004,
          0.47672279609452384,
          0.47728880713173905,
          0.4775718126503467,
          0.4781378236875619,
          0.4784208292061695,
          0.4796943540399038,
          0.480260365077119,
          0.4820999009480685,
          0.4825244092259799,
          0.48790151407952453,
          0.48818451959813214,
          0.4888920333946512,
          0.4891750389132588,
          0.4901655582283855,
          0.4907315692656007,
          0.4929956134144616,
          0.4932786189330692,
          0.49384462997028444,
          0.49426913824819585,
          0.49582566860053773,
          0.49610867411914533,
          0.49625017687844913,
          0.49653318239705674,
          0.4986557237866138,
          0.49893872930522143,
          0.5004952596575634,
          0.5010612706947786,
          0.5044573369180699,
          0.5047403424366775,
          0.5048818451959813,
          0.5051648507145889,
          0.5087024196971841,
          0.5089854252157917,
          0.5094099334937031,
          0.5096929390123107,
          0.5111079666053489,
          0.5113909721239565,
          0.5159190604216782,
          0.5162020659402858,
          0.5163435686995896,
          0.5166265742181972,
          0.516768076977501,
          0.5170510824961086,
          0.5176170935333239,
          0.5179000990519315,
          0.5184661100891468,
          0.5187491156077544,
          0.5195981321635772,
          0.5201641432007924,
          0.5203056459600962,
          0.5208716569973114,
          0.5224281873496534,
          0.522711192868261,
          0.5228526956275648,
          0.5231357011461724,
          0.5237017121833876,
          0.524126220461299,
          0.524833734257818,
          0.5253997452950333,
          0.5266732701287675,
          0.5269562756473751,
          0.5295033253148437,
          0.5297863308334513,
          0.5309183529078817,
          0.5312013584264893,
          0.5351634356869959,
          0.5354464412056035,
          0.5355879439649073,
          0.5358709494835149,
          0.5388425074288948,
          0.5391255129475024,
          0.5395500212254138,
          0.5398330267440216,
          0.5399745295033254,
          0.5403990377812368,
          0.541672562614971,
          0.5419555681335786,
          0.5491722088580727,
          0.5494552143766803,
          0.5495967171359841,
          0.5498797226545917,
          0.5507287392104147,
          0.5510117447290223,
          0.5511532474883261,
          0.5514362530069337,
          0.555539833026744,
          0.5558228385453516,
          0.5563888495825668,
          0.5566718551011745,
          0.5579453799349088,
          0.5582283854535164,
          0.5607754351209848,
          0.5611999433988962,
          0.5624734682326306,
          0.5627564737512382,
          0.5637469930663648,
          0.5640299985849724,
          0.5647375123814914,
          0.5650205179000991,
          0.5684165841233904,
          0.5686995896419981,
          0.5699731144757323,
          0.5702561199943399,
          0.5709636337908589,
          0.5713881420687703,
          0.572378661383897,
          0.5726616669025046,
          0.573086175180416,
          0.5733691806990237,
          0.5756332248478845,
          0.5759162303664922,
          0.5787462855525682,
          0.5791707938304796,
          0.5829913683316824,
          0.5832743738502901,
          0.5930380642422527,
          0.5933210697608603,
          0.597990660817886,
          0.5982736663364936,
          0.6003962077260506,
          0.6006792132446582,
          0.6022357435970002,
          0.6025187491156078,
          0.6066223291354181,
          0.6069053346540257,
          0.6165275222866846,
          0.6168105278052922,
          0.6186500636762416,
          0.6189330691948493,
          0.619074571954153,
          0.6194990802320646,
          0.6282722513089005,
          0.6285552568275081,
          0.6306777982170653,
          0.6309608037356729,
          0.6325173340880147,
          0.6330833451252299,
          0.6366209141078251,
          0.6369039196264327,
          0.6378944389415594,
          0.638177444460167,
          0.6499221734823829,
          0.6502051790009905,
          0.6548747700580161,
          0.6551577755766237,
          0.657138814206877,
          0.6574218197254846,
          0.6705815763407387,
          0.6708645818593463,
          0.6766661949908023,
          0.67694920050941,
          0.6929390123107401,
          0.6932220178293477,
          0.7014291778689684,
          0.701712183387576,
          0.7150134427621339,
          0.7152964482807415,
          0.8091127776991651,
          0.8093957832177727,
          0.8215650205179001,
          0.8215650205179001,
          0.8269421253714447,
          0.8272251308900523,
          0.8293476722796095,
          0.8293476722796095,
          0.8382623461157492,
          0.8382623461157492,
          0.857506721381067,
          0.857506721381067,
          0.861185793122966,
          0.861185793122966,
          0.8686854393660677,
          0.8686854393660677,
          0.8695344559218905,
          0.8695344559218905,
          0.8706664779963209,
          0.8706664779963209,
          0.8716569973114475,
          0.8716569973114475,
          0.8737795387010047,
          0.8737795387010047,
          0.8744870524975237,
          0.8744870524975237,
          0.882269704259233,
          0.882269704259233,
          0.8831187208150559,
          0.8831187208150559,
          0.8842507428894864,
          0.8842507428894864,
          0.8856657704825244,
          0.8856657704825244,
          0.8865147870383473,
          0.8865147870383473,
          0.8869392953162587,
          0.8869392953162587,
          0.8886373284279043,
          0.8886373284279043,
          0.8925994056884109,
          0.8925994056884109,
          0.8928824112070185,
          0.8928824112070185,
          0.894014433281449,
          0.894014433281449,
          0.8945804443186642,
          0.8945804443186642,
          0.8978350077826518,
          0.8978350077826518,
          0.8996745436536012,
          0.8996745436536012,
          0.9010895712466394,
          0.9010895712466394,
          0.9012310740059432,
          0.9012310740059432,
          0.903495118154804,
          0.903495118154804,
          0.904202631951323,
          0.904202631951323,
          0.9054761567850573,
          0.9054761567850573,
          0.9060421678222725,
          0.9060421678222725,
          0.9064666761001839,
          0.9064666761001839,
          0.9081647092118297,
          0.9081647092118297,
          0.9083062119711335,
          0.9083062119711335,
          0.9088722230083487,
          0.9088722230083487,
          0.9090137257676525,
          0.9090137257676525,
          0.9097212395641715,
          0.9097212395641715,
          0.9101457478420829,
          0.9101457478420829,
          0.9108532616386019,
          0.9108532616386019,
          0.9125512947502477,
          0.9125512947502477,
          0.9126927975095515,
          0.9126927975095515,
          0.9129758030281591,
          0.9129758030281591,
          0.9131173057874629,
          0.9131173057874629,
          0.9132588085467667,
          0.9132588085467667,
          0.9134003113060705,
          0.9134003113060705,
          0.9135418140653743,
          0.9135418140653743,
          0.9138248195839819,
          0.9138248195839819,
          0.9143908306211971,
          0.9143908306211971,
          0.9145323333805009,
          0.9145323333805009,
          0.9146738361398047,
          0.9146738361398047,
          0.9158058582142352,
          0.9158058582142352,
          0.916654874770058,
          0.916654874770058,
          0.9167963775293618,
          0.9167963775293618,
          0.9172208858072732,
          0.9172208858072732,
          0.9176453940851846,
          0.9176453940851846,
          0.9186359134003113,
          0.9186359134003113,
          0.918918918918919,
          0.918918918918919,
          0.9192019244375266,
          0.9192019244375266,
          0.9194849299561342,
          0.9194849299561342,
          0.9197679354747418,
          0.9197679354747418,
          0.9204754492712608,
          0.9204754492712608,
          0.9206169520305646,
          0.9206169520305646,
          0.9208999575491722,
          0.9208999575491722,
          0.9216074713456912,
          0.9216074713456912,
          0.9218904768642988,
          0.9218904768642988,
          0.9225979906608179,
          0.9225979906608179,
          0.9234470072166407,
          0.9234470072166407,
          0.9235885099759445,
          0.9235885099759445,
          0.9237300127352484,
          0.9237300127352484,
          0.9238715154945522,
          0.9238715154945522,
          0.924013018253856,
          0.924013018253856,
          0.9244375265317674,
          0.9244375265317674,
          0.9245790292910712,
          0.9245790292910712,
          0.9248620348096788,
          0.9248620348096788,
          0.9250035375689826,
          0.9250035375689826,
          0.9255695486061978,
          0.9255695486061978,
          0.9257110513655016,
          0.9257110513655016,
          0.9265600679213245,
          0.9265600679213245,
          0.9267015706806283,
          0.9267015706806283,
          0.9272675817178435,
          0.9272675817178435,
          0.9275505872364511,
          0.9275505872364511,
          0.9276920899957549,
          0.9276920899957549,
          0.9286826093108815,
          0.9286826093108815,
          0.9295316258667043,
          0.9295316258667043,
          0.9300976369039197,
          0.9300976369039197,
          0.9305221451818311,
          0.9305221451818311,
          0.9309466534597425,
          0.9309466534597425,
          0.9312296589783501,
          0.9312296589783501,
          0.9313711617376539,
          0.9313711617376539,
          0.9316541672562615,
          0.9316541672562615,
          0.9317956700155653,
          0.9317956700155653,
          0.9319371727748691,
          0.9319371727748691,
          0.9320786755341729,
          0.9320786755341729,
          0.9330691948492995,
          0.9330691948492995,
          0.9336352058865148,
          0.9336352058865148,
          0.9339182114051224,
          0.9339182114051224,
          0.9340597141644262,
          0.9340597141644262,
          0.9346257252016414,
          0.9346257252016414,
          0.9347672279609452,
          0.9347672279609452,
          0.9351917362388567,
          0.9351917362388567,
          0.9356162445167681,
          0.9356162445167681,
          0.9357577472760719,
          0.9357577472760719,
          0.9360407527946795,
          0.9360407527946795,
          0.9361822555539833,
          0.9361822555539833,
          0.9366067638318947,
          0.9366067638318947,
          0.9368897693505024,
          0.9368897693505024,
          0.93717277486911,
          0.93717277486911,
          0.9373142776284138,
          0.9373142776284138,
          0.9377387859063252,
          0.9377387859063252,
          0.9380217914249328,
          0.9380217914249328,
          0.9384462997028442,
          0.9384462997028442,
          0.9387293052214518,
          0.9387293052214518,
          0.9391538134993632,
          0.9391538134993632,
          0.9394368190179708,
          0.9394368190179708,
          0.940002830055186,
          0.940002830055186,
          0.9401443328144898,
          0.9401443328144898,
          0.9402858355737936,
          0.9402858355737936,
          0.9407103438517052,
          0.9407103438517052,
          0.940851846611009,
          0.940851846611009,
          0.9411348521296166,
          0.9411348521296166,
          0.9412763548889204,
          0.9412763548889204,
          0.9414178576482242,
          0.9414178576482242,
          0.941559360407528,
          0.941559360407528,
          0.9417008631668318,
          0.9417008631668318,
          0.9418423659261356,
          0.9418423659261356,
          0.9419838686854394,
          0.9419838686854394,
          0.9421253714447432,
          0.9421253714447432,
          0.9425498797226546,
          0.9425498797226546,
          0.942974388000566,
          0.942974388000566,
          0.9431158907598698,
          0.9431158907598698,
          0.943681901797085,
          0.943681901797085,
          0.9439649073156926,
          0.9439649073156926,
          0.9443894155936041,
          0.9443894155936041,
          0.9445309183529079,
          0.9445309183529079,
          0.9448139238715155,
          0.9448139238715155,
          0.9449554266308193,
          0.9449554266308193,
          0.9455214376680345,
          0.9455214376680345,
          0.9458044431866421,
          0.9458044431866421,
          0.9460874487052497,
          0.9460874487052497,
          0.9462289514645535,
          0.9462289514645535,
          0.946653459742465,
          0.946653459742465,
          0.9472194707796802,
          0.9472194707796802,
          0.947360973538984,
          0.947360973538984,
          0.9475024762982878,
          0.9475024762982878,
          0.9476439790575916,
          0.9476439790575916,
          0.9477854818168955,
          0.9477854818168955,
          0.9479269845761993,
          0.9479269845761993,
          0.9487760011320221,
          0.9487760011320221,
          0.9489175038913259,
          0.9489175038913259,
          0.9492005094099335,
          0.9492005094099335,
          0.9493420121692373,
          0.9493420121692373,
          0.9497665204471487,
          0.9497665204471487,
          0.9499080232064525,
          0.9499080232064525,
          0.9500495259657563,
          0.9500495259657563,
          0.9501910287250601,
          0.9501910287250601,
          0.9503325314843639,
          0.9503325314843639,
          0.9506155370029715,
          0.9506155370029715,
          0.9507570397622753,
          0.9507570397622753,
          0.9508985425215791,
          0.9508985425215791,
          0.9510400452808829,
          0.9510400452808829,
          0.9516060563180982,
          0.9516060563180982,
          0.951747559077402,
          0.951747559077402,
          0.9518890618367059,
          0.9518890618367059,
          0.9520305645960097,
          0.9520305645960097,
          0.9523135701146173,
          0.9523135701146173,
          0.9524550728739211,
          0.9524550728739211,
          0.9531625866704401,
          0.9531625866704401,
          0.9534455921890477,
          0.9534455921890477,
          0.9537285977076553,
          0.9537285977076553,
          0.9538701004669591,
          0.9538701004669591,
          0.9542946087448705,
          0.9542946087448705,
          0.9548606197820857,
          0.9548606197820857,
          0.9550021225413896,
          0.9550021225413896,
          0.9551436253006934,
          0.9551436253006934,
          0.955426630819301,
          0.955426630819301,
          0.9557096363379086,
          0.9557096363379086,
          0.9558511390972124,
          0.9558511390972124,
          0.9559926418565162,
          0.9559926418565162,
          0.95613414461582,
          0.95613414461582,
          0.9565586528937314,
          0.9565586528937314,
          0.956841658412339,
          0.956841658412339,
          0.9569831611716428,
          0.9569831611716428,
          0.9571246639309466,
          0.9571246639309466,
          0.9576906749681618,
          0.9576906749681618,
          0.9578321777274657,
          0.9578321777274657,
          0.9579736804867695,
          0.9579736804867695,
          0.9581151832460733,
          0.9581151832460733,
          0.9582566860053771,
          0.9582566860053771,
          0.9583981887646809,
          0.9583981887646809,
          0.9585396915239848,
          0.9585396915239848,
          0.9586811942832886,
          0.9586811942832886,
          0.9589641998018962,
          0.9589641998018962,
          0.9591057025612,
          0.9591057025612,
          0.959813216357719,
          0.959813216357719,
          0.9599547191170228,
          0.9599547191170228,
          0.960520730154238,
          0.960520730154238,
          0.9609452384321494,
          0.9609452384321494,
          0.961228243950757,
          0.961228243950757,
          0.9613697467100608,
          0.9613697467100608,
          0.9615112494693646,
          0.9615112494693646,
          0.9616527522286684,
          0.9616527522286684,
          0.9617942549879722,
          0.9617942549879722,
          0.961935757747276,
          0.961935757747276,
          0.9620772605065798,
          0.9620772605065798,
          0.9622187632658837,
          0.9622187632658837,
          0.9623602660251875,
          0.9623602660251875,
          0.9625017687844913,
          0.9625017687844913,
          0.962784774303099,
          0.962784774303099,
          0.9629262770624027,
          0.9629262770624027,
          0.9633507853403142,
          0.9633507853403142,
          0.963492288099618,
          0.963492288099618,
          0.9636337908589218,
          0.9636337908589218,
          0.9637752936182256,
          0.9637752936182256,
          0.9639167963775294,
          0.9639167963775294,
          0.9640582991368332,
          0.9640582991368332,
          0.9643413046554408,
          0.9643413046554408,
          0.9644828074147446,
          0.9644828074147446,
          0.9646243101740484,
          0.9646243101740484,
          0.964907315692656,
          0.964907315692656,
          0.9651903212112636,
          0.9651903212112636,
          0.965614829489175,
          0.965614829489175,
          0.9657563322484789,
          0.9657563322484789,
          0.9658978350077827,
          0.9658978350077827,
          0.9661808405263903,
          0.9661808405263903,
          0.9664638460449979,
          0.9664638460449979,
          0.9666053488043017,
          0.9666053488043017,
          0.9668883543229093,
          0.9668883543229093,
          0.9670298570822131,
          0.9670298570822131,
          0.9673128626008207,
          0.9673128626008207,
          0.9674543653601245,
          0.9674543653601245,
          0.9675958681194283,
          0.9675958681194283,
          0.9678788736380359,
          0.9678788736380359,
          0.9681618791566435,
          0.9681618791566435,
          0.9683033819159473,
          0.9683033819159473,
          0.9684448846752511,
          0.9684448846752511,
          0.9690108957124663,
          0.9690108957124663,
          0.9691523984717701,
          0.9691523984717701,
          0.9694354039903779,
          0.9694354039903779,
          0.9701429177868969,
          0.9701429177868969,
          0.9702844205462007,
          0.9702844205462007,
          0.9704259233055045,
          0.9704259233055045,
          0.9705674260648083,
          0.9705674260648083,
          0.9707089288241121,
          0.9707089288241121,
          0.9708504315834159,
          0.9708504315834159,
          0.9709919343427197,
          0.9709919343427197,
          0.9711334371020235,
          0.9711334371020235,
          0.9714164426206311,
          0.9714164426206311,
          0.9715579453799349,
          0.9715579453799349,
          0.9716994481392387,
          0.9716994481392387,
          0.9718409508985425,
          0.9718409508985425,
          0.9721239564171501,
          0.9721239564171501,
          0.9722654591764539,
          0.9722654591764539,
          0.9724069619357577,
          0.9724069619357577,
          0.9725484646950615,
          0.9725484646950615,
          0.9728314702136691,
          0.9728314702136691,
          0.9733974812508844,
          0.9733974812508844,
          0.9735389840101882,
          0.9735389840101882,
          0.973680486769492,
          0.973680486769492,
          0.9739634922880996,
          0.9739634922880996,
          0.9741049950474034,
          0.9741049950474034,
          0.974388000566011,
          0.974388000566011,
          0.9745295033253148,
          0.9745295033253148,
          0.9746710060846187,
          0.9746710060846187,
          0.9748125088439225,
          0.9748125088439225,
          0.9750955143625301,
          0.9750955143625301,
          0.9753785198811377,
          0.9753785198811377,
          0.9755200226404415,
          0.9755200226404415,
          0.9756615253997453,
          0.9756615253997453,
          0.9758030281590491,
          0.9758030281590491,
          0.9759445309183529,
          0.9759445309183529,
          0.9760860336776567,
          0.9760860336776567,
          0.9765105419555681,
          0.9765105419555681,
          0.976652044714872,
          0.976652044714872,
          0.9769350502334796,
          0.9769350502334796,
          0.9770765529927834,
          0.9770765529927834,
          0.977359558511391,
          0.977359558511391,
          0.9775010612706948,
          0.9775010612706948,
          0.9777840667893024,
          0.9777840667893024,
          0.97806707230791,
          0.97806707230791,
          0.9782085750672138,
          0.9782085750672138,
          0.9783500778265176,
          0.9783500778265176,
          0.9784915805858214,
          0.9784915805858214,
          0.978774586104429,
          0.978774586104429,
          0.9789160888637328,
          0.9789160888637328,
          0.9790575916230366,
          0.9790575916230366,
          0.9791990943823404,
          0.9791990943823404,
          0.9793405971416442,
          0.9793405971416442,
          0.979482099900948,
          0.979482099900948,
          0.9796236026602518,
          0.9796236026602518,
          0.9797651054195556,
          0.9797651054195556,
          0.9799066081788594,
          0.9799066081788594,
          0.9800481109381632,
          0.9800481109381632,
          0.9801896136974672,
          0.9801896136974672,
          0.980331116456771,
          0.980331116456771,
          0.9806141219753786,
          0.9806141219753786,
          0.9807556247346824,
          0.9807556247346824,
          0.9808971274939862,
          0.9808971274939862,
          0.98103863025329,
          0.98103863025329,
          0.9811801330125938,
          0.9811801330125938,
          0.9813216357718976,
          0.9813216357718976,
          0.9814631385312014,
          0.9814631385312014,
          0.9816046412905052,
          0.9816046412905052,
          0.9820291495684166,
          0.9820291495684166,
          0.9821706523277204,
          0.9821706523277204,
          0.982453657846328,
          0.982453657846328,
          0.9825951606056318,
          0.9825951606056318,
          0.9827366633649356,
          0.9827366633649356,
          0.9828781661242394,
          0.9828781661242394,
          0.983161171642847,
          0.983161171642847,
          0.9833026744021508,
          0.9833026744021508,
          0.9835856799207584,
          0.9835856799207584,
          0.9837271826800622,
          0.9837271826800622,
          0.9840101881986699,
          0.9840101881986699,
          0.9841516909579737,
          0.9841516909579737,
          0.9842931937172775,
          0.9842931937172775,
          0.9845761992358851,
          0.9845761992358851,
          0.9847177019951889,
          0.9847177019951889,
          0.9848592047544927,
          0.9848592047544927,
          0.9850007075137965,
          0.9850007075137965,
          0.9852837130324041,
          0.9852837130324041,
          0.9854252157917079,
          0.9854252157917079,
          0.9855667185510117,
          0.9855667185510117,
          0.9857082213103155,
          0.9857082213103155,
          0.9858497240696193,
          0.9858497240696193,
          0.9859912268289232,
          0.9859912268289232,
          0.986132729588227,
          0.986132729588227,
          0.9862742323475308,
          0.9862742323475308,
          0.9864157351068346,
          0.9864157351068346,
          0.9866987406254422,
          0.9866987406254422,
          0.9869817461440498,
          0.9869817461440498,
          0.9871232489033536,
          0.9871232489033536,
          0.9872647516626574,
          0.9872647516626574,
          0.9874062544219613,
          0.9874062544219613,
          0.9875477571812651,
          0.9875477571812651,
          0.9876892599405689,
          0.9876892599405689,
          0.9881137682184803,
          0.9881137682184803,
          0.9882552709777841,
          0.9882552709777841,
          0.9883967737370879,
          0.9883967737370879,
          0.9886797792556955,
          0.9886797792556955,
          0.9892457902929107,
          0.9892457902929107,
          0.9893872930522145,
          0.9893872930522145,
          0.9895287958115183,
          0.9895287958115183,
          0.9896702985708221,
          0.9896702985708221,
          0.9898118013301259,
          0.9898118013301259,
          0.9899533040894297,
          0.9899533040894297,
          0.9900948068487335,
          0.9900948068487335,
          0.9902363096080373,
          0.9902363096080373,
          0.9903778123673411,
          0.9903778123673411,
          0.9905193151266449,
          0.9905193151266449,
          0.9906608178859487,
          0.9906608178859487,
          0.9908023206452525,
          0.9908023206452525,
          0.9909438234045563,
          0.9909438234045563,
          0.9910853261638602,
          0.9910853261638602,
          0.991226828923164,
          0.991226828923164,
          0.9915098344417717,
          0.9915098344417717,
          0.9917928399603793,
          0.9917928399603793,
          0.9919343427196831,
          0.9919343427196831,
          0.9920758454789869,
          0.9920758454789869,
          0.9922173482382907,
          0.9922173482382907,
          0.9923588509975945,
          0.9923588509975945,
          0.9925003537568983,
          0.9925003537568983,
          0.9926418565162021,
          0.9926418565162021,
          0.9927833592755059,
          0.9927833592755059,
          0.9929248620348097,
          0.9929248620348097,
          0.9930663647941135,
          0.9930663647941135,
          0.9932078675534173,
          0.9932078675534173,
          0.9933493703127211,
          0.9933493703127211,
          0.9934908730720249,
          0.9934908730720249,
          0.9936323758313287,
          0.9936323758313287,
          0.9937738785906325,
          0.9937738785906325,
          0.9939153813499363,
          0.9939153813499363,
          0.9941983868685439,
          0.9941983868685439,
          0.9943398896278477,
          0.9943398896278477,
          0.9944813923871515,
          0.9944813923871515,
          0.9946228951464554,
          0.9946228951464554,
          0.994905900665063,
          0.994905900665063,
          0.9950474034243668,
          0.9950474034243668,
          0.9951889061836706,
          0.9951889061836706,
          0.9954719117022782,
          0.9954719117022782,
          0.995613414461582,
          0.995613414461582,
          0.9957549172208858,
          0.9957549172208858,
          0.9958964199801896,
          0.9958964199801896,
          0.9960379227394934,
          0.9960379227394934,
          0.9961794254987972,
          0.9961794254987972,
          0.996320928258101,
          0.996320928258101,
          0.9964624310174048,
          0.9964624310174048,
          0.9966039337767086,
          0.9966039337767086,
          0.9967454365360124,
          0.9967454365360124,
          0.9968869392953162,
          0.9968869392953162,
          0.99702844205462,
          0.99702844205462,
          0.9971699448139238,
          0.9971699448139238,
          0.9973114475732276,
          0.9973114475732276,
          0.9974529503325315,
          0.9974529503325315,
          0.9975944530918353,
          0.9975944530918353,
          0.9977359558511391,
          0.9977359558511391,
          0.9978774586104429,
          0.9978774586104429,
          0.9980189613697467,
          0.9980189613697467,
          0.9981604641290505,
          0.9981604641290505,
          0.9983019668883544,
          0.9983019668883544,
          0.9984434696476582,
          0.9984434696476582,
          0.998584972406962,
          0.998584972406962,
          0.9987264751662658,
          0.9987264751662658,
          0.9988679779255696,
          0.9988679779255696,
          0.9990094806848734,
          0.9990094806848734,
          0.9991509834441772,
          0.9991509834441772,
          0.999292486203481,
          0.999292486203481,
          0.9994339889627848,
          0.9994339889627848,
          0.9995754917220886,
          0.9995754917220886,
          0.9997169944813924,
          0.9997169944813924,
          0.9998584972406962,
          0.9998584972406962,
          1,
          1
         ],
         "yaxis": "y"
        },
        {
         "line": {
          "color": "firebrick",
          "dash": "dash"
         },
         "name": "diagonal",
         "type": "scatter",
         "x": [
          0,
          1
         ],
         "y": [
          0,
          1
         ]
        }
       ],
       "layout": {
        "height": 500,
        "legend": {
         "tracegroupgap": 0
        },
        "shapes": [
         {
          "line": {
           "dash": "dash"
          },
          "type": "line",
          "x0": 0,
          "x1": 1,
          "y0": 0,
          "y1": 1
         }
        ],
        "template": {
         "data": {
          "bar": [
           {
            "error_x": {
             "color": "#2a3f5f"
            },
            "error_y": {
             "color": "#2a3f5f"
            },
            "marker": {
             "line": {
              "color": "#E5ECF6",
              "width": 0.5
             },
             "pattern": {
              "fillmode": "overlay",
              "size": 10,
              "solidity": 0.2
             }
            },
            "type": "bar"
           }
          ],
          "barpolar": [
           {
            "marker": {
             "line": {
              "color": "#E5ECF6",
              "width": 0.5
             },
             "pattern": {
              "fillmode": "overlay",
              "size": 10,
              "solidity": 0.2
             }
            },
            "type": "barpolar"
           }
          ],
          "carpet": [
           {
            "aaxis": {
             "endlinecolor": "#2a3f5f",
             "gridcolor": "white",
             "linecolor": "white",
             "minorgridcolor": "white",
             "startlinecolor": "#2a3f5f"
            },
            "baxis": {
             "endlinecolor": "#2a3f5f",
             "gridcolor": "white",
             "linecolor": "white",
             "minorgridcolor": "white",
             "startlinecolor": "#2a3f5f"
            },
            "type": "carpet"
           }
          ],
          "choropleth": [
           {
            "colorbar": {
             "outlinewidth": 0,
             "ticks": ""
            },
            "type": "choropleth"
           }
          ],
          "contour": [
           {
            "colorbar": {
             "outlinewidth": 0,
             "ticks": ""
            },
            "colorscale": [
             [
              0,
              "#0d0887"
             ],
             [
              0.1111111111111111,
              "#46039f"
             ],
             [
              0.2222222222222222,
              "#7201a8"
             ],
             [
              0.3333333333333333,
              "#9c179e"
             ],
             [
              0.4444444444444444,
              "#bd3786"
             ],
             [
              0.5555555555555556,
              "#d8576b"
             ],
             [
              0.6666666666666666,
              "#ed7953"
             ],
             [
              0.7777777777777778,
              "#fb9f3a"
             ],
             [
              0.8888888888888888,
              "#fdca26"
             ],
             [
              1,
              "#f0f921"
             ]
            ],
            "type": "contour"
           }
          ],
          "contourcarpet": [
           {
            "colorbar": {
             "outlinewidth": 0,
             "ticks": ""
            },
            "type": "contourcarpet"
           }
          ],
          "heatmap": [
           {
            "colorbar": {
             "outlinewidth": 0,
             "ticks": ""
            },
            "colorscale": [
             [
              0,
              "#0d0887"
             ],
             [
              0.1111111111111111,
              "#46039f"
             ],
             [
              0.2222222222222222,
              "#7201a8"
             ],
             [
              0.3333333333333333,
              "#9c179e"
             ],
             [
              0.4444444444444444,
              "#bd3786"
             ],
             [
              0.5555555555555556,
              "#d8576b"
             ],
             [
              0.6666666666666666,
              "#ed7953"
             ],
             [
              0.7777777777777778,
              "#fb9f3a"
             ],
             [
              0.8888888888888888,
              "#fdca26"
             ],
             [
              1,
              "#f0f921"
             ]
            ],
            "type": "heatmap"
           }
          ],
          "heatmapgl": [
           {
            "colorbar": {
             "outlinewidth": 0,
             "ticks": ""
            },
            "colorscale": [
             [
              0,
              "#0d0887"
             ],
             [
              0.1111111111111111,
              "#46039f"
             ],
             [
              0.2222222222222222,
              "#7201a8"
             ],
             [
              0.3333333333333333,
              "#9c179e"
             ],
             [
              0.4444444444444444,
              "#bd3786"
             ],
             [
              0.5555555555555556,
              "#d8576b"
             ],
             [
              0.6666666666666666,
              "#ed7953"
             ],
             [
              0.7777777777777778,
              "#fb9f3a"
             ],
             [
              0.8888888888888888,
              "#fdca26"
             ],
             [
              1,
              "#f0f921"
             ]
            ],
            "type": "heatmapgl"
           }
          ],
          "histogram": [
           {
            "marker": {
             "pattern": {
              "fillmode": "overlay",
              "size": 10,
              "solidity": 0.2
             }
            },
            "type": "histogram"
           }
          ],
          "histogram2d": [
           {
            "colorbar": {
             "outlinewidth": 0,
             "ticks": ""
            },
            "colorscale": [
             [
              0,
              "#0d0887"
             ],
             [
              0.1111111111111111,
              "#46039f"
             ],
             [
              0.2222222222222222,
              "#7201a8"
             ],
             [
              0.3333333333333333,
              "#9c179e"
             ],
             [
              0.4444444444444444,
              "#bd3786"
             ],
             [
              0.5555555555555556,
              "#d8576b"
             ],
             [
              0.6666666666666666,
              "#ed7953"
             ],
             [
              0.7777777777777778,
              "#fb9f3a"
             ],
             [
              0.8888888888888888,
              "#fdca26"
             ],
             [
              1,
              "#f0f921"
             ]
            ],
            "type": "histogram2d"
           }
          ],
          "histogram2dcontour": [
           {
            "colorbar": {
             "outlinewidth": 0,
             "ticks": ""
            },
            "colorscale": [
             [
              0,
              "#0d0887"
             ],
             [
              0.1111111111111111,
              "#46039f"
             ],
             [
              0.2222222222222222,
              "#7201a8"
             ],
             [
              0.3333333333333333,
              "#9c179e"
             ],
             [
              0.4444444444444444,
              "#bd3786"
             ],
             [
              0.5555555555555556,
              "#d8576b"
             ],
             [
              0.6666666666666666,
              "#ed7953"
             ],
             [
              0.7777777777777778,
              "#fb9f3a"
             ],
             [
              0.8888888888888888,
              "#fdca26"
             ],
             [
              1,
              "#f0f921"
             ]
            ],
            "type": "histogram2dcontour"
           }
          ],
          "mesh3d": [
           {
            "colorbar": {
             "outlinewidth": 0,
             "ticks": ""
            },
            "type": "mesh3d"
           }
          ],
          "parcoords": [
           {
            "line": {
             "colorbar": {
              "outlinewidth": 0,
              "ticks": ""
             }
            },
            "type": "parcoords"
           }
          ],
          "pie": [
           {
            "automargin": true,
            "type": "pie"
           }
          ],
          "scatter": [
           {
            "fillpattern": {
             "fillmode": "overlay",
             "size": 10,
             "solidity": 0.2
            },
            "type": "scatter"
           }
          ],
          "scatter3d": [
           {
            "line": {
             "colorbar": {
              "outlinewidth": 0,
              "ticks": ""
             }
            },
            "marker": {
             "colorbar": {
              "outlinewidth": 0,
              "ticks": ""
             }
            },
            "type": "scatter3d"
           }
          ],
          "scattercarpet": [
           {
            "marker": {
             "colorbar": {
              "outlinewidth": 0,
              "ticks": ""
             }
            },
            "type": "scattercarpet"
           }
          ],
          "scattergeo": [
           {
            "marker": {
             "colorbar": {
              "outlinewidth": 0,
              "ticks": ""
             }
            },
            "type": "scattergeo"
           }
          ],
          "scattergl": [
           {
            "marker": {
             "colorbar": {
              "outlinewidth": 0,
              "ticks": ""
             }
            },
            "type": "scattergl"
           }
          ],
          "scattermapbox": [
           {
            "marker": {
             "colorbar": {
              "outlinewidth": 0,
              "ticks": ""
             }
            },
            "type": "scattermapbox"
           }
          ],
          "scatterpolar": [
           {
            "marker": {
             "colorbar": {
              "outlinewidth": 0,
              "ticks": ""
             }
            },
            "type": "scatterpolar"
           }
          ],
          "scatterpolargl": [
           {
            "marker": {
             "colorbar": {
              "outlinewidth": 0,
              "ticks": ""
             }
            },
            "type": "scatterpolargl"
           }
          ],
          "scatterternary": [
           {
            "marker": {
             "colorbar": {
              "outlinewidth": 0,
              "ticks": ""
             }
            },
            "type": "scatterternary"
           }
          ],
          "surface": [
           {
            "colorbar": {
             "outlinewidth": 0,
             "ticks": ""
            },
            "colorscale": [
             [
              0,
              "#0d0887"
             ],
             [
              0.1111111111111111,
              "#46039f"
             ],
             [
              0.2222222222222222,
              "#7201a8"
             ],
             [
              0.3333333333333333,
              "#9c179e"
             ],
             [
              0.4444444444444444,
              "#bd3786"
             ],
             [
              0.5555555555555556,
              "#d8576b"
             ],
             [
              0.6666666666666666,
              "#ed7953"
             ],
             [
              0.7777777777777778,
              "#fb9f3a"
             ],
             [
              0.8888888888888888,
              "#fdca26"
             ],
             [
              1,
              "#f0f921"
             ]
            ],
            "type": "surface"
           }
          ],
          "table": [
           {
            "cells": {
             "fill": {
              "color": "#EBF0F8"
             },
             "line": {
              "color": "white"
             }
            },
            "header": {
             "fill": {
              "color": "#C8D4E3"
             },
             "line": {
              "color": "white"
             }
            },
            "type": "table"
           }
          ]
         },
         "layout": {
          "annotationdefaults": {
           "arrowcolor": "#2a3f5f",
           "arrowhead": 0,
           "arrowwidth": 1
          },
          "autotypenumbers": "strict",
          "coloraxis": {
           "colorbar": {
            "outlinewidth": 0,
            "ticks": ""
           }
          },
          "colorscale": {
           "diverging": [
            [
             0,
             "#8e0152"
            ],
            [
             0.1,
             "#c51b7d"
            ],
            [
             0.2,
             "#de77ae"
            ],
            [
             0.3,
             "#f1b6da"
            ],
            [
             0.4,
             "#fde0ef"
            ],
            [
             0.5,
             "#f7f7f7"
            ],
            [
             0.6,
             "#e6f5d0"
            ],
            [
             0.7,
             "#b8e186"
            ],
            [
             0.8,
             "#7fbc41"
            ],
            [
             0.9,
             "#4d9221"
            ],
            [
             1,
             "#276419"
            ]
           ],
           "sequential": [
            [
             0,
             "#0d0887"
            ],
            [
             0.1111111111111111,
             "#46039f"
            ],
            [
             0.2222222222222222,
             "#7201a8"
            ],
            [
             0.3333333333333333,
             "#9c179e"
            ],
            [
             0.4444444444444444,
             "#bd3786"
            ],
            [
             0.5555555555555556,
             "#d8576b"
            ],
            [
             0.6666666666666666,
             "#ed7953"
            ],
            [
             0.7777777777777778,
             "#fb9f3a"
            ],
            [
             0.8888888888888888,
             "#fdca26"
            ],
            [
             1,
             "#f0f921"
            ]
           ],
           "sequentialminus": [
            [
             0,
             "#0d0887"
            ],
            [
             0.1111111111111111,
             "#46039f"
            ],
            [
             0.2222222222222222,
             "#7201a8"
            ],
            [
             0.3333333333333333,
             "#9c179e"
            ],
            [
             0.4444444444444444,
             "#bd3786"
            ],
            [
             0.5555555555555556,
             "#d8576b"
            ],
            [
             0.6666666666666666,
             "#ed7953"
            ],
            [
             0.7777777777777778,
             "#fb9f3a"
            ],
            [
             0.8888888888888888,
             "#fdca26"
            ],
            [
             1,
             "#f0f921"
            ]
           ]
          },
          "colorway": [
           "#636efa",
           "#EF553B",
           "#00cc96",
           "#ab63fa",
           "#FFA15A",
           "#19d3f3",
           "#FF6692",
           "#B6E880",
           "#FF97FF",
           "#FECB52"
          ],
          "font": {
           "color": "#2a3f5f"
          },
          "geo": {
           "bgcolor": "white",
           "lakecolor": "white",
           "landcolor": "#E5ECF6",
           "showlakes": true,
           "showland": true,
           "subunitcolor": "white"
          },
          "hoverlabel": {
           "align": "left"
          },
          "hovermode": "closest",
          "mapbox": {
           "style": "light"
          },
          "paper_bgcolor": "white",
          "plot_bgcolor": "#E5ECF6",
          "polar": {
           "angularaxis": {
            "gridcolor": "white",
            "linecolor": "white",
            "ticks": ""
           },
           "bgcolor": "#E5ECF6",
           "radialaxis": {
            "gridcolor": "white",
            "linecolor": "white",
            "ticks": ""
           }
          },
          "scene": {
           "xaxis": {
            "backgroundcolor": "#E5ECF6",
            "gridcolor": "white",
            "gridwidth": 2,
            "linecolor": "white",
            "showbackground": true,
            "ticks": "",
            "zerolinecolor": "white"
           },
           "yaxis": {
            "backgroundcolor": "#E5ECF6",
            "gridcolor": "white",
            "gridwidth": 2,
            "linecolor": "white",
            "showbackground": true,
            "ticks": "",
            "zerolinecolor": "white"
           },
           "zaxis": {
            "backgroundcolor": "#E5ECF6",
            "gridcolor": "white",
            "gridwidth": 2,
            "linecolor": "white",
            "showbackground": true,
            "ticks": "",
            "zerolinecolor": "white"
           }
          },
          "shapedefaults": {
           "line": {
            "color": "#2a3f5f"
           }
          },
          "ternary": {
           "aaxis": {
            "gridcolor": "white",
            "linecolor": "white",
            "ticks": ""
           },
           "baxis": {
            "gridcolor": "white",
            "linecolor": "white",
            "ticks": ""
           },
           "bgcolor": "#E5ECF6",
           "caxis": {
            "gridcolor": "white",
            "linecolor": "white",
            "ticks": ""
           }
          },
          "title": {
           "x": 0.05
          },
          "xaxis": {
           "automargin": true,
           "gridcolor": "white",
           "linecolor": "white",
           "ticks": "",
           "title": {
            "standoff": 15
           },
           "zerolinecolor": "white",
           "zerolinewidth": 2
          },
          "yaxis": {
           "automargin": true,
           "gridcolor": "white",
           "linecolor": "white",
           "ticks": "",
           "title": {
            "standoff": 15
           },
           "zerolinecolor": "white",
           "zerolinewidth": 2
          }
         }
        },
        "title": {
         "text": "ROC Curve (AUC=0.9934)"
        },
        "width": 700,
        "xaxis": {
         "anchor": "y",
         "domain": [
          0,
          1
         ],
         "title": {
          "text": "False Positive Rate"
         }
        },
        "yaxis": {
         "anchor": "x",
         "domain": [
          0,
          1
         ],
         "title": {
          "text": "True Positive Rate"
         }
        }
       }
      }
     },
     "metadata": {},
     "output_type": "display_data"
    }
   ],
   "source": [
    "from sklearn.metrics import roc_curve, auc\n",
    "\n",
    "# Some post training visualizations\n",
    "# Feature Importance\n",
    "# Feature Importance\n",
    "feature_importance = model.feature_importances_\n",
    "sorted_idx = np.argsort(feature_importance)[::-1]\n",
    "\n",
    "fig = px.bar(x=X.columns[sorted_idx], y=feature_importance[sorted_idx], labels={'x':'Feature', 'y':'Importance'}, title='Feature Importance')\n",
    "fig.show()\n",
    "\n",
    "# Confusion Matrix\n",
    "fig = px.imshow(cm, labels=dict(x=\"Predicted\", y=\"Actual\", color=\"Count\"), x=['Neutral or Dissatisfied', 'Satisfied'], y=['Neutral or Dissatisfied', 'Satisfied'])\n",
    "fig.show()\n",
    "\n",
    "# ROC Curve\n",
    "y_pred_proba = model.predict_proba(X_test)[:,1]\n",
    "fpr, tpr, _ = roc_curve(y_test, y_pred_proba)\n",
    "roc_auc = auc(fpr, tpr)\n",
    "\n",
    "fig = px.area(\n",
    "    x=fpr, y=tpr,\n",
    "    title=f'ROC Curve (AUC={roc_auc:.4f})',\n",
    "    labels=dict(x='False Positive Rate', y='True Positive Rate'),\n",
    "    width=700, height=500\n",
    ")\n",
    "fig.add_shape(\n",
    "    type='line', line=dict(dash='dash'),\n",
    "    x0=0, x1=1, y0=0, y1=1\n",
    ")\n",
    "\n",
    "fig.add_trace(go.Scatter(x=[0, 1], y=[0, 1], line=dict(color='firebrick', dash='dash'), name='diagonal'))\n",
    "fig.show()"
   ]
  }
 ],
 "metadata": {
  "kernelspec": {
   "display_name": "ML",
   "language": "python",
   "name": "python3"
  },
  "language_info": {
   "codemirror_mode": {
    "name": "ipython",
    "version": 3
   },
   "file_extension": ".py",
   "mimetype": "text/x-python",
   "name": "python",
   "nbconvert_exporter": "python",
   "pygments_lexer": "ipython3",
   "version": "3.13.0"
  }
 },
 "nbformat": 4,
 "nbformat_minor": 2
}
